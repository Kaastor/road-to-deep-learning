{
 "cells": [
  {
   "cell_type": "markdown",
   "source": [
    "## Andrej Karpathy\n",
    "[Introduction to neural networks and backpropagation](https://www.youtube.com/watch?v=VMj-3S1tku0&list=PLAqhIrjkxbuWI23v9cThsA9GvCAUhRvKZ&index=23&t=228s)\n",
    "### Derivatives\n"
   ],
   "metadata": {
    "collapsed": false,
    "pycharm": {
     "name": "#%% md\n"
    }
   }
  },
  {
   "cell_type": "code",
   "execution_count": 57,
   "outputs": [],
   "source": [
    "import math\n",
    "import numpy as np\n",
    "import matplotlib.pyplot as plt\n",
    "%matplotlib inline"
   ],
   "metadata": {
    "collapsed": false,
    "pycharm": {
     "name": "#%%\n"
    }
   }
  },
  {
   "cell_type": "code",
   "execution_count": 58,
   "outputs": [],
   "source": [
    "def f(x):\n",
    "    return 3*x**2 - 4*x + 5"
   ],
   "metadata": {
    "collapsed": false,
    "pycharm": {
     "name": "#%%\n"
    }
   }
  },
  {
   "cell_type": "code",
   "execution_count": 59,
   "outputs": [
    {
     "data": {
      "text/plain": "20.0"
     },
     "execution_count": 59,
     "metadata": {},
     "output_type": "execute_result"
    }
   ],
   "source": [
    "f(3.0)"
   ],
   "metadata": {
    "collapsed": false,
    "pycharm": {
     "name": "#%%\n"
    }
   }
  },
  {
   "cell_type": "code",
   "execution_count": 60,
   "outputs": [
    {
     "data": {
      "text/plain": "[<matplotlib.lines.Line2D at 0x7fcb96e6d048>]"
     },
     "execution_count": 60,
     "metadata": {},
     "output_type": "execute_result"
    },
    {
     "data": {
      "text/plain": "<Figure size 432x288 with 1 Axes>",
      "image/png": "[encoded data removed]"
     },
     "metadata": {
      "needs_background": "light"
     },
     "output_type": "display_data"
    }
   ],
   "source": [
    "xs = np.arange(-5, 5, 0.25)  # tab from -5 to 5 with step of 0.25\n",
    "ys = f(xs)\n",
    "plt.plot(xs, ys)"
   ],
   "metadata": {
    "collapsed": false,
    "pycharm": {
     "name": "#%%\n"
    }
   }
  },
  {
   "cell_type": "markdown",
   "source": [
    "From [definition](https://en.wikipedia.org/wiki/Derivative).\n",
    "What interest us? We want to know how much the function will respond if we take a tiny step on x-axis. Will the value increase or decrease? By how much (how quickly let's say)\n",
    "Derivative can tell us the speed of that change."
   ],
   "metadata": {
    "collapsed": false,
    "pycharm": {
     "name": "#%% md\n"
    }
   }
  },
  {
   "cell_type": "code",
   "execution_count": 61,
   "outputs": [
    {
     "data": {
      "text/plain": "14.000001158365194"
     },
     "execution_count": 61,
     "metadata": {},
     "output_type": "execute_result"
    }
   ],
   "source": [
    "h = 0.000000001\n",
    "x = 3.0\n",
    "function_response = f(x + h) - f(x)  # to the tiny step in positive dir\n",
    "slope = function_response/h  # normalize by step\n",
    "slope  # in other words, the derivative at point x=3"
   ],
   "metadata": {
    "collapsed": false,
    "pycharm": {
     "name": "#%%\n"
    }
   }
  },
  {
   "cell_type": "markdown",
   "source": [
    "Let's get more complex. Function will be dependent on three inputs. We would like to know how it will behave when we will change only one of the variables."
   ],
   "metadata": {
    "collapsed": false,
    "pycharm": {
     "name": "#%% md\n"
    }
   }
  },
  {
   "cell_type": "code",
   "execution_count": 62,
   "outputs": [
    {
     "data": {
      "text/plain": "4.0"
     },
     "execution_count": 62,
     "metadata": {},
     "output_type": "execute_result"
    }
   ],
   "source": [
    "h = 0.00001\n",
    "a = 2.0\n",
    "b = -3.0\n",
    "c = 10.0\n",
    "d = a*b + c\n",
    "d"
   ],
   "metadata": {
    "collapsed": false,
    "pycharm": {
     "name": "#%%\n"
    }
   }
  },
  {
   "cell_type": "code",
   "execution_count": 63,
   "outputs": [
    {
     "name": "stdout",
     "output_type": "stream",
     "text": [
      "d1 4.0\n",
      "d2 3.9999699999999994\n"
     ]
    },
    {
     "data": {
      "text/plain": "-3.000000000064062"
     },
     "execution_count": 63,
     "metadata": {},
     "output_type": "execute_result"
    }
   ],
   "source": [
    "d1 = a*b + c\n",
    "a += h  # increase only a (try other variables to see the derivative)\n",
    "d2 = a*b + c\n",
    "slope = (d2 - d1)/h\n",
    "print('d1', d1)\n",
    "print('d2', d2)\n",
    "slope # change of the function when we increase a\n",
    "\n",
    "# we can examine how this function will behave with respect to all the inputs (a, b or c) too"
   ],
   "metadata": {
    "collapsed": false,
    "pycharm": {
     "name": "#%%\n"
    }
   }
  },
  {
   "cell_type": "markdown",
   "source": [
    "## Value Object"
   ],
   "metadata": {
    "collapsed": false,
    "pycharm": {
     "name": "#%% md\n"
    }
   }
  },
  {
   "cell_type": "code",
   "execution_count": 95,
   "outputs": [
    {
     "data": {
      "text/plain": "Value(data=-8.0)"
     },
     "execution_count": 95,
     "metadata": {},
     "output_type": "execute_result"
    }
   ],
   "source": [
    "class Value:\n",
    "\n",
    "    def __init__(self, data, _children=(), _op='', label=''):\n",
    "        self.data = data\n",
    "        self.grad = 0.0  # variable which holds value of the gradient with respect to L, initially 0 (no effect on L, so changing the value do not change the loss function)\n",
    "        self._backward = lambda: None\n",
    "        self._prev = set(_children)\n",
    "        self._op = _op\n",
    "        self.label = label\n",
    "\n",
    "    def __repr__(self):\n",
    "        return f\"Value(data={self.data})\"\n",
    "\n",
    "    def __add__(self, other):  # Python will call this internally when we use '+' on the obj\n",
    "        out = Value(self.data + other.data, (self, other), '+')  # pass children of the operation\n",
    "        def _backward():\n",
    "            self.grad = 1.0 * out.grad\n",
    "            other.grad = 1.0 * out.grad\n",
    "        out._backward = _backward\n",
    "        return out\n",
    "\n",
    "    def __mul__(self, other):  # Python will call this internally when we use '*' on the obj\n",
    "        out = Value(self.data * other.data, (self, other), '*')\n",
    "        def _backward():\n",
    "            self.grad = other.data * out.grad\n",
    "            other.grad = self.data * out.grad\n",
    "        out._backward = _backward\n",
    "        return out\n",
    "\n",
    "    # We do not have to implement all the 'basic' operations. We can operate on different levels of abstraction in the graph, because the only thing we need is to know how to differentiate function we are using at local level\n",
    "    def tanh(self):\n",
    "        x = self.data\n",
    "        t = (math.exp(2*x) - 1)/(math.exp(2*x) + 1)\n",
    "        out = Value(t, (self, ), 'tanh')\n",
    "        def _backward():\n",
    "            self.grad = (1 - t**2) * out.grad\n",
    "        out._backward = _backward\n",
    "        return out\n",
    "\n",
    "a = Value(2.0, label='a')\n",
    "b = Value(-3.0, label='b')\n",
    "c = Value(10.0, label='c')\n",
    "# a.__add__(b) == a + b\n",
    "a + b\n",
    "# (a.__mul__(b)).__add__(c)\n",
    "e = a*b; e.label = 'e'\n",
    "d = e + c; d.label = 'd'\n",
    "f = Value(-2.0, label='f')\n",
    "L = d * f; L.label=\"L\"\n",
    "L"
   ],
   "metadata": {
    "collapsed": false,
    "pycharm": {
     "name": "#%%\n"
    }
   }
  },
  {
   "cell_type": "markdown",
   "source": [
    "## Visualization\n",
    "\n",
    "Install:\n",
    "* sudo apt-get install graphviz\n",
    "* pip install graphviz"
   ],
   "metadata": {
    "collapsed": false,
    "pycharm": {
     "name": "#%% md\n"
    }
   }
  },
  {
   "cell_type": "code",
   "execution_count": 65,
   "outputs": [],
   "source": [
    "from graphviz import Digraph\n",
    "\n",
    "# get all nodes and edges of the graph\n",
    "def trace(root):\n",
    "    # builds a set of all nodes in a graph\n",
    "    nodes, edges = set(), set()\n",
    "    def build(v):\n",
    "        if v not in nodes:\n",
    "            nodes.add(v)\n",
    "            for child in v._prev:\n",
    "                edges.add((child, v))\n",
    "                build(child)\n",
    "    build(root)\n",
    "    return nodes, edges\n",
    "\n",
    "\n",
    "def draw_dot(root):\n",
    "    dot = Digraph(format='svg', graph_attr={'rankdir': 'LR'})  # LR = left to right\n",
    "\n",
    "    nodes, edges = trace(root)\n",
    "    for n in nodes:\n",
    "        uid = str(id(n))\n",
    "        # for any value in the graph, create a rectangular ('record') node for it\n",
    "        dot.node(name=uid, label=\"{ %s | data %.4f | grad %.4f }\" % (n.label, n.data, n.grad), shape='record')\n",
    "        if n._op:\n",
    "            # if this value is a result of some operation, create an op node for iter\n",
    "            dot.node(name=uid+n._op, label=n._op)\n",
    "            # and connect this node to iter\n",
    "            dot.edge(uid + n._op, uid)\n",
    "\n",
    "    for n1, n2 in edges:\n",
    "        # connect n1 to the op node of n2\n",
    "        dot.edge(str(id(n1)), str(id(n2)) + n2._op)\n",
    "\n",
    "    return dot\n",
    "\n"
   ],
   "metadata": {
    "collapsed": false,
    "pycharm": {
     "name": "#%%\n"
    }
   }
  },
  {
   "cell_type": "code",
   "execution_count": 78,
   "outputs": [
    {
     "data": {
      "image/svg+xml": "<?xml version=\"1.0\" encoding=\"UTF-8\" standalone=\"no\"?>\n<!DOCTYPE svg PUBLIC \"-//W3C//DTD SVG 1.1//EN\"\n \"http://www.w3.org/Graphics/SVG/1.1/DTD/svg11.dtd\">\n<!-- Generated by graphviz version 2.43.0 (0)\n -->\n<!-- Title: %3 Pages: 1 -->\n<svg width=\"1343pt\" height=\"156pt\"\n viewBox=\"0.00 0.00 1343.00 156.00\" xmlns=\"http://www.w3.org/2000/svg\" xmlns:xlink=\"http://www.w3.org/1999/xlink\">\n<g id=\"graph0\" class=\"graph\" transform=\"scale(1 1) rotate(0) translate(4 152)\">\n<title>%3</title>\n<polygon fill=\"white\" stroke=\"transparent\" points=\"-4,4 -4,-152 1339,-152 1339,4 -4,4\"/>\n<!-- 140512385888328 -->\n<g id=\"node1\" class=\"node\">\n<title>140512385888328</title>\n<polygon fill=\"none\" stroke=\"black\" points=\"0,-111.5 0,-147.5 241,-147.5 241,-111.5 0,-111.5\"/>\n<text text-anchor=\"middle\" x=\"13\" y=\"-125.8\" font-family=\"Times,serif\" font-size=\"14.00\">b</text>\n<polyline fill=\"none\" stroke=\"black\" points=\"26,-111.5 26,-147.5 \"/>\n<text text-anchor=\"middle\" x=\"79.5\" y=\"-125.8\" font-family=\"Times,serif\" font-size=\"14.00\">data &#45;3.0000</text>\n<polyline fill=\"none\" stroke=\"black\" points=\"133,-111.5 133,-147.5 \"/>\n<text text-anchor=\"middle\" x=\"187\" y=\"-125.8\" font-family=\"Times,serif\" font-size=\"14.00\">grad &#45;4.0000</text>\n</g>\n<!-- 140512385888608* -->\n<g id=\"node6\" class=\"node\">\n<title>140512385888608*</title>\n<ellipse fill=\"none\" stroke=\"black\" cx=\"304\" cy=\"-101.5\" rx=\"27\" ry=\"18\"/>\n<text text-anchor=\"middle\" x=\"304\" y=\"-97.8\" font-family=\"Times,serif\" font-size=\"14.00\">*</text>\n</g>\n<!-- 140512385888328&#45;&gt;140512385888608* -->\n<g id=\"edge7\" class=\"edge\">\n<title>140512385888328&#45;&gt;140512385888608*</title>\n<path fill=\"none\" stroke=\"black\" d=\"M238.24,-111.49C248.61,-109.89 258.49,-108.37 267.27,-107.01\"/>\n<polygon fill=\"black\" stroke=\"black\" points=\"268.03,-110.44 277.38,-105.45 266.97,-103.52 268.03,-110.44\"/>\n</g>\n<!-- 140512385888440 -->\n<g id=\"node2\" class=\"node\">\n<title>140512385888440</title>\n<polygon fill=\"none\" stroke=\"black\" points=\"367,-28.5 367,-64.5 610,-64.5 610,-28.5 367,-28.5\"/>\n<text text-anchor=\"middle\" x=\"379\" y=\"-42.8\" font-family=\"Times,serif\" font-size=\"14.00\">c</text>\n<polyline fill=\"none\" stroke=\"black\" points=\"391,-28.5 391,-64.5 \"/>\n<text text-anchor=\"middle\" x=\"446.5\" y=\"-42.8\" font-family=\"Times,serif\" font-size=\"14.00\">data 10.0000</text>\n<polyline fill=\"none\" stroke=\"black\" points=\"502,-28.5 502,-64.5 \"/>\n<text text-anchor=\"middle\" x=\"556\" y=\"-42.8\" font-family=\"Times,serif\" font-size=\"14.00\">grad &#45;2.0000</text>\n</g>\n<!-- 140512385888720+ -->\n<g id=\"node10\" class=\"node\">\n<title>140512385888720+</title>\n<ellipse fill=\"none\" stroke=\"black\" cx=\"673\" cy=\"-73.5\" rx=\"27\" ry=\"18\"/>\n<text text-anchor=\"middle\" x=\"673\" y=\"-69.8\" font-family=\"Times,serif\" font-size=\"14.00\">+</text>\n</g>\n<!-- 140512385888440&#45;&gt;140512385888720+ -->\n<g id=\"edge5\" class=\"edge\">\n<title>140512385888440&#45;&gt;140512385888720+</title>\n<path fill=\"none\" stroke=\"black\" d=\"M610.21,-64.36C619.62,-65.75 628.55,-67.07 636.56,-68.26\"/>\n<polygon fill=\"black\" stroke=\"black\" points=\"636.1,-71.73 646.5,-69.73 637.12,-64.8 636.1,-71.73\"/>\n</g>\n<!-- 140512385925072 -->\n<g id=\"node3\" class=\"node\">\n<title>140512385925072</title>\n<polygon fill=\"none\" stroke=\"black\" points=\"5,-56.5 5,-92.5 236,-92.5 236,-56.5 5,-56.5\"/>\n<text text-anchor=\"middle\" x=\"17.5\" y=\"-70.8\" font-family=\"Times,serif\" font-size=\"14.00\">a</text>\n<polyline fill=\"none\" stroke=\"black\" points=\"30,-56.5 30,-92.5 \"/>\n<text text-anchor=\"middle\" x=\"81\" y=\"-70.8\" font-family=\"Times,serif\" font-size=\"14.00\">data 2.0000</text>\n<polyline fill=\"none\" stroke=\"black\" points=\"132,-56.5 132,-92.5 \"/>\n<text text-anchor=\"middle\" x=\"184\" y=\"-70.8\" font-family=\"Times,serif\" font-size=\"14.00\">grad 6.0000</text>\n</g>\n<!-- 140512385925072&#45;&gt;140512385888608* -->\n<g id=\"edge6\" class=\"edge\">\n<title>140512385925072&#45;&gt;140512385888608*</title>\n<path fill=\"none\" stroke=\"black\" d=\"M236.19,-91.56C247.37,-93.22 258.02,-94.81 267.41,-96.21\"/>\n<polygon fill=\"black\" stroke=\"black\" points=\"267.02,-99.69 277.43,-97.7 268.05,-92.76 267.02,-99.69\"/>\n</g>\n<!-- 140512385888552 -->\n<g id=\"node4\" class=\"node\">\n<title>140512385888552</title>\n<polygon fill=\"none\" stroke=\"black\" points=\"737.5,-0.5 737.5,-36.5 970.5,-36.5 970.5,-0.5 737.5,-0.5\"/>\n<text text-anchor=\"middle\" x=\"748.5\" y=\"-14.8\" font-family=\"Times,serif\" font-size=\"14.00\">f</text>\n<polyline fill=\"none\" stroke=\"black\" points=\"759.5,-0.5 759.5,-36.5 \"/>\n<text text-anchor=\"middle\" x=\"813\" y=\"-14.8\" font-family=\"Times,serif\" font-size=\"14.00\">data &#45;2.0000</text>\n<polyline fill=\"none\" stroke=\"black\" points=\"866.5,-0.5 866.5,-36.5 \"/>\n<text text-anchor=\"middle\" x=\"918.5\" y=\"-14.8\" font-family=\"Times,serif\" font-size=\"14.00\">grad 4.0000</text>\n</g>\n<!-- 140512385888664* -->\n<g id=\"node8\" class=\"node\">\n<title>140512385888664*</title>\n<ellipse fill=\"none\" stroke=\"black\" cx=\"1035\" cy=\"-45.5\" rx=\"27\" ry=\"18\"/>\n<text text-anchor=\"middle\" x=\"1035\" y=\"-41.8\" font-family=\"Times,serif\" font-size=\"14.00\">*</text>\n</g>\n<!-- 140512385888552&#45;&gt;140512385888664* -->\n<g id=\"edge4\" class=\"edge\">\n<title>140512385888552&#45;&gt;140512385888664*</title>\n<path fill=\"none\" stroke=\"black\" d=\"M970.64,-35.94C980.5,-37.43 989.9,-38.85 998.29,-40.11\"/>\n<polygon fill=\"black\" stroke=\"black\" points=\"997.94,-43.6 1008.35,-41.63 998.98,-36.68 997.94,-43.6\"/>\n</g>\n<!-- 140512385888608 -->\n<g id=\"node5\" class=\"node\">\n<title>140512385888608</title>\n<polygon fill=\"none\" stroke=\"black\" points=\"368.5,-83.5 368.5,-119.5 608.5,-119.5 608.5,-83.5 368.5,-83.5\"/>\n<text text-anchor=\"middle\" x=\"381\" y=\"-97.8\" font-family=\"Times,serif\" font-size=\"14.00\">e</text>\n<polyline fill=\"none\" stroke=\"black\" points=\"393.5,-83.5 393.5,-119.5 \"/>\n<text text-anchor=\"middle\" x=\"447\" y=\"-97.8\" font-family=\"Times,serif\" font-size=\"14.00\">data &#45;6.0000</text>\n<polyline fill=\"none\" stroke=\"black\" points=\"500.5,-83.5 500.5,-119.5 \"/>\n<text text-anchor=\"middle\" x=\"554.5\" y=\"-97.8\" font-family=\"Times,serif\" font-size=\"14.00\">grad &#45;2.0000</text>\n</g>\n<!-- 140512385888608&#45;&gt;140512385888720+ -->\n<g id=\"edge8\" class=\"edge\">\n<title>140512385888608&#45;&gt;140512385888720+</title>\n<path fill=\"none\" stroke=\"black\" d=\"M606.89,-83.49C617.53,-81.86 627.65,-80.3 636.61,-78.93\"/>\n<polygon fill=\"black\" stroke=\"black\" points=\"637.2,-82.38 646.55,-77.4 636.14,-75.46 637.2,-82.38\"/>\n</g>\n<!-- 140512385888608*&#45;&gt;140512385888608 -->\n<g id=\"edge1\" class=\"edge\">\n<title>140512385888608*&#45;&gt;140512385888608</title>\n<path fill=\"none\" stroke=\"black\" d=\"M331.15,-101.5C338.98,-101.5 348.16,-101.5 358.06,-101.5\"/>\n<polygon fill=\"black\" stroke=\"black\" points=\"358.19,-105 368.19,-101.5 358.19,-98 358.19,-105\"/>\n</g>\n<!-- 140512385888664 -->\n<g id=\"node7\" class=\"node\">\n<title>140512385888664</title>\n<polygon fill=\"none\" stroke=\"black\" points=\"1098,-27.5 1098,-63.5 1335,-63.5 1335,-27.5 1098,-27.5\"/>\n<text text-anchor=\"middle\" x=\"1111\" y=\"-41.8\" font-family=\"Times,serif\" font-size=\"14.00\">L</text>\n<polyline fill=\"none\" stroke=\"black\" points=\"1124,-27.5 1124,-63.5 \"/>\n<text text-anchor=\"middle\" x=\"1177.5\" y=\"-41.8\" font-family=\"Times,serif\" font-size=\"14.00\">data &#45;8.0000</text>\n<polyline fill=\"none\" stroke=\"black\" points=\"1231,-27.5 1231,-63.5 \"/>\n<text text-anchor=\"middle\" x=\"1283\" y=\"-41.8\" font-family=\"Times,serif\" font-size=\"14.00\">grad 1.0000</text>\n</g>\n<!-- 140512385888664*&#45;&gt;140512385888664 -->\n<g id=\"edge2\" class=\"edge\">\n<title>140512385888664*&#45;&gt;140512385888664</title>\n<path fill=\"none\" stroke=\"black\" d=\"M1062.1,-45.5C1069.61,-45.5 1078.33,-45.5 1087.75,-45.5\"/>\n<polygon fill=\"black\" stroke=\"black\" points=\"1087.78,-49 1097.78,-45.5 1087.78,-42 1087.78,-49\"/>\n</g>\n<!-- 140512385888720 -->\n<g id=\"node9\" class=\"node\">\n<title>140512385888720</title>\n<polygon fill=\"none\" stroke=\"black\" points=\"736,-55.5 736,-91.5 972,-91.5 972,-55.5 736,-55.5\"/>\n<text text-anchor=\"middle\" x=\"749\" y=\"-69.8\" font-family=\"Times,serif\" font-size=\"14.00\">d</text>\n<polyline fill=\"none\" stroke=\"black\" points=\"762,-55.5 762,-91.5 \"/>\n<text text-anchor=\"middle\" x=\"813\" y=\"-69.8\" font-family=\"Times,serif\" font-size=\"14.00\">data 4.0000</text>\n<polyline fill=\"none\" stroke=\"black\" points=\"864,-55.5 864,-91.5 \"/>\n<text text-anchor=\"middle\" x=\"918\" y=\"-69.8\" font-family=\"Times,serif\" font-size=\"14.00\">grad &#45;2.0000</text>\n</g>\n<!-- 140512385888720&#45;&gt;140512385888664* -->\n<g id=\"edge9\" class=\"edge\">\n<title>140512385888720&#45;&gt;140512385888664*</title>\n<path fill=\"none\" stroke=\"black\" d=\"M970.13,-55.49C980.27,-53.91 989.92,-52.4 998.51,-51.05\"/>\n<polygon fill=\"black\" stroke=\"black\" points=\"999.09,-54.5 1008.43,-49.5 998.01,-47.59 999.09,-54.5\"/>\n</g>\n<!-- 140512385888720+&#45;&gt;140512385888720 -->\n<g id=\"edge3\" class=\"edge\">\n<title>140512385888720+&#45;&gt;140512385888720</title>\n<path fill=\"none\" stroke=\"black\" d=\"M700.03,-73.5C707.58,-73.5 716.38,-73.5 725.87,-73.5\"/>\n<polygon fill=\"black\" stroke=\"black\" points=\"725.99,-77 735.99,-73.5 725.99,-70 725.99,-77\"/>\n</g>\n</g>\n</svg>\n",
      "text/plain": "<graphviz.graphs.Digraph at 0x7fcb96ef73c8>"
     },
     "execution_count": 78,
     "metadata": {},
     "output_type": "execute_result"
    }
   ],
   "source": [
    "draw_dot(L)"
   ],
   "metadata": {
    "collapsed": false,
    "pycharm": {
     "name": "#%%\n"
    }
   }
  },
  {
   "cell_type": "markdown",
   "source": [
    "## Derivatives and [chain rule](https://en.wikipedia.org/wiki/Chain_rule)"
   ],
   "metadata": {
    "collapsed": false,
    "pycharm": {
     "name": "#%% md\n"
    }
   }
  },
  {
   "cell_type": "markdown",
   "source": [
    "Idea is to calculate how change of variables *a*, *b*, *c*, *e*, *f*, *d* impacts the change of *L*.\n",
    "First we calculate **local** derivatives in computation graph:\n",
    "\n",
    "dL/dd = d*f = f\n",
    "dL/df = d*f = d\n",
    "dd/dc = c+e = 1.0\n",
    "dd/de = c+e = 1.0\n",
    "de/da = a*b = b = -3.0\n",
    "de/db = a*b = a = 2.0\n",
    "\n",
    "These are just local derivatives, what we are really interested in how c and e change L (so derivatives with respect to L: *dL/dc* and *dL/de*)\n",
    "To calculate them we will use **chain rule**. Chain rule says: *if a car travels twice as fast as a bicycle and the bicycle is four times as fast as a walking man, then the car travels 2 × 4 = 8 times as fast as the man*. Following that logic we need to **multiply** the derivatives along the graph to calculate how *c* and *e* impact the *L*.\n",
    "\n",
    "dL/dc = (dL/dd) * (dd/dc) = -2.0 * 1.0\n",
    "dL/de = (dL/dd) * (dd/de) = -2.0 * 1.0\n",
    "dL/da = (dL/dd) * (dd/de) * (de/da) = -2.0 * 1.0 * -3.0 = 6.0\n",
    "dL/db = (dL/dd) * (dd/de) * (de/db) = -2.0 * 1.0 * 2.0 = -4.0"
   ],
   "metadata": {
    "collapsed": false,
    "pycharm": {
     "name": "#%% md\n"
    }
   }
  },
  {
   "cell_type": "code",
   "execution_count": 77,
   "outputs": [],
   "source": [
    "L.grad = 1.0  # dL/dL is always eq 1.0\n",
    "d.grad = -2.0\n",
    "f.grad = 4.0\n",
    "c.grad = -2.0\n",
    "e.grad = -2.0\n",
    "a.grad = -2.0 * -3.0\n",
    "b.grad = -2.0 * 2.0"
   ],
   "metadata": {
    "collapsed": false,
    "pycharm": {
     "name": "#%%\n"
    }
   }
  },
  {
   "cell_type": "markdown",
   "source": [
    "### Use of gradients"
   ],
   "metadata": {
    "collapsed": false,
    "pycharm": {
     "name": "#%% md\n"
    }
   }
  },
  {
   "cell_type": "code",
   "execution_count": 68,
   "outputs": [
    {
     "name": "stdout",
     "output_type": "stream",
     "text": [
      "-7.286496\n"
     ]
    }
   ],
   "source": [
    "a.data += 0.01 * a.grad\n",
    "b.data += 0.01 * b.grad\n",
    "c.data += 0.01 * c.grad\n",
    "f.data += 0.01 * f.grad\n",
    "\n",
    "# forward pass\n",
    "e = a*b\n",
    "d = e + c\n",
    "L = d * f\n",
    "\n",
    "# Value come up a bit, we nudged it in the direction of the gradients\n",
    "print(L.data)"
   ],
   "metadata": {
    "collapsed": false,
    "pycharm": {
     "name": "#%%\n"
    }
   }
  },
  {
   "cell_type": "markdown",
   "source": [
    "## Backpropagation of a Neuron"
   ],
   "metadata": {
    "collapsed": false,
    "pycharm": {
     "name": "#%% md\n"
    }
   }
  },
  {
   "cell_type": "code",
   "execution_count": 69,
   "outputs": [
    {
     "data": {
      "text/plain": "<Figure size 432x288 with 1 Axes>",
      "image/png": "[encoded data removed]"
     },
     "metadata": {
      "needs_background": "light"
     },
     "output_type": "display_data"
    }
   ],
   "source": [
    "# tang - squashing function\n",
    "plt.plot(np.arange(-5, 5, 0.2), np.tanh(np.arange(-5, 5, 0.2))); plt.grid();"
   ],
   "metadata": {
    "collapsed": false,
    "pycharm": {
     "name": "#%%\n"
    }
   }
  },
  {
   "cell_type": "markdown",
   "source": [
    "### Two dimensional neuron"
   ],
   "metadata": {
    "collapsed": false,
    "pycharm": {
     "name": "#%% md\n"
    }
   }
  },
  {
   "cell_type": "code",
   "execution_count": 96,
   "outputs": [],
   "source": [
    "# inputs\n",
    "x1 = Value(2.0, label='x1')\n",
    "x2 = Value(0.0, label='x2')\n",
    "# weights\n",
    "w1 = Value(-3.0, label='w1')\n",
    "w2 = Value(1.0, label='w2')\n",
    "# bias\n",
    "b = Value(6.8813, label='b')\n",
    "\n",
    "# x1w1 + x2w2 + b\n",
    "x1w1 = x1*w1; x1w1.label = 'x1w1'\n",
    "x2w2 = x2*w2; x2w2.label = 'x2w2'\n",
    "x1w1x2w2 = x1w1 + x2w2; x1w1x2w2.label = 'x1w1 + x2w2'\n",
    "n = x1w1x2w2 + b; n.label = 'n'\n",
    "\n",
    "o = n.tanh()"
   ],
   "metadata": {
    "collapsed": false,
    "pycharm": {
     "name": "#%%\n"
    }
   }
  },
  {
   "cell_type": "code",
   "execution_count": 102,
   "outputs": [
    {
     "data": {
      "image/svg+xml": "<?xml version=\"1.0\" encoding=\"UTF-8\" standalone=\"no\"?>\n<!DOCTYPE svg PUBLIC \"-//W3C//DTD SVG 1.1//EN\"\n \"http://www.w3.org/Graphics/SVG/1.1/DTD/svg11.dtd\">\n<!-- Generated by graphviz version 2.43.0 (0)\n -->\n<!-- Title: %3 Pages: 1 -->\n<svg width=\"1821pt\" height=\"210pt\"\n viewBox=\"0.00 0.00 1820.69 210.00\" xmlns=\"http://www.w3.org/2000/svg\" xmlns:xlink=\"http://www.w3.org/1999/xlink\">\n<g id=\"graph0\" class=\"graph\" transform=\"scale(1 1) rotate(0) translate(4 206)\">\n<title>%3</title>\n<polygon fill=\"white\" stroke=\"transparent\" points=\"-4,4 -4,-206 1816.69,-206 1816.69,4 -4,4\"/>\n<!-- 140512385629264 -->\n<g id=\"node1\" class=\"node\">\n<title>140512385629264</title>\n<polygon fill=\"none\" stroke=\"black\" points=\"1585.69,-54.5 1585.69,-90.5 1812.69,-90.5 1812.69,-54.5 1585.69,-54.5\"/>\n<text text-anchor=\"middle\" x=\"1596.19\" y=\"-68.8\" font-family=\"Times,serif\" font-size=\"14.00\"> </text>\n<polyline fill=\"none\" stroke=\"black\" points=\"1606.69,-54.5 1606.69,-90.5 \"/>\n<text text-anchor=\"middle\" x=\"1657.69\" y=\"-68.8\" font-family=\"Times,serif\" font-size=\"14.00\">data 0.7071</text>\n<polyline fill=\"none\" stroke=\"black\" points=\"1708.69,-54.5 1708.69,-90.5 \"/>\n<text text-anchor=\"middle\" x=\"1760.69\" y=\"-68.8\" font-family=\"Times,serif\" font-size=\"14.00\">grad 1.0000</text>\n</g>\n<!-- 140512385629264tanh -->\n<g id=\"node2\" class=\"node\">\n<title>140512385629264tanh</title>\n<ellipse fill=\"none\" stroke=\"black\" cx=\"1517.85\" cy=\"-72.5\" rx=\"31.7\" ry=\"18\"/>\n<text text-anchor=\"middle\" x=\"1517.85\" y=\"-68.8\" font-family=\"Times,serif\" font-size=\"14.00\">tanh</text>\n</g>\n<!-- 140512385629264tanh&#45;&gt;140512385629264 -->\n<g id=\"edge1\" class=\"edge\">\n<title>140512385629264tanh&#45;&gt;140512385629264</title>\n<path fill=\"none\" stroke=\"black\" d=\"M1550.09,-72.5C1557.68,-72.5 1566.26,-72.5 1575.37,-72.5\"/>\n<polygon fill=\"black\" stroke=\"black\" points=\"1575.45,-76 1585.45,-72.5 1575.45,-69 1575.45,-76\"/>\n</g>\n<!-- 140512385626800 -->\n<g id=\"node3\" class=\"node\">\n<title>140512385626800</title>\n<polygon fill=\"none\" stroke=\"black\" points=\"767,-82.5 767,-118.5 1092,-118.5 1092,-82.5 767,-82.5\"/>\n<text text-anchor=\"middle\" x=\"824\" y=\"-96.8\" font-family=\"Times,serif\" font-size=\"14.00\">x1w1 + x2w2</text>\n<polyline fill=\"none\" stroke=\"black\" points=\"881,-82.5 881,-118.5 \"/>\n<text text-anchor=\"middle\" x=\"934.5\" y=\"-96.8\" font-family=\"Times,serif\" font-size=\"14.00\">data &#45;6.0000</text>\n<polyline fill=\"none\" stroke=\"black\" points=\"988,-82.5 988,-118.5 \"/>\n<text text-anchor=\"middle\" x=\"1040\" y=\"-96.8\" font-family=\"Times,serif\" font-size=\"14.00\">grad 0.5001</text>\n</g>\n<!-- 140512385627864+ -->\n<g id=\"node6\" class=\"node\">\n<title>140512385627864+</title>\n<ellipse fill=\"none\" stroke=\"black\" cx=\"1155\" cy=\"-72.5\" rx=\"27\" ry=\"18\"/>\n<text text-anchor=\"middle\" x=\"1155\" y=\"-68.8\" font-family=\"Times,serif\" font-size=\"14.00\">+</text>\n</g>\n<!-- 140512385626800&#45;&gt;140512385627864+ -->\n<g id=\"edge14\" class=\"edge\">\n<title>140512385626800&#45;&gt;140512385627864+</title>\n<path fill=\"none\" stroke=\"black\" d=\"M1074.26,-82.49C1090.41,-80.47 1105.59,-78.56 1118.28,-76.97\"/>\n<polygon fill=\"black\" stroke=\"black\" points=\"1118.84,-80.43 1128.32,-75.72 1117.96,-73.49 1118.84,-80.43\"/>\n</g>\n<!-- 140512385626800+ -->\n<g id=\"node4\" class=\"node\">\n<title>140512385626800+</title>\n<ellipse fill=\"none\" stroke=\"black\" cx=\"704\" cy=\"-100.5\" rx=\"27\" ry=\"18\"/>\n<text text-anchor=\"middle\" x=\"704\" y=\"-96.8\" font-family=\"Times,serif\" font-size=\"14.00\">+</text>\n</g>\n<!-- 140512385626800+&#45;&gt;140512385626800 -->\n<g id=\"edge2\" class=\"edge\">\n<title>140512385626800+&#45;&gt;140512385626800</title>\n<path fill=\"none\" stroke=\"black\" d=\"M731.08,-100.5C738.51,-100.5 747.21,-100.5 756.74,-100.5\"/>\n<polygon fill=\"black\" stroke=\"black\" points=\"756.95,-104 766.95,-100.5 756.95,-97 756.95,-104\"/>\n</g>\n<!-- 140512385627864 -->\n<g id=\"node5\" class=\"node\">\n<title>140512385627864</title>\n<polygon fill=\"none\" stroke=\"black\" points=\"1218,-54.5 1218,-90.5 1450,-90.5 1450,-54.5 1218,-54.5\"/>\n<text text-anchor=\"middle\" x=\"1231\" y=\"-68.8\" font-family=\"Times,serif\" font-size=\"14.00\">n</text>\n<polyline fill=\"none\" stroke=\"black\" points=\"1244,-54.5 1244,-90.5 \"/>\n<text text-anchor=\"middle\" x=\"1295\" y=\"-68.8\" font-family=\"Times,serif\" font-size=\"14.00\">data 0.8813</text>\n<polyline fill=\"none\" stroke=\"black\" points=\"1346,-54.5 1346,-90.5 \"/>\n<text text-anchor=\"middle\" x=\"1398\" y=\"-68.8\" font-family=\"Times,serif\" font-size=\"14.00\">grad 0.5001</text>\n</g>\n<!-- 140512385627864&#45;&gt;140512385629264tanh -->\n<g id=\"edge9\" class=\"edge\">\n<title>140512385627864&#45;&gt;140512385629264tanh</title>\n<path fill=\"none\" stroke=\"black\" d=\"M1450.17,-72.5C1459.08,-72.5 1467.66,-72.5 1475.53,-72.5\"/>\n<polygon fill=\"black\" stroke=\"black\" points=\"1475.78,-76 1485.78,-72.5 1475.78,-69 1475.78,-76\"/>\n</g>\n<!-- 140512385627864+&#45;&gt;140512385627864 -->\n<g id=\"edge3\" class=\"edge\">\n<title>140512385627864+&#45;&gt;140512385627864</title>\n<path fill=\"none\" stroke=\"black\" d=\"M1182.12,-72.5C1189.53,-72.5 1198.14,-72.5 1207.4,-72.5\"/>\n<polygon fill=\"black\" stroke=\"black\" points=\"1207.69,-76 1217.69,-72.5 1207.69,-69 1207.69,-76\"/>\n</g>\n<!-- 140512385627360 -->\n<g id=\"node7\" class=\"node\">\n<title>140512385627360</title>\n<polygon fill=\"none\" stroke=\"black\" points=\"813.5,-27.5 813.5,-63.5 1045.5,-63.5 1045.5,-27.5 813.5,-27.5\"/>\n<text text-anchor=\"middle\" x=\"826.5\" y=\"-41.8\" font-family=\"Times,serif\" font-size=\"14.00\">b</text>\n<polyline fill=\"none\" stroke=\"black\" points=\"839.5,-27.5 839.5,-63.5 \"/>\n<text text-anchor=\"middle\" x=\"890.5\" y=\"-41.8\" font-family=\"Times,serif\" font-size=\"14.00\">data 6.8813</text>\n<polyline fill=\"none\" stroke=\"black\" points=\"941.5,-27.5 941.5,-63.5 \"/>\n<text text-anchor=\"middle\" x=\"993.5\" y=\"-41.8\" font-family=\"Times,serif\" font-size=\"14.00\">grad 0.5001</text>\n</g>\n<!-- 140512385627360&#45;&gt;140512385627864+ -->\n<g id=\"edge10\" class=\"edge\">\n<title>140512385627360&#45;&gt;140512385627864+</title>\n<path fill=\"none\" stroke=\"black\" d=\"M1045.52,-59.4C1071.82,-62.57 1097.87,-65.72 1117.85,-68.13\"/>\n<polygon fill=\"black\" stroke=\"black\" points=\"1117.65,-71.63 1128,-69.36 1118.49,-64.68 1117.65,-71.63\"/>\n</g>\n<!-- 140512385626912 -->\n<g id=\"node8\" class=\"node\">\n<title>140512385626912</title>\n<polygon fill=\"none\" stroke=\"black\" points=\"375,-110.5 375,-146.5 641,-146.5 641,-110.5 375,-110.5\"/>\n<text text-anchor=\"middle\" x=\"402.5\" y=\"-124.8\" font-family=\"Times,serif\" font-size=\"14.00\">x1w1</text>\n<polyline fill=\"none\" stroke=\"black\" points=\"430,-110.5 430,-146.5 \"/>\n<text text-anchor=\"middle\" x=\"483.5\" y=\"-124.8\" font-family=\"Times,serif\" font-size=\"14.00\">data &#45;6.0000</text>\n<polyline fill=\"none\" stroke=\"black\" points=\"537,-110.5 537,-146.5 \"/>\n<text text-anchor=\"middle\" x=\"589\" y=\"-124.8\" font-family=\"Times,serif\" font-size=\"14.00\">grad 0.5001</text>\n</g>\n<!-- 140512385626912&#45;&gt;140512385626800+ -->\n<g id=\"edge12\" class=\"edge\">\n<title>140512385626912&#45;&gt;140512385626800+</title>\n<path fill=\"none\" stroke=\"black\" d=\"M633.78,-110.49C645.77,-108.76 657.15,-107.12 667.08,-105.68\"/>\n<polygon fill=\"black\" stroke=\"black\" points=\"667.86,-109.11 677.25,-104.22 666.86,-102.18 667.86,-109.11\"/>\n</g>\n<!-- 140512385626912* -->\n<g id=\"node9\" class=\"node\">\n<title>140512385626912*</title>\n<ellipse fill=\"none\" stroke=\"black\" cx=\"312\" cy=\"-128.5\" rx=\"27\" ry=\"18\"/>\n<text text-anchor=\"middle\" x=\"312\" y=\"-124.8\" font-family=\"Times,serif\" font-size=\"14.00\">*</text>\n</g>\n<!-- 140512385626912*&#45;&gt;140512385626912 -->\n<g id=\"edge4\" class=\"edge\">\n<title>140512385626912*&#45;&gt;140512385626912</title>\n<path fill=\"none\" stroke=\"black\" d=\"M339.16,-128.5C346.61,-128.5 355.28,-128.5 364.68,-128.5\"/>\n<polygon fill=\"black\" stroke=\"black\" points=\"364.73,-132 374.73,-128.5 364.73,-125 364.73,-132\"/>\n</g>\n<!-- 140512385627976 -->\n<g id=\"node10\" class=\"node\">\n<title>140512385627976</title>\n<polygon fill=\"none\" stroke=\"black\" points=\"0,-165.5 0,-201.5 249,-201.5 249,-165.5 0,-165.5\"/>\n<text text-anchor=\"middle\" x=\"19\" y=\"-179.8\" font-family=\"Times,serif\" font-size=\"14.00\">w1</text>\n<polyline fill=\"none\" stroke=\"black\" points=\"38,-165.5 38,-201.5 \"/>\n<text text-anchor=\"middle\" x=\"91.5\" y=\"-179.8\" font-family=\"Times,serif\" font-size=\"14.00\">data &#45;3.0000</text>\n<polyline fill=\"none\" stroke=\"black\" points=\"145,-165.5 145,-201.5 \"/>\n<text text-anchor=\"middle\" x=\"197\" y=\"-179.8\" font-family=\"Times,serif\" font-size=\"14.00\">grad 1.0001</text>\n</g>\n<!-- 140512385627976&#45;&gt;140512385626912* -->\n<g id=\"edge11\" class=\"edge\">\n<title>140512385627976&#45;&gt;140512385626912*</title>\n<path fill=\"none\" stroke=\"black\" d=\"M218.13,-165.46C228.63,-162.77 239.1,-159.78 249,-156.5 259.71,-152.96 271.05,-148.16 281.07,-143.54\"/>\n<polygon fill=\"black\" stroke=\"black\" points=\"282.67,-146.66 290.2,-139.21 279.67,-140.33 282.67,-146.66\"/>\n</g>\n<!-- 140512385627472 -->\n<g id=\"node11\" class=\"node\">\n<title>140512385627472</title>\n<polygon fill=\"none\" stroke=\"black\" points=\"4.5,-55.5 4.5,-91.5 244.5,-91.5 244.5,-55.5 4.5,-55.5\"/>\n<text text-anchor=\"middle\" x=\"21.5\" y=\"-69.8\" font-family=\"Times,serif\" font-size=\"14.00\">x2</text>\n<polyline fill=\"none\" stroke=\"black\" points=\"38.5,-55.5 38.5,-91.5 \"/>\n<text text-anchor=\"middle\" x=\"89.5\" y=\"-69.8\" font-family=\"Times,serif\" font-size=\"14.00\">data 0.0000</text>\n<polyline fill=\"none\" stroke=\"black\" points=\"140.5,-55.5 140.5,-91.5 \"/>\n<text text-anchor=\"middle\" x=\"192.5\" y=\"-69.8\" font-family=\"Times,serif\" font-size=\"14.00\">grad 0.5001</text>\n</g>\n<!-- 140512385627024* -->\n<g id=\"node14\" class=\"node\">\n<title>140512385627024*</title>\n<ellipse fill=\"none\" stroke=\"black\" cx=\"312\" cy=\"-73.5\" rx=\"27\" ry=\"18\"/>\n<text text-anchor=\"middle\" x=\"312\" y=\"-69.8\" font-family=\"Times,serif\" font-size=\"14.00\">*</text>\n</g>\n<!-- 140512385627472&#45;&gt;140512385627024* -->\n<g id=\"edge6\" class=\"edge\">\n<title>140512385627472&#45;&gt;140512385627024*</title>\n<path fill=\"none\" stroke=\"black\" d=\"M244.55,-73.5C255.31,-73.5 265.54,-73.5 274.62,-73.5\"/>\n<polygon fill=\"black\" stroke=\"black\" points=\"274.7,-77 284.7,-73.5 274.7,-70 274.7,-77\"/>\n</g>\n<!-- 140512385626968 -->\n<g id=\"node12\" class=\"node\">\n<title>140512385626968</title>\n<polygon fill=\"none\" stroke=\"black\" points=\"2.5,-110.5 2.5,-146.5 246.5,-146.5 246.5,-110.5 2.5,-110.5\"/>\n<text text-anchor=\"middle\" x=\"19.5\" y=\"-124.8\" font-family=\"Times,serif\" font-size=\"14.00\">x1</text>\n<polyline fill=\"none\" stroke=\"black\" points=\"36.5,-110.5 36.5,-146.5 \"/>\n<text text-anchor=\"middle\" x=\"87.5\" y=\"-124.8\" font-family=\"Times,serif\" font-size=\"14.00\">data 2.0000</text>\n<polyline fill=\"none\" stroke=\"black\" points=\"138.5,-110.5 138.5,-146.5 \"/>\n<text text-anchor=\"middle\" x=\"192.5\" y=\"-124.8\" font-family=\"Times,serif\" font-size=\"14.00\">grad &#45;1.5002</text>\n</g>\n<!-- 140512385626968&#45;&gt;140512385626912* -->\n<g id=\"edge8\" class=\"edge\">\n<title>140512385626968&#45;&gt;140512385626912*</title>\n<path fill=\"none\" stroke=\"black\" d=\"M246.64,-128.5C256.7,-128.5 266.26,-128.5 274.79,-128.5\"/>\n<polygon fill=\"black\" stroke=\"black\" points=\"275,-132 285,-128.5 275,-125 275,-132\"/>\n</g>\n<!-- 140512385627024 -->\n<g id=\"node13\" class=\"node\">\n<title>140512385627024</title>\n<polygon fill=\"none\" stroke=\"black\" points=\"377.5,-55.5 377.5,-91.5 638.5,-91.5 638.5,-55.5 377.5,-55.5\"/>\n<text text-anchor=\"middle\" x=\"405\" y=\"-69.8\" font-family=\"Times,serif\" font-size=\"14.00\">x2w2</text>\n<polyline fill=\"none\" stroke=\"black\" points=\"432.5,-55.5 432.5,-91.5 \"/>\n<text text-anchor=\"middle\" x=\"483.5\" y=\"-69.8\" font-family=\"Times,serif\" font-size=\"14.00\">data 0.0000</text>\n<polyline fill=\"none\" stroke=\"black\" points=\"534.5,-55.5 534.5,-91.5 \"/>\n<text text-anchor=\"middle\" x=\"586.5\" y=\"-69.8\" font-family=\"Times,serif\" font-size=\"14.00\">grad 0.5001</text>\n</g>\n<!-- 140512385627024&#45;&gt;140512385626800+ -->\n<g id=\"edge7\" class=\"edge\">\n<title>140512385627024&#45;&gt;140512385626800+</title>\n<path fill=\"none\" stroke=\"black\" d=\"M638.4,-91.51C648.78,-92.95 658.6,-94.32 667.3,-95.53\"/>\n<polygon fill=\"black\" stroke=\"black\" points=\"666.94,-99.01 677.32,-96.93 667.9,-92.08 666.94,-99.01\"/>\n</g>\n<!-- 140512385627024*&#45;&gt;140512385627024 -->\n<g id=\"edge5\" class=\"edge\">\n<title>140512385627024*&#45;&gt;140512385627024</title>\n<path fill=\"none\" stroke=\"black\" d=\"M339.16,-73.5C347.24,-73.5 356.75,-73.5 367.07,-73.5\"/>\n<polygon fill=\"black\" stroke=\"black\" points=\"367.2,-77 377.2,-73.5 367.2,-70 367.2,-77\"/>\n</g>\n<!-- 140512385627584 -->\n<g id=\"node15\" class=\"node\">\n<title>140512385627584</title>\n<polygon fill=\"none\" stroke=\"black\" points=\"2.5,-0.5 2.5,-36.5 246.5,-36.5 246.5,-0.5 2.5,-0.5\"/>\n<text text-anchor=\"middle\" x=\"21.5\" y=\"-14.8\" font-family=\"Times,serif\" font-size=\"14.00\">w2</text>\n<polyline fill=\"none\" stroke=\"black\" points=\"40.5,-0.5 40.5,-36.5 \"/>\n<text text-anchor=\"middle\" x=\"91.5\" y=\"-14.8\" font-family=\"Times,serif\" font-size=\"14.00\">data 1.0000</text>\n<polyline fill=\"none\" stroke=\"black\" points=\"142.5,-0.5 142.5,-36.5 \"/>\n<text text-anchor=\"middle\" x=\"194.5\" y=\"-14.8\" font-family=\"Times,serif\" font-size=\"14.00\">grad 0.0000</text>\n</g>\n<!-- 140512385627584&#45;&gt;140512385627024* -->\n<g id=\"edge13\" class=\"edge\">\n<title>140512385627584&#45;&gt;140512385627024*</title>\n<path fill=\"none\" stroke=\"black\" d=\"M218.13,-36.54C228.63,-39.23 239.1,-42.22 249,-45.5 259.71,-49.04 271.05,-53.84 281.07,-58.46\"/>\n<polygon fill=\"black\" stroke=\"black\" points=\"279.67,-61.67 290.2,-62.79 282.67,-55.34 279.67,-61.67\"/>\n</g>\n</g>\n</svg>\n",
      "text/plain": "<graphviz.graphs.Digraph at 0x7fcb96d8f2e8>"
     },
     "execution_count": 102,
     "metadata": {},
     "output_type": "execute_result"
    }
   ],
   "source": [
    "draw_dot(o)"
   ],
   "metadata": {
    "collapsed": false,
    "pycharm": {
     "name": "#%%\n"
    }
   }
  },
  {
   "cell_type": "markdown",
   "source": [
    "### Neuron manually backprop"
   ],
   "metadata": {
    "collapsed": false,
    "pycharm": {
     "name": "#%% md\n"
    }
   }
  },
  {
   "cell_type": "code",
   "execution_count": 90,
   "outputs": [],
   "source": [
    "o.grad = 1.0\n",
    "# what is derivative of tanh?\n",
    "# do/dn = ? = 1 - tanh(n)**2\n",
    "n.grad = 1 - o.data**2\n",
    "# dn/db = (x1w1 + x2w2) + b = 1.0 - as we know from previous example, '+' is distributing gradient\n",
    "b.grad = 1.0 * n.grad\n",
    "x1w1x2w2.grad = 1.0 * n.grad\n",
    "# same as above for x1w1 and x2w2\n",
    "x1w1.grad = 1.0 * 1.0 * n.grad\n",
    "x2w2.grad = 1.0 * 1.0 * n.grad\n",
    "# d(x2w2)/dw2 = x2 * w2 = x2\n",
    "# d(x1w1)/dw1 = x1 * w1 = x1\n",
    "w1.grad = x1w1.grad * x1.data\n",
    "w2.grad = x2w2.grad * x2.data\n",
    "x1.grad = x1w1.grad * w1.data\n",
    "x2.grad = x2w2.grad * w2.data"
   ],
   "metadata": {
    "collapsed": false,
    "pycharm": {
     "name": "#%%\n"
    }
   }
  },
  {
   "cell_type": "markdown",
   "source": [
    "### Neuron automatic backprop"
   ],
   "metadata": {
    "collapsed": false,
    "pycharm": {
     "name": "#%% md\n"
    }
   }
  },
  {
   "cell_type": "code",
   "execution_count": 101,
   "outputs": [],
   "source": [
    "o.grad = 1.0  # initialization of root gradient to 1.0\n",
    "o._backward()\n",
    "n._backward()\n",
    "x1w1x2w2._backward()\n",
    "x1w1._backward()\n",
    "x2w2._backward()"
   ],
   "metadata": {
    "collapsed": false,
    "pycharm": {
     "name": "#%%\n"
    }
   }
  },
  {
   "cell_type": "code",
   "execution_count": null,
   "outputs": [],
   "source": [],
   "metadata": {
    "collapsed": false,
    "pycharm": {
     "name": "#%%\n"
    }
   }
  }
 ],
 "metadata": {
  "kernelspec": {
   "display_name": "Python 3",
   "language": "python",
   "name": "python3"
  },
  "language_info": {
   "codemirror_mode": {
    "name": "ipython",
    "version": 2
   },
   "file_extension": ".py",
   "mimetype": "text/x-python",
   "name": "python",
   "nbconvert_exporter": "python",
   "pygments_lexer": "ipython2",
   "version": "2.7.6"
  }
 },
 "nbformat": 4,
 "nbformat_minor": 0
}