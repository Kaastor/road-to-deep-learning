{
 "cells": [
  {
   "cell_type": "code",
   "execution_count": 1,
   "outputs": [],
   "source": [
    "import math\n",
    "import numpy as np\n",
    "import matplotlib.pyplot as plt"
   ],
   "metadata": {
    "collapsed": false,
    "pycharm": {
     "name": "#%%\n"
    }
   }
  },
  {
   "cell_type": "markdown",
   "source": [
    "# Sieci Neuronowe I\n",
    "\n",
    "## Pochodne\n",
    "\n",
    "Czym jest pochodna? Zdefiniujmy dowolną funkcję $f(x)$"
   ],
   "metadata": {
    "collapsed": false,
    "pycharm": {
     "name": "#%% md\n"
    }
   }
  },
  {
   "cell_type": "code",
   "execution_count": 2,
   "outputs": [],
   "source": [
    "def f(x):\n",
    "    return 3*x**2 - 4*x + 5"
   ],
   "metadata": {
    "collapsed": false,
    "pycharm": {
     "name": "#%%\n"
    }
   }
  },
  {
   "cell_type": "markdown",
   "source": [
    "Narysujmy wykres funkcji $f(x)$"
   ],
   "metadata": {
    "collapsed": false,
    "pycharm": {
     "name": "#%% md\n"
    }
   }
  },
  {
   "cell_type": "code",
   "execution_count": 3,
   "outputs": [
    {
     "data": {
      "text/plain": "[<matplotlib.lines.Line2D at 0x7f83fdc10278>]"
     },
     "execution_count": 3,
     "metadata": {},
     "output_type": "execute_result"
    },
    {
     "data": {
      "text/plain": "<Figure size 432x288 with 1 Axes>",
      "image/png": "[encoded data removed]"
     },
     "metadata": {
      "needs_background": "light"
     },
     "output_type": "display_data"
    }
   ],
   "source": [
    "xs = np.arange(-5, 5, 0.25)\n",
    "ys = f(xs)\n",
    "plt.plot(xs, ys)"
   ],
   "metadata": {
    "collapsed": false,
    "pycharm": {
     "name": "#%%\n"
    }
   }
  },
  {
   "cell_type": "markdown",
   "source": [
    "Możemy wyznaczyć wzór na pochodną powyższej funkcji analitycznie. W praktyce nikt jednak nie wyznacza ręcznie wzorów na pochodne, które mogą być niezwykle skomplikowane.\n",
    "Przypomnijmy definicję pochodnej (a konkretniej warunku różniczkowalności):\n",
    "$$L = \\mathop {\\lim }\\limits_{h \\to 0} \\frac{{f\\left( {x + h } \\right) - f\\left( x \\right)}}{h }$$\n",
    "Innymi słowy, jak zmieni się wartość funkcji ($f(x)$), jeżeli podniesiemy wartość $x$ o $h$ (jak wrażliwa jest wartość funkcji na tę zmianę, jakie jest nachylenie stycznej w punkcie $x$). Czy wartość funkcji wzrośnie, czy zmaleje? Jak duża będzie ta zmiana?\n",
    "\n",
    "Wyznaczmy wartość pochodnej numerycznie. Otrzymane wartości będą jedynie przybliżeniami, im $h$ bliższe $0$, tym lepsza aproksymacja.\n"
   ],
   "metadata": {
    "collapsed": false,
    "pycharm": {
     "name": "#%% md\n"
    }
   }
  },
  {
   "cell_type": "code",
   "execution_count": 4,
   "outputs": [
    {
     "data": {
      "text/plain": "14.000300000063248"
     },
     "execution_count": 4,
     "metadata": {},
     "output_type": "execute_result"
    }
   ],
   "source": [
    "h = 0.0001\n",
    "x = 3.0\n",
    "f(x) # 20\n",
    "f(x + h) # wartość wzrośnie czy zmaleje?\n",
    "f(x + h) - f(x) # jak duża była to zmiana?\n",
    "(f(x + h) - f(x))/h # normalizując wzrost przez krok otrzymujemy wartość nachylenia"
   ],
   "metadata": {
    "collapsed": false,
    "pycharm": {
     "name": "#%%\n"
    }
   }
  },
  {
   "cell_type": "markdown",
   "source": [
    "##### I - pytania o różne wartości pochodnej (x=-3, x=2/3)"
   ],
   "metadata": {
    "collapsed": false,
    "pycharm": {
     "name": "#%% md\n"
    }
   }
  },
  {
   "cell_type": "markdown",
   "source": [
    "Rozważmy bardziej złożony przypadek. Tym razem interesuje nas, jak będzie zmieniała się wartość funkcji, kiedy będziemy zmieniać wartości zmiennych $a, b, c$. Inaczej mówiąc, interesuje nas, jaka jest pochodna $d$ w zależności od $a, b, c$?"
   ],
   "metadata": {
    "collapsed": false,
    "pycharm": {
     "name": "#%% md\n"
    }
   }
  },
  {
   "cell_type": "code",
   "execution_count": 5,
   "outputs": [
    {
     "name": "stdout",
     "output_type": "stream",
     "text": [
      "d1 =  4.0\n"
     ]
    }
   ],
   "source": [
    "a = 2.0\n",
    "b = -3.0\n",
    "c = 10.0\n",
    "\n",
    "d1 = a*b + c\n",
    "a += h\n",
    "d2 = a*b + c\n",
    "\n",
    "print('d1 = ', d1)\n",
    "# print('d2 = ', d2)\n",
    "# print('Nachylenie stycznej: ', (d2-d1)/h)"
   ],
   "metadata": {
    "collapsed": false,
    "pycharm": {
     "name": "#%%\n"
    }
   }
  },
  {
   "cell_type": "markdown",
   "source": [
    "##### I - co się stanie z wartością d2? Jaki będzie znak nachylenia stycznej?"
   ],
   "metadata": {
    "collapsed": false,
    "pycharm": {
     "name": "#%% md\n"
    }
   }
  },
  {
   "cell_type": "markdown",
   "source": [
    "## Autograd\n",
    "[Autograd tutorial](https://pytorch.org/tutorials/beginner/blitz/autograd_tutorial.html)\n",
    "[Autograd mechanics](https://pytorch.org/docs/stable/notes/autograd.html#:~:text=Autograd%20is%20reverse%20automatic%20differentiation,roots%20are%20the%20output%20tensors.)\n",
    "\n",
    "### Graf obliczeń\n"
   ],
   "metadata": {
    "collapsed": false,
    "pycharm": {
     "name": "#%% md\n"
    }
   }
  },
  {
   "cell_type": "code",
   "execution_count": 49,
   "outputs": [],
   "source": [
    "class Value:\n",
    "\n",
    "    def __init__(self, data, _children=(), _op='', label=''):\n",
    "        self.data = data\n",
    "        self.grad = 0.0  # brak zmian, początkowo zmienna nie wpływa na funkcję straty\n",
    "        self._backward = lambda: None\n",
    "        self._prev = set(_children)\n",
    "        self._op = _op\n",
    "        self.label = label\n",
    "\n",
    "    def __repr__(self):\n",
    "        return f\"Value(data={self.data})\"\n",
    "\n",
    "    # definicja operatora '+', a.__add__ == +\n",
    "    def __add__(self, other):\n",
    "        out = Value(self.data + other.data, (self, other), '+')\n",
    "\n",
    "        def _backward():\n",
    "            self.grad += out.grad\n",
    "            other.grad += out.grad\n",
    "        out._backward = _backward\n",
    "\n",
    "        return out\n",
    "\n",
    "    def __mul__(self, other):\n",
    "        out = Value(self.data * other.data, (self, other), '*')\n",
    "\n",
    "        def _backward():\n",
    "            self.grad += other.data * out.grad\n",
    "            other.grad += self.data * out.grad\n",
    "        out._backward = _backward\n",
    "\n",
    "        return out\n",
    "\n",
    "    def tanh(self):\n",
    "        x = self.data\n",
    "        t = (math.exp(2*x) - 1)/(math.exp(2*x) + 1)\n",
    "        out = Value(t, (self, ), 'tanh')\n",
    "\n",
    "        def _backward():\n",
    "            self.grad += (1 - t**2) * out.grad\n",
    "        out._backward = _backward\n",
    "\n",
    "        return out\n",
    "\n",
    "    def backward(self):\n",
    "        topo = []\n",
    "        visited = set()\n",
    "        def build_topo(v):\n",
    "            if v not in visited:\n",
    "                visited.add(v)\n",
    "                for child in v._prev:\n",
    "                    build_topo(child)\n",
    "                topo.append(v)\n",
    "        build_topo(self)\n",
    "        self.grad = 1.0\n",
    "        for node in reversed(topo):\n",
    "            node._backward()"
   ],
   "metadata": {
    "collapsed": false,
    "pycharm": {
     "name": "#%%\n"
    }
   }
  },
  {
   "cell_type": "code",
   "execution_count": 7,
   "outputs": [],
   "source": [
    "a = Value(2.0, label='a')\n",
    "b = Value(-3.0, label='b')\n",
    "c = Value(10.0, label='c')\n",
    "e = a*b; e.label = 'e'\n",
    "d = e + c; d.label = 'd'\n",
    "f = Value(-2.0, label='f')\n",
    "L = d * f; L.label = 'L'"
   ],
   "metadata": {
    "collapsed": false,
    "pycharm": {
     "name": "#%%\n"
    }
   }
  },
  {
   "cell_type": "markdown",
   "source": [
    "### Wizualizacja grafu obliczeń\n",
    "\n",
    "Wierzchołkami reprezentującymi wartości są jedynie węzły w prostokątach. Łączące je okrągłe wierzchołki są jedynie wizualizacją wykonanej operacji."
   ],
   "metadata": {
    "collapsed": false,
    "pycharm": {
     "name": "#%% md\n"
    }
   }
  },
  {
   "cell_type": "code",
   "execution_count": 8,
   "outputs": [],
   "source": [
    "from graphviz import Digraph\n",
    "\n",
    "def trace(root):\n",
    "    # builds a set of all nodes and edges in a graph\n",
    "    nodes, edges = set(), set()\n",
    "    def build(v):\n",
    "        if v not in nodes:\n",
    "            nodes.add(v)\n",
    "            for child in v._prev:\n",
    "                edges.add((child, v))\n",
    "                build(child)\n",
    "    build(root)\n",
    "    return nodes, edges\n",
    "\n",
    "def draw_dot(root):\n",
    "    dot = Digraph(format='svg', graph_attr={'rankdir': 'LR'}) # LR = left to right\n",
    "\n",
    "    nodes, edges = trace(root)\n",
    "    for n in nodes:\n",
    "        uid = str(id(n))\n",
    "        # for any value in the graph, create a rectangular ('record') node for it\n",
    "        dot.node(name = uid, label = \"{ %s | data %.4f | grad %.4f }\" % (n.label, n.data, n.grad), shape='record')\n",
    "        if n._op:\n",
    "            # if this value is a result of some operation, create an op node for it\n",
    "            dot.node(name = uid + n._op, label = n._op)\n",
    "            # and connect this node to it\n",
    "            dot.edge(uid + n._op, uid)\n",
    "\n",
    "    for n1, n2 in edges:\n",
    "        # connect n1 to the op node of n2\n",
    "        dot.edge(str(id(n1)), str(id(n2)) + n2._op)\n",
    "\n",
    "    return dot"
   ],
   "metadata": {
    "collapsed": false,
    "pycharm": {
     "name": "#%%\n"
    }
   }
  },
  {
   "cell_type": "code",
   "execution_count": 9,
   "outputs": [
    {
     "data": {
      "image/svg+xml": "<?xml version=\"1.0\" encoding=\"UTF-8\" standalone=\"no\"?>\n<!DOCTYPE svg PUBLIC \"-//W3C//DTD SVG 1.1//EN\"\n \"http://www.w3.org/Graphics/SVG/1.1/DTD/svg11.dtd\">\n<!-- Generated by graphviz version 2.43.0 (0)\n -->\n<!-- Title: %3 Pages: 1 -->\n<svg width=\"1332pt\" height=\"128pt\"\n viewBox=\"0.00 0.00 1332.00 128.00\" xmlns=\"http://www.w3.org/2000/svg\" xmlns:xlink=\"http://www.w3.org/1999/xlink\">\n<g id=\"graph0\" class=\"graph\" transform=\"scale(1 1) rotate(0) translate(4 124)\">\n<title>%3</title>\n<polygon fill=\"white\" stroke=\"transparent\" points=\"-4,4 -4,-124 1328,-124 1328,4 -4,4\"/>\n<!-- 140204874125384 -->\n<g id=\"node1\" class=\"node\">\n<title>140204874125384</title>\n<polygon fill=\"none\" stroke=\"black\" points=\"728,-82.5 728,-118.5 961,-118.5 961,-82.5 728,-82.5\"/>\n<text text-anchor=\"middle\" x=\"739\" y=\"-96.8\" font-family=\"Times,serif\" font-size=\"14.00\">f</text>\n<polyline fill=\"none\" stroke=\"black\" points=\"750,-82.5 750,-118.5 \"/>\n<text text-anchor=\"middle\" x=\"803.5\" y=\"-96.8\" font-family=\"Times,serif\" font-size=\"14.00\">data &#45;2.0000</text>\n<polyline fill=\"none\" stroke=\"black\" points=\"857,-82.5 857,-118.5 \"/>\n<text text-anchor=\"middle\" x=\"909\" y=\"-96.8\" font-family=\"Times,serif\" font-size=\"14.00\">grad 0.0000</text>\n</g>\n<!-- 140204874125552* -->\n<g id=\"node5\" class=\"node\">\n<title>140204874125552*</title>\n<ellipse fill=\"none\" stroke=\"black\" cx=\"1024\" cy=\"-72.5\" rx=\"27\" ry=\"18\"/>\n<text text-anchor=\"middle\" x=\"1024\" y=\"-68.8\" font-family=\"Times,serif\" font-size=\"14.00\">*</text>\n</g>\n<!-- 140204874125384&#45;&gt;140204874125552* -->\n<g id=\"edge5\" class=\"edge\">\n<title>140204874125384&#45;&gt;140204874125552*</title>\n<path fill=\"none\" stroke=\"black\" d=\"M959.67,-82.49C969.61,-80.92 979.08,-79.43 987.53,-78.1\"/>\n<polygon fill=\"black\" stroke=\"black\" points=\"988.31,-81.52 997.64,-76.5 987.22,-74.6 988.31,-81.52\"/>\n</g>\n<!-- 140204873945160 -->\n<g id=\"node2\" class=\"node\">\n<title>140204873945160</title>\n<polygon fill=\"none\" stroke=\"black\" points=\"364.5,-55.5 364.5,-91.5 600.5,-91.5 600.5,-55.5 364.5,-55.5\"/>\n<text text-anchor=\"middle\" x=\"377\" y=\"-69.8\" font-family=\"Times,serif\" font-size=\"14.00\">e</text>\n<polyline fill=\"none\" stroke=\"black\" points=\"389.5,-55.5 389.5,-91.5 \"/>\n<text text-anchor=\"middle\" x=\"443\" y=\"-69.8\" font-family=\"Times,serif\" font-size=\"14.00\">data &#45;6.0000</text>\n<polyline fill=\"none\" stroke=\"black\" points=\"496.5,-55.5 496.5,-91.5 \"/>\n<text text-anchor=\"middle\" x=\"548.5\" y=\"-69.8\" font-family=\"Times,serif\" font-size=\"14.00\">grad 0.0000</text>\n</g>\n<!-- 140204874125664+ -->\n<g id=\"node9\" class=\"node\">\n<title>140204874125664+</title>\n<ellipse fill=\"none\" stroke=\"black\" cx=\"665\" cy=\"-45.5\" rx=\"27\" ry=\"18\"/>\n<text text-anchor=\"middle\" x=\"665\" y=\"-41.8\" font-family=\"Times,serif\" font-size=\"14.00\">+</text>\n</g>\n<!-- 140204873945160&#45;&gt;140204874125664+ -->\n<g id=\"edge8\" class=\"edge\">\n<title>140204873945160&#45;&gt;140204874125664+</title>\n<path fill=\"none\" stroke=\"black\" d=\"M599.6,-55.49C609.91,-53.89 619.74,-52.37 628.46,-51.01\"/>\n<polygon fill=\"black\" stroke=\"black\" points=\"629.18,-54.44 638.52,-49.45 628.1,-47.53 629.18,-54.44\"/>\n</g>\n<!-- 140204873945160* -->\n<g id=\"node3\" class=\"node\">\n<title>140204873945160*</title>\n<ellipse fill=\"none\" stroke=\"black\" cx=\"300\" cy=\"-73.5\" rx=\"27\" ry=\"18\"/>\n<text text-anchor=\"middle\" x=\"300\" y=\"-69.8\" font-family=\"Times,serif\" font-size=\"14.00\">*</text>\n</g>\n<!-- 140204873945160*&#45;&gt;140204873945160 -->\n<g id=\"edge1\" class=\"edge\">\n<title>140204873945160*&#45;&gt;140204873945160</title>\n<path fill=\"none\" stroke=\"black\" d=\"M327.25,-73.5C335.09,-73.5 344.27,-73.5 354.17,-73.5\"/>\n<polygon fill=\"black\" stroke=\"black\" points=\"354.28,-77 364.28,-73.5 354.28,-70 354.28,-77\"/>\n</g>\n<!-- 140204874125552 -->\n<g id=\"node4\" class=\"node\">\n<title>140204874125552</title>\n<polygon fill=\"none\" stroke=\"black\" points=\"1087,-54.5 1087,-90.5 1324,-90.5 1324,-54.5 1087,-54.5\"/>\n<text text-anchor=\"middle\" x=\"1100\" y=\"-68.8\" font-family=\"Times,serif\" font-size=\"14.00\">L</text>\n<polyline fill=\"none\" stroke=\"black\" points=\"1113,-54.5 1113,-90.5 \"/>\n<text text-anchor=\"middle\" x=\"1166.5\" y=\"-68.8\" font-family=\"Times,serif\" font-size=\"14.00\">data &#45;8.0000</text>\n<polyline fill=\"none\" stroke=\"black\" points=\"1220,-54.5 1220,-90.5 \"/>\n<text text-anchor=\"middle\" x=\"1272\" y=\"-68.8\" font-family=\"Times,serif\" font-size=\"14.00\">grad 0.0000</text>\n</g>\n<!-- 140204874125552*&#45;&gt;140204874125552 -->\n<g id=\"edge2\" class=\"edge\">\n<title>140204874125552*&#45;&gt;140204874125552</title>\n<path fill=\"none\" stroke=\"black\" d=\"M1051.1,-72.5C1058.61,-72.5 1067.33,-72.5 1076.75,-72.5\"/>\n<polygon fill=\"black\" stroke=\"black\" points=\"1076.78,-76 1086.78,-72.5 1076.78,-69 1076.78,-76\"/>\n</g>\n<!-- 140204873948408 -->\n<g id=\"node6\" class=\"node\">\n<title>140204873948408</title>\n<polygon fill=\"none\" stroke=\"black\" points=\"0,-83.5 0,-119.5 237,-119.5 237,-83.5 0,-83.5\"/>\n<text text-anchor=\"middle\" x=\"13\" y=\"-97.8\" font-family=\"Times,serif\" font-size=\"14.00\">b</text>\n<polyline fill=\"none\" stroke=\"black\" points=\"26,-83.5 26,-119.5 \"/>\n<text text-anchor=\"middle\" x=\"79.5\" y=\"-97.8\" font-family=\"Times,serif\" font-size=\"14.00\">data &#45;3.0000</text>\n<polyline fill=\"none\" stroke=\"black\" points=\"133,-83.5 133,-119.5 \"/>\n<text text-anchor=\"middle\" x=\"185\" y=\"-97.8\" font-family=\"Times,serif\" font-size=\"14.00\">grad 0.0000</text>\n</g>\n<!-- 140204873948408&#45;&gt;140204873945160* -->\n<g id=\"edge9\" class=\"edge\">\n<title>140204873948408&#45;&gt;140204873945160*</title>\n<path fill=\"none\" stroke=\"black\" d=\"M234.96,-83.49C245.12,-81.91 254.8,-80.4 263.41,-79.05\"/>\n<polygon fill=\"black\" stroke=\"black\" points=\"264.02,-82.5 273.36,-77.5 262.94,-75.58 264.02,-82.5\"/>\n</g>\n<!-- 140204873948464 -->\n<g id=\"node7\" class=\"node\">\n<title>140204873948464</title>\n<polygon fill=\"none\" stroke=\"black\" points=\"3,-28.5 3,-64.5 234,-64.5 234,-28.5 3,-28.5\"/>\n<text text-anchor=\"middle\" x=\"15.5\" y=\"-42.8\" font-family=\"Times,serif\" font-size=\"14.00\">a</text>\n<polyline fill=\"none\" stroke=\"black\" points=\"28,-28.5 28,-64.5 \"/>\n<text text-anchor=\"middle\" x=\"79\" y=\"-42.8\" font-family=\"Times,serif\" font-size=\"14.00\">data 2.0000</text>\n<polyline fill=\"none\" stroke=\"black\" points=\"130,-28.5 130,-64.5 \"/>\n<text text-anchor=\"middle\" x=\"182\" y=\"-42.8\" font-family=\"Times,serif\" font-size=\"14.00\">grad 0.0000</text>\n</g>\n<!-- 140204873948464&#45;&gt;140204873945160* -->\n<g id=\"edge6\" class=\"edge\">\n<title>140204873948464&#45;&gt;140204873945160*</title>\n<path fill=\"none\" stroke=\"black\" d=\"M234.2,-63.75C244.55,-65.31 254.43,-66.8 263.21,-68.12\"/>\n<polygon fill=\"black\" stroke=\"black\" points=\"262.92,-71.61 273.33,-69.64 263.96,-64.69 262.92,-71.61\"/>\n</g>\n<!-- 140204874125664 -->\n<g id=\"node8\" class=\"node\">\n<title>140204874125664</title>\n<polygon fill=\"none\" stroke=\"black\" points=\"728.5,-27.5 728.5,-63.5 960.5,-63.5 960.5,-27.5 728.5,-27.5\"/>\n<text text-anchor=\"middle\" x=\"741.5\" y=\"-41.8\" font-family=\"Times,serif\" font-size=\"14.00\">d</text>\n<polyline fill=\"none\" stroke=\"black\" points=\"754.5,-27.5 754.5,-63.5 \"/>\n<text text-anchor=\"middle\" x=\"805.5\" y=\"-41.8\" font-family=\"Times,serif\" font-size=\"14.00\">data 4.0000</text>\n<polyline fill=\"none\" stroke=\"black\" points=\"856.5,-27.5 856.5,-63.5 \"/>\n<text text-anchor=\"middle\" x=\"908.5\" y=\"-41.8\" font-family=\"Times,serif\" font-size=\"14.00\">grad 0.0000</text>\n</g>\n<!-- 140204874125664&#45;&gt;140204874125552* -->\n<g id=\"edge7\" class=\"edge\">\n<title>140204874125664&#45;&gt;140204874125552*</title>\n<path fill=\"none\" stroke=\"black\" d=\"M960.92,-63.06C970.4,-64.5 979.44,-65.87 987.54,-67.11\"/>\n<polygon fill=\"black\" stroke=\"black\" points=\"987.19,-70.59 997.6,-68.64 988.24,-63.67 987.19,-70.59\"/>\n</g>\n<!-- 140204874125664+&#45;&gt;140204874125664 -->\n<g id=\"edge3\" class=\"edge\">\n<title>140204874125664+&#45;&gt;140204874125664</title>\n<path fill=\"none\" stroke=\"black\" d=\"M692.19,-45.5C699.78,-45.5 708.61,-45.5 718.11,-45.5\"/>\n<polygon fill=\"black\" stroke=\"black\" points=\"718.24,-49 728.24,-45.5 718.24,-42 718.24,-49\"/>\n</g>\n<!-- 140204873948520 -->\n<g id=\"node10\" class=\"node\">\n<title>140204873948520</title>\n<polygon fill=\"none\" stroke=\"black\" points=\"363,-0.5 363,-36.5 602,-36.5 602,-0.5 363,-0.5\"/>\n<text text-anchor=\"middle\" x=\"375\" y=\"-14.8\" font-family=\"Times,serif\" font-size=\"14.00\">c</text>\n<polyline fill=\"none\" stroke=\"black\" points=\"387,-0.5 387,-36.5 \"/>\n<text text-anchor=\"middle\" x=\"442.5\" y=\"-14.8\" font-family=\"Times,serif\" font-size=\"14.00\">data 10.0000</text>\n<polyline fill=\"none\" stroke=\"black\" points=\"498,-0.5 498,-36.5 \"/>\n<text text-anchor=\"middle\" x=\"550\" y=\"-14.8\" font-family=\"Times,serif\" font-size=\"14.00\">grad 0.0000</text>\n</g>\n<!-- 140204873948520&#45;&gt;140204874125664+ -->\n<g id=\"edge4\" class=\"edge\">\n<title>140204873948520&#45;&gt;140204874125664+</title>\n<path fill=\"none\" stroke=\"black\" d=\"M602.13,-36.25C611.53,-37.65 620.47,-38.99 628.48,-40.19\"/>\n<polygon fill=\"black\" stroke=\"black\" points=\"628.03,-43.66 638.44,-41.68 629.07,-36.74 628.03,-43.66\"/>\n</g>\n</g>\n</svg>\n",
      "text/plain": "<graphviz.graphs.Digraph at 0x7f83fdb7d1d0>"
     },
     "execution_count": 9,
     "metadata": {},
     "output_type": "execute_result"
    }
   ],
   "source": [
    "draw_dot(L)"
   ],
   "metadata": {
    "collapsed": false,
    "pycharm": {
     "name": "#%%\n"
    }
   }
  },
  {
   "cell_type": "markdown",
   "source": [
    "### Propagacja wsteczna\n",
    "\n",
    "W kontekście sieci neuronowych interesuje nas pochodna funkcji straty ($L$) w zależności od każdej ze zmiennych zawartych w grafie obliczeniowym, które będziemy nazywali *wagami* sieci. Użyjemy wartości gradientów do aktualizacji wartości funkcji straty.\n",
    "Każdy gradient w grafie obliczeń reprezentuje pochodną wartości wyjściowej w zależności od wartości, do której jest przypisany.\n",
    "\n",
    "#### Przykład\n",
    "$L=d*f$\n",
    "\n",
    "* $\\frac{\\mathrm{d}L}{\\mathrm{d}L} = 1$\n",
    "* $\\frac{\\mathrm{d}L}{\\mathrm{d}d} = \\frac{\\mathrm{d}}{\\mathrm{d}d}d*f = f$\n",
    "* $\\frac{\\mathrm{d}L}{\\mathrm{d}f} = \\frac{\\mathrm{d}}{\\mathrm{d}f}d*f = d$"
   ],
   "metadata": {
    "collapsed": false,
    "pycharm": {
     "name": "#%% md\n"
    }
   }
  },
  {
   "cell_type": "code",
   "execution_count": 10,
   "outputs": [],
   "source": [
    "L.grad = 1.0\n",
    "d.grad = -2.0\n",
    "f.grad = 4.0"
   ],
   "metadata": {
    "collapsed": false,
    "pycharm": {
     "name": "#%%\n"
    }
   }
  },
  {
   "cell_type": "markdown",
   "source": [
    "#### [Reguła łańcuchowa](https://pl.wikipedia.org/wiki/Regu%C5%82a_%C5%82a%C5%84cuchowa)\n",
    "Jak wyznaczyć $\\frac{\\mathrm{d}L}{\\mathrm{d}c} = ?$. Aby to zrobić, należy skorzystać z *reguły łańcuchowej*. Jeżeli znamy wpływ, jaki ma na zmienną $L$ zmienna $d$ (czyt. znamy $\\frac{\\mathrm{d}L}{\\mathrm{d}d}$), oraz znamy wpływ, jaki na zmienną $d$ ma zmienna $c$ (znamy $\\frac{\\mathrm{d}d}{\\mathrm{d}c}$), możemy użyć tych informacji do wyznaczenia $\\frac{\\mathrm{d}L}{\\mathrm{d}c}$. $d = c + e$, stąd $\\frac{\\mathrm{d}d}{\\mathrm{d}c}=1$ (analogicznie, $\\frac{\\mathrm{d}d}{\\mathrm{d}e}=1$).\n",
    "\n",
    "$\\frac{\\mathrm{d}L}{\\mathrm{d}c} = \\frac{\\mathrm{d}L}{\\mathrm{d}d} * \\frac{\\mathrm{d}d}{\\mathrm{d}c} = -2 * 1 = -2$.\n",
    "$\\frac{\\mathrm{d}L}{\\mathrm{d}e} = -2$\n",
    "\n",
    "Węzły z operacją dodawania lokalnie \"przenoszą\" wartości gradientów."
   ],
   "metadata": {
    "collapsed": false,
    "pycharm": {
     "name": "#%% md\n"
    }
   }
  },
  {
   "cell_type": "code",
   "execution_count": 11,
   "outputs": [],
   "source": [
    "c.grad = -2\n",
    "e.grad = -2"
   ],
   "metadata": {
    "collapsed": false,
    "pycharm": {
     "name": "#%%\n"
    }
   }
  },
  {
   "cell_type": "markdown",
   "source": [
    "Aby wyznaczyć wartości gradientów dla węzłów $a$ i $b$, również zastosujemy regułę łańcuchową.\n",
    "$e = a*b, \\frac{\\mathrm{d}e}{\\mathrm{d}a} = -3, \\frac{\\mathrm{d}e}{\\mathrm{d}b} = 2$\n",
    "$\\frac{\\mathrm{d}L}{\\mathrm{d}a} = \\frac{\\mathrm{d}L}{\\mathrm{d}e} * \\frac{\\mathrm{d}e}{\\mathrm{d}a} = -2 * -3 = 6$\n",
    "$\\frac{\\mathrm{d}L}{\\mathrm{d}b} = \\frac{\\mathrm{d}L}{\\mathrm{d}e} * \\frac{\\mathrm{d}e}{\\mathrm{d}b} = -2 * 2 = -4$\n",
    "\n",
    "Tak otrzymujemy wypełniony graf obliczeń."
   ],
   "metadata": {
    "collapsed": false,
    "pycharm": {
     "name": "#%% md\n"
    }
   }
  },
  {
   "cell_type": "code",
   "execution_count": 12,
   "outputs": [
    {
     "data": {
      "image/svg+xml": "<?xml version=\"1.0\" encoding=\"UTF-8\" standalone=\"no\"?>\n<!DOCTYPE svg PUBLIC \"-//W3C//DTD SVG 1.1//EN\"\n \"http://www.w3.org/Graphics/SVG/1.1/DTD/svg11.dtd\">\n<!-- Generated by graphviz version 2.43.0 (0)\n -->\n<!-- Title: %3 Pages: 1 -->\n<svg width=\"1343pt\" height=\"128pt\"\n viewBox=\"0.00 0.00 1343.00 128.00\" xmlns=\"http://www.w3.org/2000/svg\" xmlns:xlink=\"http://www.w3.org/1999/xlink\">\n<g id=\"graph0\" class=\"graph\" transform=\"scale(1 1) rotate(0) translate(4 124)\">\n<title>%3</title>\n<polygon fill=\"white\" stroke=\"transparent\" points=\"-4,4 -4,-124 1339,-124 1339,4 -4,4\"/>\n<!-- 140204874125384 -->\n<g id=\"node1\" class=\"node\">\n<title>140204874125384</title>\n<polygon fill=\"none\" stroke=\"black\" points=\"737.5,-82.5 737.5,-118.5 970.5,-118.5 970.5,-82.5 737.5,-82.5\"/>\n<text text-anchor=\"middle\" x=\"748.5\" y=\"-96.8\" font-family=\"Times,serif\" font-size=\"14.00\">f</text>\n<polyline fill=\"none\" stroke=\"black\" points=\"759.5,-82.5 759.5,-118.5 \"/>\n<text text-anchor=\"middle\" x=\"813\" y=\"-96.8\" font-family=\"Times,serif\" font-size=\"14.00\">data &#45;2.0000</text>\n<polyline fill=\"none\" stroke=\"black\" points=\"866.5,-82.5 866.5,-118.5 \"/>\n<text text-anchor=\"middle\" x=\"918.5\" y=\"-96.8\" font-family=\"Times,serif\" font-size=\"14.00\">grad 4.0000</text>\n</g>\n<!-- 140204874125552* -->\n<g id=\"node5\" class=\"node\">\n<title>140204874125552*</title>\n<ellipse fill=\"none\" stroke=\"black\" cx=\"1035\" cy=\"-72.5\" rx=\"27\" ry=\"18\"/>\n<text text-anchor=\"middle\" x=\"1035\" y=\"-68.8\" font-family=\"Times,serif\" font-size=\"14.00\">*</text>\n</g>\n<!-- 140204874125384&#45;&gt;140204874125552* -->\n<g id=\"edge5\" class=\"edge\">\n<title>140204874125384&#45;&gt;140204874125552*</title>\n<path fill=\"none\" stroke=\"black\" d=\"M970.13,-82.49C980.27,-80.91 989.92,-79.4 998.51,-78.05\"/>\n<polygon fill=\"black\" stroke=\"black\" points=\"999.09,-81.5 1008.43,-76.5 998.01,-74.59 999.09,-81.5\"/>\n</g>\n<!-- 140204873945160 -->\n<g id=\"node2\" class=\"node\">\n<title>140204873945160</title>\n<polygon fill=\"none\" stroke=\"black\" points=\"368.5,-55.5 368.5,-91.5 608.5,-91.5 608.5,-55.5 368.5,-55.5\"/>\n<text text-anchor=\"middle\" x=\"381\" y=\"-69.8\" font-family=\"Times,serif\" font-size=\"14.00\">e</text>\n<polyline fill=\"none\" stroke=\"black\" points=\"393.5,-55.5 393.5,-91.5 \"/>\n<text text-anchor=\"middle\" x=\"447\" y=\"-69.8\" font-family=\"Times,serif\" font-size=\"14.00\">data &#45;6.0000</text>\n<polyline fill=\"none\" stroke=\"black\" points=\"500.5,-55.5 500.5,-91.5 \"/>\n<text text-anchor=\"middle\" x=\"554.5\" y=\"-69.8\" font-family=\"Times,serif\" font-size=\"14.00\">grad &#45;2.0000</text>\n</g>\n<!-- 140204874125664+ -->\n<g id=\"node9\" class=\"node\">\n<title>140204874125664+</title>\n<ellipse fill=\"none\" stroke=\"black\" cx=\"673\" cy=\"-45.5\" rx=\"27\" ry=\"18\"/>\n<text text-anchor=\"middle\" x=\"673\" y=\"-41.8\" font-family=\"Times,serif\" font-size=\"14.00\">+</text>\n</g>\n<!-- 140204873945160&#45;&gt;140204874125664+ -->\n<g id=\"edge8\" class=\"edge\">\n<title>140204873945160&#45;&gt;140204874125664+</title>\n<path fill=\"none\" stroke=\"black\" d=\"M606.89,-55.49C617.53,-53.86 627.65,-52.3 636.61,-50.93\"/>\n<polygon fill=\"black\" stroke=\"black\" points=\"637.2,-54.38 646.55,-49.4 636.14,-47.46 637.2,-54.38\"/>\n</g>\n<!-- 140204873945160* -->\n<g id=\"node3\" class=\"node\">\n<title>140204873945160*</title>\n<ellipse fill=\"none\" stroke=\"black\" cx=\"304\" cy=\"-73.5\" rx=\"27\" ry=\"18\"/>\n<text text-anchor=\"middle\" x=\"304\" y=\"-69.8\" font-family=\"Times,serif\" font-size=\"14.00\">*</text>\n</g>\n<!-- 140204873945160*&#45;&gt;140204873945160 -->\n<g id=\"edge1\" class=\"edge\">\n<title>140204873945160*&#45;&gt;140204873945160</title>\n<path fill=\"none\" stroke=\"black\" d=\"M331.15,-73.5C338.98,-73.5 348.16,-73.5 358.06,-73.5\"/>\n<polygon fill=\"black\" stroke=\"black\" points=\"358.19,-77 368.19,-73.5 358.19,-70 358.19,-77\"/>\n</g>\n<!-- 140204874125552 -->\n<g id=\"node4\" class=\"node\">\n<title>140204874125552</title>\n<polygon fill=\"none\" stroke=\"black\" points=\"1098,-54.5 1098,-90.5 1335,-90.5 1335,-54.5 1098,-54.5\"/>\n<text text-anchor=\"middle\" x=\"1111\" y=\"-68.8\" font-family=\"Times,serif\" font-size=\"14.00\">L</text>\n<polyline fill=\"none\" stroke=\"black\" points=\"1124,-54.5 1124,-90.5 \"/>\n<text text-anchor=\"middle\" x=\"1177.5\" y=\"-68.8\" font-family=\"Times,serif\" font-size=\"14.00\">data &#45;8.0000</text>\n<polyline fill=\"none\" stroke=\"black\" points=\"1231,-54.5 1231,-90.5 \"/>\n<text text-anchor=\"middle\" x=\"1283\" y=\"-68.8\" font-family=\"Times,serif\" font-size=\"14.00\">grad 1.0000</text>\n</g>\n<!-- 140204874125552*&#45;&gt;140204874125552 -->\n<g id=\"edge2\" class=\"edge\">\n<title>140204874125552*&#45;&gt;140204874125552</title>\n<path fill=\"none\" stroke=\"black\" d=\"M1062.1,-72.5C1069.61,-72.5 1078.33,-72.5 1087.75,-72.5\"/>\n<polygon fill=\"black\" stroke=\"black\" points=\"1087.78,-76 1097.78,-72.5 1087.78,-69 1087.78,-76\"/>\n</g>\n<!-- 140204873948408 -->\n<g id=\"node6\" class=\"node\">\n<title>140204873948408</title>\n<polygon fill=\"none\" stroke=\"black\" points=\"0,-83.5 0,-119.5 241,-119.5 241,-83.5 0,-83.5\"/>\n<text text-anchor=\"middle\" x=\"13\" y=\"-97.8\" font-family=\"Times,serif\" font-size=\"14.00\">b</text>\n<polyline fill=\"none\" stroke=\"black\" points=\"26,-83.5 26,-119.5 \"/>\n<text text-anchor=\"middle\" x=\"79.5\" y=\"-97.8\" font-family=\"Times,serif\" font-size=\"14.00\">data &#45;3.0000</text>\n<polyline fill=\"none\" stroke=\"black\" points=\"133,-83.5 133,-119.5 \"/>\n<text text-anchor=\"middle\" x=\"187\" y=\"-97.8\" font-family=\"Times,serif\" font-size=\"14.00\">grad &#45;4.0000</text>\n</g>\n<!-- 140204873948408&#45;&gt;140204873945160* -->\n<g id=\"edge9\" class=\"edge\">\n<title>140204873948408&#45;&gt;140204873945160*</title>\n<path fill=\"none\" stroke=\"black\" d=\"M238.24,-83.49C248.61,-81.89 258.49,-80.37 267.27,-79.01\"/>\n<polygon fill=\"black\" stroke=\"black\" points=\"268.03,-82.44 277.38,-77.45 266.97,-75.52 268.03,-82.44\"/>\n</g>\n<!-- 140204873948464 -->\n<g id=\"node7\" class=\"node\">\n<title>140204873948464</title>\n<polygon fill=\"none\" stroke=\"black\" points=\"5,-28.5 5,-64.5 236,-64.5 236,-28.5 5,-28.5\"/>\n<text text-anchor=\"middle\" x=\"17.5\" y=\"-42.8\" font-family=\"Times,serif\" font-size=\"14.00\">a</text>\n<polyline fill=\"none\" stroke=\"black\" points=\"30,-28.5 30,-64.5 \"/>\n<text text-anchor=\"middle\" x=\"81\" y=\"-42.8\" font-family=\"Times,serif\" font-size=\"14.00\">data 2.0000</text>\n<polyline fill=\"none\" stroke=\"black\" points=\"132,-28.5 132,-64.5 \"/>\n<text text-anchor=\"middle\" x=\"184\" y=\"-42.8\" font-family=\"Times,serif\" font-size=\"14.00\">grad 6.0000</text>\n</g>\n<!-- 140204873948464&#45;&gt;140204873945160* -->\n<g id=\"edge6\" class=\"edge\">\n<title>140204873948464&#45;&gt;140204873945160*</title>\n<path fill=\"none\" stroke=\"black\" d=\"M236.19,-63.56C247.37,-65.22 258.02,-66.81 267.41,-68.21\"/>\n<polygon fill=\"black\" stroke=\"black\" points=\"267.02,-71.69 277.43,-69.7 268.05,-64.76 267.02,-71.69\"/>\n</g>\n<!-- 140204874125664 -->\n<g id=\"node8\" class=\"node\">\n<title>140204874125664</title>\n<polygon fill=\"none\" stroke=\"black\" points=\"736,-27.5 736,-63.5 972,-63.5 972,-27.5 736,-27.5\"/>\n<text text-anchor=\"middle\" x=\"749\" y=\"-41.8\" font-family=\"Times,serif\" font-size=\"14.00\">d</text>\n<polyline fill=\"none\" stroke=\"black\" points=\"762,-27.5 762,-63.5 \"/>\n<text text-anchor=\"middle\" x=\"813\" y=\"-41.8\" font-family=\"Times,serif\" font-size=\"14.00\">data 4.0000</text>\n<polyline fill=\"none\" stroke=\"black\" points=\"864,-27.5 864,-63.5 \"/>\n<text text-anchor=\"middle\" x=\"918\" y=\"-41.8\" font-family=\"Times,serif\" font-size=\"14.00\">grad &#45;2.0000</text>\n</g>\n<!-- 140204874125664&#45;&gt;140204874125552* -->\n<g id=\"edge7\" class=\"edge\">\n<title>140204874125664&#45;&gt;140204874125552*</title>\n<path fill=\"none\" stroke=\"black\" d=\"M972.15,-63.17C981.53,-64.58 990.46,-65.93 998.46,-67.14\"/>\n<polygon fill=\"black\" stroke=\"black\" points=\"998.01,-70.61 1008.42,-68.64 999.06,-63.69 998.01,-70.61\"/>\n</g>\n<!-- 140204874125664+&#45;&gt;140204874125664 -->\n<g id=\"edge3\" class=\"edge\">\n<title>140204874125664+&#45;&gt;140204874125664</title>\n<path fill=\"none\" stroke=\"black\" d=\"M700.03,-45.5C707.58,-45.5 716.38,-45.5 725.87,-45.5\"/>\n<polygon fill=\"black\" stroke=\"black\" points=\"725.99,-49 735.99,-45.5 725.99,-42 725.99,-49\"/>\n</g>\n<!-- 140204873948520 -->\n<g id=\"node10\" class=\"node\">\n<title>140204873948520</title>\n<polygon fill=\"none\" stroke=\"black\" points=\"367,-0.5 367,-36.5 610,-36.5 610,-0.5 367,-0.5\"/>\n<text text-anchor=\"middle\" x=\"379\" y=\"-14.8\" font-family=\"Times,serif\" font-size=\"14.00\">c</text>\n<polyline fill=\"none\" stroke=\"black\" points=\"391,-0.5 391,-36.5 \"/>\n<text text-anchor=\"middle\" x=\"446.5\" y=\"-14.8\" font-family=\"Times,serif\" font-size=\"14.00\">data 10.0000</text>\n<polyline fill=\"none\" stroke=\"black\" points=\"502,-0.5 502,-36.5 \"/>\n<text text-anchor=\"middle\" x=\"556\" y=\"-14.8\" font-family=\"Times,serif\" font-size=\"14.00\">grad &#45;2.0000</text>\n</g>\n<!-- 140204873948520&#45;&gt;140204874125664+ -->\n<g id=\"edge4\" class=\"edge\">\n<title>140204873948520&#45;&gt;140204874125664+</title>\n<path fill=\"none\" stroke=\"black\" d=\"M610.21,-36.36C619.62,-37.75 628.55,-39.07 636.56,-40.26\"/>\n<polygon fill=\"black\" stroke=\"black\" points=\"636.1,-43.73 646.5,-41.73 637.12,-36.8 636.1,-43.73\"/>\n</g>\n</g>\n</svg>\n",
      "text/plain": "<graphviz.graphs.Digraph at 0x7f83fdb7d748>"
     },
     "execution_count": 12,
     "metadata": {},
     "output_type": "execute_result"
    }
   ],
   "source": [
    "a.grad = 6\n",
    "b.grad = -4\n",
    "draw_dot(L)"
   ],
   "metadata": {
    "collapsed": false,
    "pycharm": {
     "name": "#%%\n"
    }
   }
  },
  {
   "cell_type": "markdown",
   "source": [
    "Podsumowując, propagacja wsteczna jest rekurencyjną aplikacją reguły łańcuchowej poruszając się wstecz przez graf obliczeniowy.\n",
    "\n",
    "Jak użyć wyznaczonych wartości? Spróbujmy podnieść wartość $L$. Oznacza to, że musimy zwiększać wartości zmiennych wpływających na $L$ w kierunku gradientów!\n",
    "\n",
    "Jest to pojedynczy krok algorytmu optymalizacyjnego propagacji wstecznej sieci neuronowych."
   ],
   "metadata": {
    "collapsed": false,
    "pycharm": {
     "name": "#%% md\n"
    }
   }
  },
  {
   "cell_type": "code",
   "execution_count": 13,
   "outputs": [
    {
     "data": {
      "text/plain": "Value(data=-7.928064095999999)"
     },
     "execution_count": 13,
     "metadata": {},
     "output_type": "execute_result"
    }
   ],
   "source": [
    "h = 0.001  #krok\n",
    "a.data += h * a.grad\n",
    "b.data += h * b.grad\n",
    "c.data += h * c.grad\n",
    "f.data += h * f.grad\n",
    "\n",
    "e = a * b\n",
    "d = e + c\n",
    "L = d * f\n",
    "L"
   ],
   "metadata": {
    "collapsed": false,
    "pycharm": {
     "name": "#%%\n"
    }
   }
  },
  {
   "cell_type": "markdown",
   "source": [
    "### Neuron\n",
    "\n",
    "Neuron otrzymuje na wejściu dane ($x_{i}$). Przechodzą one przez synapsy, gdzie każda z nich posiada przypisaną wagę ($w_{i}$). Do \"komórki\" wpada iloczyn danej wejściowej oraz wagi synapsy ($x_{i}w_{i}$). Danych wejściowych może być wiele, stąd neuron sumuje wszystkie iloczyny, dodaje 'bias', który niezależnie od danych wejściowych może podnieść lub obniżyć wartość wyjściową komórki. Na końcu neuron dokonuje *aktywacji* poprzez *funkcję aktywacji*. Funkcja ta \"zgniata\" (ang. *squashing*) wartość sumy do pewnego zakresu liczbowego. Na przykład funkcja *softmax* przyjmuje na wejściu wartość rzeczywistą, a na wyjściu zwraca wartość z zakresu $[0,1]$. Innym przykładem funkcji aktywacji jest $tanh$.\n",
    "\n",
    "\n",
    "![](img/neuron_model.jpeg)"
   ],
   "metadata": {
    "collapsed": false,
    "pycharm": {
     "name": "#%% md\n"
    }
   }
  },
  {
   "cell_type": "code",
   "execution_count": 14,
   "outputs": [
    {
     "data": {
      "text/plain": "<Figure size 432x288 with 1 Axes>",
      "image/png": "[encoded data removed]"
     },
     "metadata": {
      "needs_background": "light"
     },
     "output_type": "display_data"
    }
   ],
   "source": [
    "plt.plot(np.arange(-5,5,0.2), np.tanh(np.arange(-5,5,0.2))); plt.grid();"
   ],
   "metadata": {
    "collapsed": false,
    "pycharm": {
     "name": "#%%\n"
    }
   }
  },
  {
   "cell_type": "markdown",
   "source": [
    "Wartości wejściowe do funkcji $tanh$ są \"zgniatane\" to wartości z zakresu $[-1,1]$. Warto zwrócić uwagę, że wartości $(-\\infty,-2)$ otrzymają wartości bliskie $-1$, natomiast od $(2, \\infty)$ wartość $1$."
   ],
   "metadata": {
    "collapsed": false,
    "pycharm": {
     "name": "#%% md\n"
    }
   }
  },
  {
   "cell_type": "markdown",
   "source": [
    "Do tej pory klasa Value potrafi jedynie wykonywać działania $+$ oraz $*$. Teraz chcemy użyć funkcji $tanh$, więc klasa ta powinna wspierać taką operację. Wzór na $tanh$:\n",
    "\n",
    "$$tanh(x) = \\frac{e^{2x}-1}{e^{2x}+1}$$\n",
    "\n",
    "Aby klasa Value wspierała funkcję $tanh$ możemy:\n",
    "* dodać możliwość wykonywania działania $exp$ oraz wyznaczyć wartość $tanh$ z atomowych komponentów w ramach grafu obliczeniowego\n",
    "* wyznaczyć $tanh$ bezpośrednio jako pojedynczy węzeł grafu\n",
    "\n",
    "Budując autograd, możemy tworzyć funkcje na dowolnym poziomie abstrakcji (skomplikowania). Najważniejsze jest, aby móc wyznaczyć lokalną pochodną dla każdej z użytych funkcji w grafie obliczeniowym."
   ],
   "metadata": {
    "collapsed": false,
    "pycharm": {
     "name": "#%% md\n"
    }
   }
  },
  {
   "cell_type": "code",
   "execution_count": 59,
   "outputs": [],
   "source": [
    "# wartości wejściowe\n",
    "x1 = Value(2.0, label='x1')\n",
    "x2 = Value(0.0, label='x2')\n",
    "# wagi\n",
    "w1 = Value(-3.0, label='w1')\n",
    "w2 = Value(1.0, label='w2')\n",
    "# bias neuronu\n",
    "b = Value(6.8813735870195432, label='b')\n",
    "# x1*w1 + x2*w2 + b\n",
    "x1w1 = x1*w1; x1w1.label = 'x1*w1'\n",
    "x2w2 = x2*w2; x2w2.label = 'x2*w2'\n",
    "x1w1x2w2 = x1w1 + x2w2; x1w1x2w2.label = 'x1*w1 + x2*w2'\n",
    "# wartość sumy\n",
    "n = x1w1x2w2 + b; n.label = 'n'\n",
    "# aktywacja\n",
    "o = n.tanh(); o.label = 'o'"
   ],
   "metadata": {
    "collapsed": false,
    "pycharm": {
     "name": "#%%\n"
    }
   }
  },
  {
   "cell_type": "code",
   "execution_count": 27,
   "outputs": [
    {
     "data": {
      "image/svg+xml": "<?xml version=\"1.0\" encoding=\"UTF-8\" standalone=\"no\"?>\n<!DOCTYPE svg PUBLIC \"-//W3C//DTD SVG 1.1//EN\"\n \"http://www.w3.org/Graphics/SVG/1.1/DTD/svg11.dtd\">\n<!-- Generated by graphviz version 2.43.0 (0)\n -->\n<!-- Title: %3 Pages: 1 -->\n<svg width=\"1846pt\" height=\"210pt\"\n viewBox=\"0.00 0.00 1845.69 210.00\" xmlns=\"http://www.w3.org/2000/svg\" xmlns:xlink=\"http://www.w3.org/1999/xlink\">\n<g id=\"graph0\" class=\"graph\" transform=\"scale(1 1) rotate(0) translate(4 206)\">\n<title>%3</title>\n<polygon fill=\"white\" stroke=\"transparent\" points=\"-4,4 -4,-206 1841.69,-206 1841.69,4 -4,4\"/>\n<!-- 140206873562136 -->\n<g id=\"node1\" class=\"node\">\n<title>140206873562136</title>\n<polygon fill=\"none\" stroke=\"black\" points=\"1606.69,-54.5 1606.69,-90.5 1837.69,-90.5 1837.69,-54.5 1606.69,-54.5\"/>\n<text text-anchor=\"middle\" x=\"1619.19\" y=\"-68.8\" font-family=\"Times,serif\" font-size=\"14.00\">o</text>\n<polyline fill=\"none\" stroke=\"black\" points=\"1631.69,-54.5 1631.69,-90.5 \"/>\n<text text-anchor=\"middle\" x=\"1682.69\" y=\"-68.8\" font-family=\"Times,serif\" font-size=\"14.00\">data 0.7071</text>\n<polyline fill=\"none\" stroke=\"black\" points=\"1733.69,-54.5 1733.69,-90.5 \"/>\n<text text-anchor=\"middle\" x=\"1785.69\" y=\"-68.8\" font-family=\"Times,serif\" font-size=\"14.00\">grad 0.0000</text>\n</g>\n<!-- 140206873562136tanh -->\n<g id=\"node2\" class=\"node\">\n<title>140206873562136tanh</title>\n<ellipse fill=\"none\" stroke=\"black\" cx=\"1538.85\" cy=\"-72.5\" rx=\"31.7\" ry=\"18\"/>\n<text text-anchor=\"middle\" x=\"1538.85\" y=\"-68.8\" font-family=\"Times,serif\" font-size=\"14.00\">tanh</text>\n</g>\n<!-- 140206873562136tanh&#45;&gt;140206873562136 -->\n<g id=\"edge1\" class=\"edge\">\n<title>140206873562136tanh&#45;&gt;140206873562136</title>\n<path fill=\"none\" stroke=\"black\" d=\"M1571.02,-72.5C1578.61,-72.5 1587.19,-72.5 1596.31,-72.5\"/>\n<polygon fill=\"black\" stroke=\"black\" points=\"1596.4,-76 1606.4,-72.5 1596.4,-69 1596.4,-76\"/>\n</g>\n<!-- 140206873561128 -->\n<g id=\"node3\" class=\"node\">\n<title>140206873561128</title>\n<polygon fill=\"none\" stroke=\"black\" points=\"774,-82.5 774,-118.5 1113,-118.5 1113,-82.5 774,-82.5\"/>\n<text text-anchor=\"middle\" x=\"838\" y=\"-96.8\" font-family=\"Times,serif\" font-size=\"14.00\">x1*w1 + x2*w2</text>\n<polyline fill=\"none\" stroke=\"black\" points=\"902,-82.5 902,-118.5 \"/>\n<text text-anchor=\"middle\" x=\"955.5\" y=\"-96.8\" font-family=\"Times,serif\" font-size=\"14.00\">data &#45;6.0000</text>\n<polyline fill=\"none\" stroke=\"black\" points=\"1009,-82.5 1009,-118.5 \"/>\n<text text-anchor=\"middle\" x=\"1061\" y=\"-96.8\" font-family=\"Times,serif\" font-size=\"14.00\">grad 0.0000</text>\n</g>\n<!-- 140206873562640+ -->\n<g id=\"node6\" class=\"node\">\n<title>140206873562640+</title>\n<ellipse fill=\"none\" stroke=\"black\" cx=\"1176\" cy=\"-72.5\" rx=\"27\" ry=\"18\"/>\n<text text-anchor=\"middle\" x=\"1176\" y=\"-68.8\" font-family=\"Times,serif\" font-size=\"14.00\">+</text>\n</g>\n<!-- 140206873561128&#45;&gt;140206873562640+ -->\n<g id=\"edge9\" class=\"edge\">\n<title>140206873561128&#45;&gt;140206873562640+</title>\n<path fill=\"none\" stroke=\"black\" d=\"M1092.76,-82.49C1109.86,-80.41 1125.9,-78.46 1139.2,-76.85\"/>\n<polygon fill=\"black\" stroke=\"black\" points=\"1139.74,-80.31 1149.24,-75.63 1138.89,-73.36 1139.74,-80.31\"/>\n</g>\n<!-- 140206873561128+ -->\n<g id=\"node4\" class=\"node\">\n<title>140206873561128+</title>\n<ellipse fill=\"none\" stroke=\"black\" cx=\"711\" cy=\"-100.5\" rx=\"27\" ry=\"18\"/>\n<text text-anchor=\"middle\" x=\"711\" y=\"-96.8\" font-family=\"Times,serif\" font-size=\"14.00\">+</text>\n</g>\n<!-- 140206873561128+&#45;&gt;140206873561128 -->\n<g id=\"edge2\" class=\"edge\">\n<title>140206873561128+&#45;&gt;140206873561128</title>\n<path fill=\"none\" stroke=\"black\" d=\"M738.44,-100.5C745.81,-100.5 754.42,-100.5 763.84,-100.5\"/>\n<polygon fill=\"black\" stroke=\"black\" points=\"763.94,-104 773.94,-100.5 763.94,-97 763.94,-104\"/>\n</g>\n<!-- 140206873562640 -->\n<g id=\"node5\" class=\"node\">\n<title>140206873562640</title>\n<polygon fill=\"none\" stroke=\"black\" points=\"1239,-54.5 1239,-90.5 1471,-90.5 1471,-54.5 1239,-54.5\"/>\n<text text-anchor=\"middle\" x=\"1252\" y=\"-68.8\" font-family=\"Times,serif\" font-size=\"14.00\">n</text>\n<polyline fill=\"none\" stroke=\"black\" points=\"1265,-54.5 1265,-90.5 \"/>\n<text text-anchor=\"middle\" x=\"1316\" y=\"-68.8\" font-family=\"Times,serif\" font-size=\"14.00\">data 0.8814</text>\n<polyline fill=\"none\" stroke=\"black\" points=\"1367,-54.5 1367,-90.5 \"/>\n<text text-anchor=\"middle\" x=\"1419\" y=\"-68.8\" font-family=\"Times,serif\" font-size=\"14.00\">grad 0.0000</text>\n</g>\n<!-- 140206873562640&#45;&gt;140206873562136tanh -->\n<g id=\"edge13\" class=\"edge\">\n<title>140206873562640&#45;&gt;140206873562136tanh</title>\n<path fill=\"none\" stroke=\"black\" d=\"M1471.17,-72.5C1480.08,-72.5 1488.66,-72.5 1496.53,-72.5\"/>\n<polygon fill=\"black\" stroke=\"black\" points=\"1496.78,-76 1506.78,-72.5 1496.78,-69 1496.78,-76\"/>\n</g>\n<!-- 140206873562640+&#45;&gt;140206873562640 -->\n<g id=\"edge3\" class=\"edge\">\n<title>140206873562640+&#45;&gt;140206873562640</title>\n<path fill=\"none\" stroke=\"black\" d=\"M1203.12,-72.5C1210.53,-72.5 1219.14,-72.5 1228.4,-72.5\"/>\n<polygon fill=\"black\" stroke=\"black\" points=\"1228.69,-76 1238.69,-72.5 1228.69,-69 1228.69,-76\"/>\n</g>\n<!-- 140206873562752 -->\n<g id=\"node7\" class=\"node\">\n<title>140206873562752</title>\n<polygon fill=\"none\" stroke=\"black\" points=\"827.5,-27.5 827.5,-63.5 1059.5,-63.5 1059.5,-27.5 827.5,-27.5\"/>\n<text text-anchor=\"middle\" x=\"840.5\" y=\"-41.8\" font-family=\"Times,serif\" font-size=\"14.00\">b</text>\n<polyline fill=\"none\" stroke=\"black\" points=\"853.5,-27.5 853.5,-63.5 \"/>\n<text text-anchor=\"middle\" x=\"904.5\" y=\"-41.8\" font-family=\"Times,serif\" font-size=\"14.00\">data 6.8814</text>\n<polyline fill=\"none\" stroke=\"black\" points=\"955.5,-27.5 955.5,-63.5 \"/>\n<text text-anchor=\"middle\" x=\"1007.5\" y=\"-41.8\" font-family=\"Times,serif\" font-size=\"14.00\">grad 0.0000</text>\n</g>\n<!-- 140206873562752&#45;&gt;140206873562640+ -->\n<g id=\"edge7\" class=\"edge\">\n<title>140206873562752&#45;&gt;140206873562640+</title>\n<path fill=\"none\" stroke=\"black\" d=\"M1059.75,-59C1088.57,-62.38 1117.4,-65.75 1139.01,-68.28\"/>\n<polygon fill=\"black\" stroke=\"black\" points=\"1138.67,-71.77 1149.01,-69.46 1139.48,-64.82 1138.67,-71.77\"/>\n</g>\n<!-- 140206873560736 -->\n<g id=\"node8\" class=\"node\">\n<title>140206873560736</title>\n<polygon fill=\"none\" stroke=\"black\" points=\"4.5,-55.5 4.5,-91.5 244.5,-91.5 244.5,-55.5 4.5,-55.5\"/>\n<text text-anchor=\"middle\" x=\"21.5\" y=\"-69.8\" font-family=\"Times,serif\" font-size=\"14.00\">x2</text>\n<polyline fill=\"none\" stroke=\"black\" points=\"38.5,-55.5 38.5,-91.5 \"/>\n<text text-anchor=\"middle\" x=\"89.5\" y=\"-69.8\" font-family=\"Times,serif\" font-size=\"14.00\">data 0.0000</text>\n<polyline fill=\"none\" stroke=\"black\" points=\"140.5,-55.5 140.5,-91.5 \"/>\n<text text-anchor=\"middle\" x=\"192.5\" y=\"-69.8\" font-family=\"Times,serif\" font-size=\"14.00\">grad 0.0000</text>\n</g>\n<!-- 140206873563088* -->\n<g id=\"node15\" class=\"node\">\n<title>140206873563088*</title>\n<ellipse fill=\"none\" stroke=\"black\" cx=\"312\" cy=\"-73.5\" rx=\"27\" ry=\"18\"/>\n<text text-anchor=\"middle\" x=\"312\" y=\"-69.8\" font-family=\"Times,serif\" font-size=\"14.00\">*</text>\n</g>\n<!-- 140206873560736&#45;&gt;140206873563088* -->\n<g id=\"edge12\" class=\"edge\">\n<title>140206873560736&#45;&gt;140206873563088*</title>\n<path fill=\"none\" stroke=\"black\" d=\"M244.55,-73.5C255.31,-73.5 265.54,-73.5 274.62,-73.5\"/>\n<polygon fill=\"black\" stroke=\"black\" points=\"274.7,-77 284.7,-73.5 274.7,-70 274.7,-77\"/>\n</g>\n<!-- 140206873562864 -->\n<g id=\"node9\" class=\"node\">\n<title>140206873562864</title>\n<polygon fill=\"none\" stroke=\"black\" points=\"375,-110.5 375,-146.5 648,-146.5 648,-110.5 375,-110.5\"/>\n<text text-anchor=\"middle\" x=\"406\" y=\"-124.8\" font-family=\"Times,serif\" font-size=\"14.00\">x1*w1</text>\n<polyline fill=\"none\" stroke=\"black\" points=\"437,-110.5 437,-146.5 \"/>\n<text text-anchor=\"middle\" x=\"490.5\" y=\"-124.8\" font-family=\"Times,serif\" font-size=\"14.00\">data &#45;6.0000</text>\n<polyline fill=\"none\" stroke=\"black\" points=\"544,-110.5 544,-146.5 \"/>\n<text text-anchor=\"middle\" x=\"596\" y=\"-124.8\" font-family=\"Times,serif\" font-size=\"14.00\">grad 0.0000</text>\n</g>\n<!-- 140206873562864&#45;&gt;140206873561128+ -->\n<g id=\"edge6\" class=\"edge\">\n<title>140206873562864&#45;&gt;140206873561128+</title>\n<path fill=\"none\" stroke=\"black\" d=\"M639.53,-110.49C652.09,-108.71 663.99,-107.02 674.3,-105.56\"/>\n<polygon fill=\"black\" stroke=\"black\" points=\"675.03,-108.99 684.44,-104.12 674.05,-102.06 675.03,-108.99\"/>\n</g>\n<!-- 140206873562864* -->\n<g id=\"node10\" class=\"node\">\n<title>140206873562864*</title>\n<ellipse fill=\"none\" stroke=\"black\" cx=\"312\" cy=\"-128.5\" rx=\"27\" ry=\"18\"/>\n<text text-anchor=\"middle\" x=\"312\" y=\"-124.8\" font-family=\"Times,serif\" font-size=\"14.00\">*</text>\n</g>\n<!-- 140206873562864*&#45;&gt;140206873562864 -->\n<g id=\"edge4\" class=\"edge\">\n<title>140206873562864*&#45;&gt;140206873562864</title>\n<path fill=\"none\" stroke=\"black\" d=\"M339.23,-128.5C346.7,-128.5 355.41,-128.5 364.87,-128.5\"/>\n<polygon fill=\"black\" stroke=\"black\" points=\"364.98,-132 374.98,-128.5 364.98,-125 364.98,-132\"/>\n</g>\n<!-- 140206873560848 -->\n<g id=\"node11\" class=\"node\">\n<title>140206873560848</title>\n<polygon fill=\"none\" stroke=\"black\" points=\"4.5,-165.5 4.5,-201.5 244.5,-201.5 244.5,-165.5 4.5,-165.5\"/>\n<text text-anchor=\"middle\" x=\"21.5\" y=\"-179.8\" font-family=\"Times,serif\" font-size=\"14.00\">x1</text>\n<polyline fill=\"none\" stroke=\"black\" points=\"38.5,-165.5 38.5,-201.5 \"/>\n<text text-anchor=\"middle\" x=\"89.5\" y=\"-179.8\" font-family=\"Times,serif\" font-size=\"14.00\">data 2.0000</text>\n<polyline fill=\"none\" stroke=\"black\" points=\"140.5,-165.5 140.5,-201.5 \"/>\n<text text-anchor=\"middle\" x=\"192.5\" y=\"-179.8\" font-family=\"Times,serif\" font-size=\"14.00\">grad 0.0000</text>\n</g>\n<!-- 140206873560848&#45;&gt;140206873562864* -->\n<g id=\"edge14\" class=\"edge\">\n<title>140206873560848&#45;&gt;140206873562864*</title>\n<path fill=\"none\" stroke=\"black\" d=\"M218.13,-165.46C228.63,-162.77 239.1,-159.78 249,-156.5 259.71,-152.96 271.05,-148.16 281.07,-143.54\"/>\n<polygon fill=\"black\" stroke=\"black\" points=\"282.67,-146.66 290.2,-139.21 279.67,-140.33 282.67,-146.66\"/>\n</g>\n<!-- 140206873560960 -->\n<g id=\"node12\" class=\"node\">\n<title>140206873560960</title>\n<polygon fill=\"none\" stroke=\"black\" points=\"0,-110.5 0,-146.5 249,-146.5 249,-110.5 0,-110.5\"/>\n<text text-anchor=\"middle\" x=\"19\" y=\"-124.8\" font-family=\"Times,serif\" font-size=\"14.00\">w1</text>\n<polyline fill=\"none\" stroke=\"black\" points=\"38,-110.5 38,-146.5 \"/>\n<text text-anchor=\"middle\" x=\"91.5\" y=\"-124.8\" font-family=\"Times,serif\" font-size=\"14.00\">data &#45;3.0000</text>\n<polyline fill=\"none\" stroke=\"black\" points=\"145,-110.5 145,-146.5 \"/>\n<text text-anchor=\"middle\" x=\"197\" y=\"-124.8\" font-family=\"Times,serif\" font-size=\"14.00\">grad 0.0000</text>\n</g>\n<!-- 140206873560960&#45;&gt;140206873562864* -->\n<g id=\"edge10\" class=\"edge\">\n<title>140206873560960&#45;&gt;140206873562864*</title>\n<path fill=\"none\" stroke=\"black\" d=\"M249.23,-128.5C258.37,-128.5 267.05,-128.5 274.87,-128.5\"/>\n<polygon fill=\"black\" stroke=\"black\" points=\"274.95,-132 284.95,-128.5 274.95,-125 274.95,-132\"/>\n</g>\n<!-- 140206873562528 -->\n<g id=\"node13\" class=\"node\">\n<title>140206873562528</title>\n<polygon fill=\"none\" stroke=\"black\" points=\"2.5,-0.5 2.5,-36.5 246.5,-36.5 246.5,-0.5 2.5,-0.5\"/>\n<text text-anchor=\"middle\" x=\"21.5\" y=\"-14.8\" font-family=\"Times,serif\" font-size=\"14.00\">w2</text>\n<polyline fill=\"none\" stroke=\"black\" points=\"40.5,-0.5 40.5,-36.5 \"/>\n<text text-anchor=\"middle\" x=\"91.5\" y=\"-14.8\" font-family=\"Times,serif\" font-size=\"14.00\">data 1.0000</text>\n<polyline fill=\"none\" stroke=\"black\" points=\"142.5,-0.5 142.5,-36.5 \"/>\n<text text-anchor=\"middle\" x=\"194.5\" y=\"-14.8\" font-family=\"Times,serif\" font-size=\"14.00\">grad 0.0000</text>\n</g>\n<!-- 140206873562528&#45;&gt;140206873563088* -->\n<g id=\"edge8\" class=\"edge\">\n<title>140206873562528&#45;&gt;140206873563088*</title>\n<path fill=\"none\" stroke=\"black\" d=\"M218.13,-36.54C228.63,-39.23 239.1,-42.22 249,-45.5 259.71,-49.04 271.05,-53.84 281.07,-58.46\"/>\n<polygon fill=\"black\" stroke=\"black\" points=\"279.67,-61.67 290.2,-62.79 282.67,-55.34 279.67,-61.67\"/>\n</g>\n<!-- 140206873563088 -->\n<g id=\"node14\" class=\"node\">\n<title>140206873563088</title>\n<polygon fill=\"none\" stroke=\"black\" points=\"377.5,-55.5 377.5,-91.5 645.5,-91.5 645.5,-55.5 377.5,-55.5\"/>\n<text text-anchor=\"middle\" x=\"408.5\" y=\"-69.8\" font-family=\"Times,serif\" font-size=\"14.00\">x2*w2</text>\n<polyline fill=\"none\" stroke=\"black\" points=\"439.5,-55.5 439.5,-91.5 \"/>\n<text text-anchor=\"middle\" x=\"490.5\" y=\"-69.8\" font-family=\"Times,serif\" font-size=\"14.00\">data 0.0000</text>\n<polyline fill=\"none\" stroke=\"black\" points=\"541.5,-55.5 541.5,-91.5 \"/>\n<text text-anchor=\"middle\" x=\"593.5\" y=\"-69.8\" font-family=\"Times,serif\" font-size=\"14.00\">grad 0.0000</text>\n</g>\n<!-- 140206873563088&#45;&gt;140206873561128+ -->\n<g id=\"edge11\" class=\"edge\">\n<title>140206873563088&#45;&gt;140206873561128+</title>\n<path fill=\"none\" stroke=\"black\" d=\"M644.24,-91.51C655.12,-93 665.4,-94.4 674.45,-95.64\"/>\n<polygon fill=\"black\" stroke=\"black\" points=\"674.11,-99.13 684.49,-97.01 675.05,-92.19 674.11,-99.13\"/>\n</g>\n<!-- 140206873563088*&#45;&gt;140206873563088 -->\n<g id=\"edge5\" class=\"edge\">\n<title>140206873563088*&#45;&gt;140206873563088</title>\n<path fill=\"none\" stroke=\"black\" d=\"M339.23,-73.5C347.26,-73.5 356.72,-73.5 366.99,-73.5\"/>\n<polygon fill=\"black\" stroke=\"black\" points=\"367.08,-77 377.08,-73.5 367.08,-70 367.08,-77\"/>\n</g>\n</g>\n</svg>\n",
      "text/plain": "<graphviz.graphs.Digraph at 0x7f8474df2780>"
     },
     "execution_count": 27,
     "metadata": {},
     "output_type": "execute_result"
    }
   ],
   "source": [
    "draw_dot(o)"
   ],
   "metadata": {
    "collapsed": false,
    "pycharm": {
     "name": "#%%\n"
    }
   }
  },
  {
   "cell_type": "markdown",
   "source": [
    "Wyjściem z neuronu jest wartość $0.7071$. Następnym krokiem w algorytmie propagacji wstecznej jest wyznaczenie gradientów. Jakie są wartości pochodnych $o$ względem wszystkich wartości wejściowych (głównie chodzi nam o wagi $w$)?\n",
    "\n",
    "Wyznaczmy lokalne gradienty grafu obliczeniowego:\n",
    "* $\\frac{\\mathrm{d}}{\\mathrm{d}o}o = 1.0$\n",
    "* $\\frac{\\mathrm{d}o}{\\mathrm{d}n} = \\frac{\\mathrm{d}}{\\mathrm{d}n}tanh(n) = 1-tanh(n)^{2} = 1-o^{2}$"
   ],
   "metadata": {
    "collapsed": false,
    "pycharm": {
     "name": "#%% md\n"
    }
   }
  },
  {
   "cell_type": "code",
   "execution_count": 35,
   "outputs": [
    {
     "data": {
      "image/svg+xml": "<?xml version=\"1.0\" encoding=\"UTF-8\" standalone=\"no\"?>\n<!DOCTYPE svg PUBLIC \"-//W3C//DTD SVG 1.1//EN\"\n \"http://www.w3.org/Graphics/SVG/1.1/DTD/svg11.dtd\">\n<!-- Generated by graphviz version 2.43.0 (0)\n -->\n<!-- Title: %3 Pages: 1 -->\n<svg width=\"1846pt\" height=\"210pt\"\n viewBox=\"0.00 0.00 1845.69 210.00\" xmlns=\"http://www.w3.org/2000/svg\" xmlns:xlink=\"http://www.w3.org/1999/xlink\">\n<g id=\"graph0\" class=\"graph\" transform=\"scale(1 1) rotate(0) translate(4 206)\">\n<title>%3</title>\n<polygon fill=\"white\" stroke=\"transparent\" points=\"-4,4 -4,-206 1841.69,-206 1841.69,4 -4,4\"/>\n<!-- 140206873852952 -->\n<g id=\"node1\" class=\"node\">\n<title>140206873852952</title>\n<polygon fill=\"none\" stroke=\"black\" points=\"375,-55.5 375,-91.5 648,-91.5 648,-55.5 375,-55.5\"/>\n<text text-anchor=\"middle\" x=\"406\" y=\"-69.8\" font-family=\"Times,serif\" font-size=\"14.00\">x1*w1</text>\n<polyline fill=\"none\" stroke=\"black\" points=\"437,-55.5 437,-91.5 \"/>\n<text text-anchor=\"middle\" x=\"490.5\" y=\"-69.8\" font-family=\"Times,serif\" font-size=\"14.00\">data &#45;6.0000</text>\n<polyline fill=\"none\" stroke=\"black\" points=\"544,-55.5 544,-91.5 \"/>\n<text text-anchor=\"middle\" x=\"596\" y=\"-69.8\" font-family=\"Times,serif\" font-size=\"14.00\">grad 0.5000</text>\n</g>\n<!-- 140206873852504+ -->\n<g id=\"node5\" class=\"node\">\n<title>140206873852504+</title>\n<ellipse fill=\"none\" stroke=\"black\" cx=\"711\" cy=\"-100.5\" rx=\"27\" ry=\"18\"/>\n<text text-anchor=\"middle\" x=\"711\" y=\"-96.8\" font-family=\"Times,serif\" font-size=\"14.00\">+</text>\n</g>\n<!-- 140206873852952&#45;&gt;140206873852504+ -->\n<g id=\"edge8\" class=\"edge\">\n<title>140206873852952&#45;&gt;140206873852504+</title>\n<path fill=\"none\" stroke=\"black\" d=\"M644.24,-91.51C655.12,-93 665.4,-94.4 674.45,-95.64\"/>\n<polygon fill=\"black\" stroke=\"black\" points=\"674.11,-99.13 684.49,-97.01 675.05,-92.19 674.11,-99.13\"/>\n</g>\n<!-- 140206873852952* -->\n<g id=\"node2\" class=\"node\">\n<title>140206873852952*</title>\n<ellipse fill=\"none\" stroke=\"black\" cx=\"312\" cy=\"-73.5\" rx=\"27\" ry=\"18\"/>\n<text text-anchor=\"middle\" x=\"312\" y=\"-69.8\" font-family=\"Times,serif\" font-size=\"14.00\">*</text>\n</g>\n<!-- 140206873852952*&#45;&gt;140206873852952 -->\n<g id=\"edge1\" class=\"edge\">\n<title>140206873852952*&#45;&gt;140206873852952</title>\n<path fill=\"none\" stroke=\"black\" d=\"M339.23,-73.5C346.7,-73.5 355.41,-73.5 364.87,-73.5\"/>\n<polygon fill=\"black\" stroke=\"black\" points=\"364.98,-77 374.98,-73.5 364.98,-70 364.98,-77\"/>\n</g>\n<!-- 140206873849928 -->\n<g id=\"node3\" class=\"node\">\n<title>140206873849928</title>\n<polygon fill=\"none\" stroke=\"black\" points=\"0,-55.5 0,-91.5 249,-91.5 249,-55.5 0,-55.5\"/>\n<text text-anchor=\"middle\" x=\"19\" y=\"-69.8\" font-family=\"Times,serif\" font-size=\"14.00\">w1</text>\n<polyline fill=\"none\" stroke=\"black\" points=\"38,-55.5 38,-91.5 \"/>\n<text text-anchor=\"middle\" x=\"91.5\" y=\"-69.8\" font-family=\"Times,serif\" font-size=\"14.00\">data &#45;3.0000</text>\n<polyline fill=\"none\" stroke=\"black\" points=\"145,-55.5 145,-91.5 \"/>\n<text text-anchor=\"middle\" x=\"197\" y=\"-69.8\" font-family=\"Times,serif\" font-size=\"14.00\">grad 1.0000</text>\n</g>\n<!-- 140206873849928&#45;&gt;140206873852952* -->\n<g id=\"edge13\" class=\"edge\">\n<title>140206873849928&#45;&gt;140206873852952*</title>\n<path fill=\"none\" stroke=\"black\" d=\"M249.23,-73.5C258.37,-73.5 267.05,-73.5 274.87,-73.5\"/>\n<polygon fill=\"black\" stroke=\"black\" points=\"274.95,-77 284.95,-73.5 274.95,-70 274.95,-77\"/>\n</g>\n<!-- 140206873852504 -->\n<g id=\"node4\" class=\"node\">\n<title>140206873852504</title>\n<polygon fill=\"none\" stroke=\"black\" points=\"774,-82.5 774,-118.5 1113,-118.5 1113,-82.5 774,-82.5\"/>\n<text text-anchor=\"middle\" x=\"838\" y=\"-96.8\" font-family=\"Times,serif\" font-size=\"14.00\">x1*w1 + x2*w2</text>\n<polyline fill=\"none\" stroke=\"black\" points=\"902,-82.5 902,-118.5 \"/>\n<text text-anchor=\"middle\" x=\"955.5\" y=\"-96.8\" font-family=\"Times,serif\" font-size=\"14.00\">data &#45;6.0000</text>\n<polyline fill=\"none\" stroke=\"black\" points=\"1009,-82.5 1009,-118.5 \"/>\n<text text-anchor=\"middle\" x=\"1061\" y=\"-96.8\" font-family=\"Times,serif\" font-size=\"14.00\">grad 0.5000</text>\n</g>\n<!-- 140206872927424+ -->\n<g id=\"node8\" class=\"node\">\n<title>140206872927424+</title>\n<ellipse fill=\"none\" stroke=\"black\" cx=\"1176\" cy=\"-127.5\" rx=\"27\" ry=\"18\"/>\n<text text-anchor=\"middle\" x=\"1176\" y=\"-123.8\" font-family=\"Times,serif\" font-size=\"14.00\">+</text>\n</g>\n<!-- 140206873852504&#45;&gt;140206872927424+ -->\n<g id=\"edge7\" class=\"edge\">\n<title>140206873852504&#45;&gt;140206872927424+</title>\n<path fill=\"none\" stroke=\"black\" d=\"M1098.25,-118.51C1113.17,-120.26 1127.12,-121.89 1138.92,-123.27\"/>\n<polygon fill=\"black\" stroke=\"black\" points=\"1138.79,-126.78 1149.13,-124.47 1139.6,-119.83 1138.79,-126.78\"/>\n</g>\n<!-- 140206873852504+&#45;&gt;140206873852504 -->\n<g id=\"edge2\" class=\"edge\">\n<title>140206873852504+&#45;&gt;140206873852504</title>\n<path fill=\"none\" stroke=\"black\" d=\"M738.44,-100.5C745.81,-100.5 754.42,-100.5 763.84,-100.5\"/>\n<polygon fill=\"black\" stroke=\"black\" points=\"763.94,-104 773.94,-100.5 763.94,-97 763.94,-104\"/>\n</g>\n<!-- 140206873851552 -->\n<g id=\"node6\" class=\"node\">\n<title>140206873851552</title>\n<polygon fill=\"none\" stroke=\"black\" points=\"2.5,-0.5 2.5,-36.5 246.5,-36.5 246.5,-0.5 2.5,-0.5\"/>\n<text text-anchor=\"middle\" x=\"19.5\" y=\"-14.8\" font-family=\"Times,serif\" font-size=\"14.00\">x1</text>\n<polyline fill=\"none\" stroke=\"black\" points=\"36.5,-0.5 36.5,-36.5 \"/>\n<text text-anchor=\"middle\" x=\"87.5\" y=\"-14.8\" font-family=\"Times,serif\" font-size=\"14.00\">data 2.0000</text>\n<polyline fill=\"none\" stroke=\"black\" points=\"138.5,-0.5 138.5,-36.5 \"/>\n<text text-anchor=\"middle\" x=\"192.5\" y=\"-14.8\" font-family=\"Times,serif\" font-size=\"14.00\">grad &#45;1.5000</text>\n</g>\n<!-- 140206873851552&#45;&gt;140206873852952* -->\n<g id=\"edge11\" class=\"edge\">\n<title>140206873851552&#45;&gt;140206873852952*</title>\n<path fill=\"none\" stroke=\"black\" d=\"M214.42,-36.55C226.15,-39.54 237.93,-42.87 249,-46.5 259.46,-49.93 270.57,-54.47 280.46,-58.84\"/>\n<polygon fill=\"black\" stroke=\"black\" points=\"279.31,-62.17 289.87,-63.12 282.21,-55.79 279.31,-62.17\"/>\n</g>\n<!-- 140206872927424 -->\n<g id=\"node7\" class=\"node\">\n<title>140206872927424</title>\n<polygon fill=\"none\" stroke=\"black\" points=\"1239,-109.5 1239,-145.5 1471,-145.5 1471,-109.5 1239,-109.5\"/>\n<text text-anchor=\"middle\" x=\"1252\" y=\"-123.8\" font-family=\"Times,serif\" font-size=\"14.00\">n</text>\n<polyline fill=\"none\" stroke=\"black\" points=\"1265,-109.5 1265,-145.5 \"/>\n<text text-anchor=\"middle\" x=\"1316\" y=\"-123.8\" font-family=\"Times,serif\" font-size=\"14.00\">data 0.8814</text>\n<polyline fill=\"none\" stroke=\"black\" points=\"1367,-109.5 1367,-145.5 \"/>\n<text text-anchor=\"middle\" x=\"1419\" y=\"-123.8\" font-family=\"Times,serif\" font-size=\"14.00\">grad 0.5000</text>\n</g>\n<!-- 140206872927200tanh -->\n<g id=\"node15\" class=\"node\">\n<title>140206872927200tanh</title>\n<ellipse fill=\"none\" stroke=\"black\" cx=\"1538.85\" cy=\"-127.5\" rx=\"31.7\" ry=\"18\"/>\n<text text-anchor=\"middle\" x=\"1538.85\" y=\"-123.8\" font-family=\"Times,serif\" font-size=\"14.00\">tanh</text>\n</g>\n<!-- 140206872927424&#45;&gt;140206872927200tanh -->\n<g id=\"edge10\" class=\"edge\">\n<title>140206872927424&#45;&gt;140206872927200tanh</title>\n<path fill=\"none\" stroke=\"black\" d=\"M1471.17,-127.5C1480.08,-127.5 1488.66,-127.5 1496.53,-127.5\"/>\n<polygon fill=\"black\" stroke=\"black\" points=\"1496.78,-131 1506.78,-127.5 1496.78,-124 1496.78,-131\"/>\n</g>\n<!-- 140206872927424+&#45;&gt;140206872927424 -->\n<g id=\"edge3\" class=\"edge\">\n<title>140206872927424+&#45;&gt;140206872927424</title>\n<path fill=\"none\" stroke=\"black\" d=\"M1203.12,-127.5C1210.53,-127.5 1219.14,-127.5 1228.4,-127.5\"/>\n<polygon fill=\"black\" stroke=\"black\" points=\"1228.69,-131 1238.69,-127.5 1228.69,-124 1228.69,-131\"/>\n</g>\n<!-- 140206873851664 -->\n<g id=\"node9\" class=\"node\">\n<title>140206873851664</title>\n<polygon fill=\"none\" stroke=\"black\" points=\"827.5,-137.5 827.5,-173.5 1059.5,-173.5 1059.5,-137.5 827.5,-137.5\"/>\n<text text-anchor=\"middle\" x=\"840.5\" y=\"-151.8\" font-family=\"Times,serif\" font-size=\"14.00\">b</text>\n<polyline fill=\"none\" stroke=\"black\" points=\"853.5,-137.5 853.5,-173.5 \"/>\n<text text-anchor=\"middle\" x=\"904.5\" y=\"-151.8\" font-family=\"Times,serif\" font-size=\"14.00\">data 6.8814</text>\n<polyline fill=\"none\" stroke=\"black\" points=\"955.5,-137.5 955.5,-173.5 \"/>\n<text text-anchor=\"middle\" x=\"1007.5\" y=\"-151.8\" font-family=\"Times,serif\" font-size=\"14.00\">grad 0.5000</text>\n</g>\n<!-- 140206873851664&#45;&gt;140206872927424+ -->\n<g id=\"edge12\" class=\"edge\">\n<title>140206873851664&#45;&gt;140206872927424+</title>\n<path fill=\"none\" stroke=\"black\" d=\"M1059.75,-141.5C1088.57,-138 1117.4,-134.5 1139.01,-131.87\"/>\n<polygon fill=\"black\" stroke=\"black\" points=\"1139.5,-135.34 1149.01,-130.66 1138.66,-128.39 1139.5,-135.34\"/>\n</g>\n<!-- 140206873850152 -->\n<g id=\"node10\" class=\"node\">\n<title>140206873850152</title>\n<polygon fill=\"none\" stroke=\"black\" points=\"4.5,-165.5 4.5,-201.5 244.5,-201.5 244.5,-165.5 4.5,-165.5\"/>\n<text text-anchor=\"middle\" x=\"21.5\" y=\"-179.8\" font-family=\"Times,serif\" font-size=\"14.00\">x2</text>\n<polyline fill=\"none\" stroke=\"black\" points=\"38.5,-165.5 38.5,-201.5 \"/>\n<text text-anchor=\"middle\" x=\"89.5\" y=\"-179.8\" font-family=\"Times,serif\" font-size=\"14.00\">data 0.0000</text>\n<polyline fill=\"none\" stroke=\"black\" points=\"140.5,-165.5 140.5,-201.5 \"/>\n<text text-anchor=\"middle\" x=\"192.5\" y=\"-179.8\" font-family=\"Times,serif\" font-size=\"14.00\">grad 0.5000</text>\n</g>\n<!-- 140206873853904* -->\n<g id=\"node13\" class=\"node\">\n<title>140206873853904*</title>\n<ellipse fill=\"none\" stroke=\"black\" cx=\"312\" cy=\"-128.5\" rx=\"27\" ry=\"18\"/>\n<text text-anchor=\"middle\" x=\"312\" y=\"-124.8\" font-family=\"Times,serif\" font-size=\"14.00\">*</text>\n</g>\n<!-- 140206873850152&#45;&gt;140206873853904* -->\n<g id=\"edge9\" class=\"edge\">\n<title>140206873850152&#45;&gt;140206873853904*</title>\n<path fill=\"none\" stroke=\"black\" d=\"M218.13,-165.46C228.63,-162.77 239.1,-159.78 249,-156.5 259.71,-152.96 271.05,-148.16 281.07,-143.54\"/>\n<polygon fill=\"black\" stroke=\"black\" points=\"282.67,-146.66 290.2,-139.21 279.67,-140.33 282.67,-146.66\"/>\n</g>\n<!-- 140206873851776 -->\n<g id=\"node11\" class=\"node\">\n<title>140206873851776</title>\n<polygon fill=\"none\" stroke=\"black\" points=\"2.5,-110.5 2.5,-146.5 246.5,-146.5 246.5,-110.5 2.5,-110.5\"/>\n<text text-anchor=\"middle\" x=\"21.5\" y=\"-124.8\" font-family=\"Times,serif\" font-size=\"14.00\">w2</text>\n<polyline fill=\"none\" stroke=\"black\" points=\"40.5,-110.5 40.5,-146.5 \"/>\n<text text-anchor=\"middle\" x=\"91.5\" y=\"-124.8\" font-family=\"Times,serif\" font-size=\"14.00\">data 1.0000</text>\n<polyline fill=\"none\" stroke=\"black\" points=\"142.5,-110.5 142.5,-146.5 \"/>\n<text text-anchor=\"middle\" x=\"194.5\" y=\"-124.8\" font-family=\"Times,serif\" font-size=\"14.00\">grad 0.0000</text>\n</g>\n<!-- 140206873851776&#45;&gt;140206873853904* -->\n<g id=\"edge6\" class=\"edge\">\n<title>140206873851776&#45;&gt;140206873853904*</title>\n<path fill=\"none\" stroke=\"black\" d=\"M246.64,-128.5C256.7,-128.5 266.26,-128.5 274.79,-128.5\"/>\n<polygon fill=\"black\" stroke=\"black\" points=\"275,-132 285,-128.5 275,-125 275,-132\"/>\n</g>\n<!-- 140206873853904 -->\n<g id=\"node12\" class=\"node\">\n<title>140206873853904</title>\n<polygon fill=\"none\" stroke=\"black\" points=\"377.5,-110.5 377.5,-146.5 645.5,-146.5 645.5,-110.5 377.5,-110.5\"/>\n<text text-anchor=\"middle\" x=\"408.5\" y=\"-124.8\" font-family=\"Times,serif\" font-size=\"14.00\">x2*w2</text>\n<polyline fill=\"none\" stroke=\"black\" points=\"439.5,-110.5 439.5,-146.5 \"/>\n<text text-anchor=\"middle\" x=\"490.5\" y=\"-124.8\" font-family=\"Times,serif\" font-size=\"14.00\">data 0.0000</text>\n<polyline fill=\"none\" stroke=\"black\" points=\"541.5,-110.5 541.5,-146.5 \"/>\n<text text-anchor=\"middle\" x=\"593.5\" y=\"-124.8\" font-family=\"Times,serif\" font-size=\"14.00\">grad 0.5000</text>\n</g>\n<!-- 140206873853904&#45;&gt;140206873852504+ -->\n<g id=\"edge14\" class=\"edge\">\n<title>140206873853904&#45;&gt;140206873852504+</title>\n<path fill=\"none\" stroke=\"black\" d=\"M639.53,-110.49C652.09,-108.71 663.99,-107.02 674.3,-105.56\"/>\n<polygon fill=\"black\" stroke=\"black\" points=\"675.03,-108.99 684.44,-104.12 674.05,-102.06 675.03,-108.99\"/>\n</g>\n<!-- 140206873853904*&#45;&gt;140206873853904 -->\n<g id=\"edge4\" class=\"edge\">\n<title>140206873853904*&#45;&gt;140206873853904</title>\n<path fill=\"none\" stroke=\"black\" d=\"M339.23,-128.5C347.26,-128.5 356.72,-128.5 366.99,-128.5\"/>\n<polygon fill=\"black\" stroke=\"black\" points=\"367.08,-132 377.08,-128.5 367.08,-125 367.08,-132\"/>\n</g>\n<!-- 140206872927200 -->\n<g id=\"node14\" class=\"node\">\n<title>140206872927200</title>\n<polygon fill=\"none\" stroke=\"black\" points=\"1606.69,-109.5 1606.69,-145.5 1837.69,-145.5 1837.69,-109.5 1606.69,-109.5\"/>\n<text text-anchor=\"middle\" x=\"1619.19\" y=\"-123.8\" font-family=\"Times,serif\" font-size=\"14.00\">o</text>\n<polyline fill=\"none\" stroke=\"black\" points=\"1631.69,-109.5 1631.69,-145.5 \"/>\n<text text-anchor=\"middle\" x=\"1682.69\" y=\"-123.8\" font-family=\"Times,serif\" font-size=\"14.00\">data 0.7071</text>\n<polyline fill=\"none\" stroke=\"black\" points=\"1733.69,-109.5 1733.69,-145.5 \"/>\n<text text-anchor=\"middle\" x=\"1785.69\" y=\"-123.8\" font-family=\"Times,serif\" font-size=\"14.00\">grad 1.0000</text>\n</g>\n<!-- 140206872927200tanh&#45;&gt;140206872927200 -->\n<g id=\"edge5\" class=\"edge\">\n<title>140206872927200tanh&#45;&gt;140206872927200</title>\n<path fill=\"none\" stroke=\"black\" d=\"M1571.02,-127.5C1578.61,-127.5 1587.19,-127.5 1596.31,-127.5\"/>\n<polygon fill=\"black\" stroke=\"black\" points=\"1596.4,-131 1606.4,-127.5 1596.4,-124 1596.4,-131\"/>\n</g>\n</g>\n</svg>\n",
      "text/plain": "<graphviz.graphs.Digraph at 0x7f8474e93e10>"
     },
     "execution_count": 35,
     "metadata": {},
     "output_type": "execute_result"
    }
   ],
   "source": [
    "o.grad = 1.0\n",
    "n.grad = 1 - o.data**2\n",
    "# węzły 'dodawania' przenoszą gradient\n",
    "b.grad = n.grad\n",
    "x1w1x2w2.grad = n.grad\n",
    "x2w2.grad = x1w1x2w2.grad\n",
    "x1w1.grad = x1w1x2w2.grad\n",
    "# węzły 'mnożenia' (reguła łańcuchowa)\n",
    "x2.grad = w2.data * x2w2.grad\n",
    "w2.grad = x2.data * x2w2.grad  # zmiana tej wagi nie powoduje zmiany wartości wyjściowej, gdyż x2 = 0!\n",
    "x1.grad = w1.data * x1w1.grad\n",
    "w1.grad = x1.data * x1w1.grad\n",
    "\n",
    "draw_dot(o)"
   ],
   "metadata": {
    "collapsed": false,
    "pycharm": {
     "name": "#%%\n"
    }
   }
  },
  {
   "cell_type": "markdown",
   "source": [
    "### Automatyzacja\n",
    "\n",
    "Do klasy *Value* dodamy atrybut *_backward*, który przechowuje \"domknięcie\" (ang. *closure*), która wyznacza lokalną pochodną konkretnej operacji."
   ],
   "metadata": {
    "collapsed": false,
    "pycharm": {
     "name": "#%% md\n"
    }
   }
  },
  {
   "cell_type": "code",
   "execution_count": 51,
   "outputs": [
    {
     "data": {
      "image/svg+xml": "<?xml version=\"1.0\" encoding=\"UTF-8\" standalone=\"no\"?>\n<!DOCTYPE svg PUBLIC \"-//W3C//DTD SVG 1.1//EN\"\n \"http://www.w3.org/Graphics/SVG/1.1/DTD/svg11.dtd\">\n<!-- Generated by graphviz version 2.43.0 (0)\n -->\n<!-- Title: %3 Pages: 1 -->\n<svg width=\"1846pt\" height=\"210pt\"\n viewBox=\"0.00 0.00 1845.69 210.00\" xmlns=\"http://www.w3.org/2000/svg\" xmlns:xlink=\"http://www.w3.org/1999/xlink\">\n<g id=\"graph0\" class=\"graph\" transform=\"scale(1 1) rotate(0) translate(4 206)\">\n<title>%3</title>\n<polygon fill=\"white\" stroke=\"transparent\" points=\"-4,4 -4,-206 1841.69,-206 1841.69,4 -4,4\"/>\n<!-- 140204802524272 -->\n<g id=\"node1\" class=\"node\">\n<title>140204802524272</title>\n<polygon fill=\"none\" stroke=\"black\" points=\"1606.69,-54.5 1606.69,-90.5 1837.69,-90.5 1837.69,-54.5 1606.69,-54.5\"/>\n<text text-anchor=\"middle\" x=\"1619.19\" y=\"-68.8\" font-family=\"Times,serif\" font-size=\"14.00\">o</text>\n<polyline fill=\"none\" stroke=\"black\" points=\"1631.69,-54.5 1631.69,-90.5 \"/>\n<text text-anchor=\"middle\" x=\"1682.69\" y=\"-68.8\" font-family=\"Times,serif\" font-size=\"14.00\">data 0.7071</text>\n<polyline fill=\"none\" stroke=\"black\" points=\"1733.69,-54.5 1733.69,-90.5 \"/>\n<text text-anchor=\"middle\" x=\"1785.69\" y=\"-68.8\" font-family=\"Times,serif\" font-size=\"14.00\">grad 1.0000</text>\n</g>\n<!-- 140204802524272tanh -->\n<g id=\"node2\" class=\"node\">\n<title>140204802524272tanh</title>\n<ellipse fill=\"none\" stroke=\"black\" cx=\"1538.85\" cy=\"-72.5\" rx=\"31.7\" ry=\"18\"/>\n<text text-anchor=\"middle\" x=\"1538.85\" y=\"-68.8\" font-family=\"Times,serif\" font-size=\"14.00\">tanh</text>\n</g>\n<!-- 140204802524272tanh&#45;&gt;140204802524272 -->\n<g id=\"edge1\" class=\"edge\">\n<title>140204802524272tanh&#45;&gt;140204802524272</title>\n<path fill=\"none\" stroke=\"black\" d=\"M1571.02,-72.5C1578.61,-72.5 1587.19,-72.5 1596.31,-72.5\"/>\n<polygon fill=\"black\" stroke=\"black\" points=\"1596.4,-76 1606.4,-72.5 1596.4,-69 1596.4,-76\"/>\n</g>\n<!-- 140204802525336 -->\n<g id=\"node3\" class=\"node\">\n<title>140204802525336</title>\n<polygon fill=\"none\" stroke=\"black\" points=\"1239,-54.5 1239,-90.5 1471,-90.5 1471,-54.5 1239,-54.5\"/>\n<text text-anchor=\"middle\" x=\"1252\" y=\"-68.8\" font-family=\"Times,serif\" font-size=\"14.00\">n</text>\n<polyline fill=\"none\" stroke=\"black\" points=\"1265,-54.5 1265,-90.5 \"/>\n<text text-anchor=\"middle\" x=\"1316\" y=\"-68.8\" font-family=\"Times,serif\" font-size=\"14.00\">data 0.8814</text>\n<polyline fill=\"none\" stroke=\"black\" points=\"1367,-54.5 1367,-90.5 \"/>\n<text text-anchor=\"middle\" x=\"1419\" y=\"-68.8\" font-family=\"Times,serif\" font-size=\"14.00\">grad 0.5000</text>\n</g>\n<!-- 140204802525336&#45;&gt;140204802524272tanh -->\n<g id=\"edge14\" class=\"edge\">\n<title>140204802525336&#45;&gt;140204802524272tanh</title>\n<path fill=\"none\" stroke=\"black\" d=\"M1471.17,-72.5C1480.08,-72.5 1488.66,-72.5 1496.53,-72.5\"/>\n<polygon fill=\"black\" stroke=\"black\" points=\"1496.78,-76 1506.78,-72.5 1496.78,-69 1496.78,-76\"/>\n</g>\n<!-- 140204802525336+ -->\n<g id=\"node4\" class=\"node\">\n<title>140204802525336+</title>\n<ellipse fill=\"none\" stroke=\"black\" cx=\"1176\" cy=\"-72.5\" rx=\"27\" ry=\"18\"/>\n<text text-anchor=\"middle\" x=\"1176\" y=\"-68.8\" font-family=\"Times,serif\" font-size=\"14.00\">+</text>\n</g>\n<!-- 140204802525336+&#45;&gt;140204802525336 -->\n<g id=\"edge2\" class=\"edge\">\n<title>140204802525336+&#45;&gt;140204802525336</title>\n<path fill=\"none\" stroke=\"black\" d=\"M1203.12,-72.5C1210.53,-72.5 1219.14,-72.5 1228.4,-72.5\"/>\n<polygon fill=\"black\" stroke=\"black\" points=\"1228.69,-76 1238.69,-72.5 1228.69,-69 1228.69,-76\"/>\n</g>\n<!-- 140204802525448 -->\n<g id=\"node5\" class=\"node\">\n<title>140204802525448</title>\n<polygon fill=\"none\" stroke=\"black\" points=\"2.5,-165.5 2.5,-201.5 246.5,-201.5 246.5,-165.5 2.5,-165.5\"/>\n<text text-anchor=\"middle\" x=\"19.5\" y=\"-179.8\" font-family=\"Times,serif\" font-size=\"14.00\">x1</text>\n<polyline fill=\"none\" stroke=\"black\" points=\"36.5,-165.5 36.5,-201.5 \"/>\n<text text-anchor=\"middle\" x=\"87.5\" y=\"-179.8\" font-family=\"Times,serif\" font-size=\"14.00\">data 2.0000</text>\n<polyline fill=\"none\" stroke=\"black\" points=\"138.5,-165.5 138.5,-201.5 \"/>\n<text text-anchor=\"middle\" x=\"192.5\" y=\"-179.8\" font-family=\"Times,serif\" font-size=\"14.00\">grad &#45;1.5000</text>\n</g>\n<!-- 140204802523992* -->\n<g id=\"node11\" class=\"node\">\n<title>140204802523992*</title>\n<ellipse fill=\"none\" stroke=\"black\" cx=\"312\" cy=\"-128.5\" rx=\"27\" ry=\"18\"/>\n<text text-anchor=\"middle\" x=\"312\" y=\"-124.8\" font-family=\"Times,serif\" font-size=\"14.00\">*</text>\n</g>\n<!-- 140204802525448&#45;&gt;140204802523992* -->\n<g id=\"edge11\" class=\"edge\">\n<title>140204802525448&#45;&gt;140204802523992*</title>\n<path fill=\"none\" stroke=\"black\" d=\"M218.13,-165.46C228.63,-162.77 239.1,-159.78 249,-156.5 259.71,-152.96 271.05,-148.16 281.07,-143.54\"/>\n<polygon fill=\"black\" stroke=\"black\" points=\"282.67,-146.66 290.2,-139.21 279.67,-140.33 282.67,-146.66\"/>\n</g>\n<!-- 140204802524440 -->\n<g id=\"node6\" class=\"node\">\n<title>140204802524440</title>\n<polygon fill=\"none\" stroke=\"black\" points=\"774,-82.5 774,-118.5 1113,-118.5 1113,-82.5 774,-82.5\"/>\n<text text-anchor=\"middle\" x=\"838\" y=\"-96.8\" font-family=\"Times,serif\" font-size=\"14.00\">x1*w1 + x2*w2</text>\n<polyline fill=\"none\" stroke=\"black\" points=\"902,-82.5 902,-118.5 \"/>\n<text text-anchor=\"middle\" x=\"955.5\" y=\"-96.8\" font-family=\"Times,serif\" font-size=\"14.00\">data &#45;6.0000</text>\n<polyline fill=\"none\" stroke=\"black\" points=\"1009,-82.5 1009,-118.5 \"/>\n<text text-anchor=\"middle\" x=\"1061\" y=\"-96.8\" font-family=\"Times,serif\" font-size=\"14.00\">grad 0.5000</text>\n</g>\n<!-- 140204802524440&#45;&gt;140204802525336+ -->\n<g id=\"edge8\" class=\"edge\">\n<title>140204802524440&#45;&gt;140204802525336+</title>\n<path fill=\"none\" stroke=\"black\" d=\"M1092.76,-82.49C1109.86,-80.41 1125.9,-78.46 1139.2,-76.85\"/>\n<polygon fill=\"black\" stroke=\"black\" points=\"1139.74,-80.31 1149.24,-75.63 1138.89,-73.36 1139.74,-80.31\"/>\n</g>\n<!-- 140204802524440+ -->\n<g id=\"node7\" class=\"node\">\n<title>140204802524440+</title>\n<ellipse fill=\"none\" stroke=\"black\" cx=\"711\" cy=\"-100.5\" rx=\"27\" ry=\"18\"/>\n<text text-anchor=\"middle\" x=\"711\" y=\"-96.8\" font-family=\"Times,serif\" font-size=\"14.00\">+</text>\n</g>\n<!-- 140204802524440+&#45;&gt;140204802524440 -->\n<g id=\"edge3\" class=\"edge\">\n<title>140204802524440+&#45;&gt;140204802524440</title>\n<path fill=\"none\" stroke=\"black\" d=\"M738.44,-100.5C745.81,-100.5 754.42,-100.5 763.84,-100.5\"/>\n<polygon fill=\"black\" stroke=\"black\" points=\"763.94,-104 773.94,-100.5 763.94,-97 763.94,-104\"/>\n</g>\n<!-- 140204802523936 -->\n<g id=\"node8\" class=\"node\">\n<title>140204802523936</title>\n<polygon fill=\"none\" stroke=\"black\" points=\"827.5,-27.5 827.5,-63.5 1059.5,-63.5 1059.5,-27.5 827.5,-27.5\"/>\n<text text-anchor=\"middle\" x=\"840.5\" y=\"-41.8\" font-family=\"Times,serif\" font-size=\"14.00\">b</text>\n<polyline fill=\"none\" stroke=\"black\" points=\"853.5,-27.5 853.5,-63.5 \"/>\n<text text-anchor=\"middle\" x=\"904.5\" y=\"-41.8\" font-family=\"Times,serif\" font-size=\"14.00\">data 6.8814</text>\n<polyline fill=\"none\" stroke=\"black\" points=\"955.5,-27.5 955.5,-63.5 \"/>\n<text text-anchor=\"middle\" x=\"1007.5\" y=\"-41.8\" font-family=\"Times,serif\" font-size=\"14.00\">grad 0.5000</text>\n</g>\n<!-- 140204802523936&#45;&gt;140204802525336+ -->\n<g id=\"edge12\" class=\"edge\">\n<title>140204802523936&#45;&gt;140204802525336+</title>\n<path fill=\"none\" stroke=\"black\" d=\"M1059.75,-59C1088.57,-62.38 1117.4,-65.75 1139.01,-68.28\"/>\n<polygon fill=\"black\" stroke=\"black\" points=\"1138.67,-71.77 1149.01,-69.46 1139.48,-64.82 1138.67,-71.77\"/>\n</g>\n<!-- 140204802525504 -->\n<g id=\"node9\" class=\"node\">\n<title>140204802525504</title>\n<polygon fill=\"none\" stroke=\"black\" points=\"2.5,-55.5 2.5,-91.5 246.5,-91.5 246.5,-55.5 2.5,-55.5\"/>\n<text text-anchor=\"middle\" x=\"21.5\" y=\"-69.8\" font-family=\"Times,serif\" font-size=\"14.00\">w2</text>\n<polyline fill=\"none\" stroke=\"black\" points=\"40.5,-55.5 40.5,-91.5 \"/>\n<text text-anchor=\"middle\" x=\"91.5\" y=\"-69.8\" font-family=\"Times,serif\" font-size=\"14.00\">data 1.0000</text>\n<polyline fill=\"none\" stroke=\"black\" points=\"142.5,-55.5 142.5,-91.5 \"/>\n<text text-anchor=\"middle\" x=\"194.5\" y=\"-69.8\" font-family=\"Times,serif\" font-size=\"14.00\">grad 0.0000</text>\n</g>\n<!-- 140204802524048* -->\n<g id=\"node14\" class=\"node\">\n<title>140204802524048*</title>\n<ellipse fill=\"none\" stroke=\"black\" cx=\"312\" cy=\"-73.5\" rx=\"27\" ry=\"18\"/>\n<text text-anchor=\"middle\" x=\"312\" y=\"-69.8\" font-family=\"Times,serif\" font-size=\"14.00\">*</text>\n</g>\n<!-- 140204802525504&#45;&gt;140204802524048* -->\n<g id=\"edge6\" class=\"edge\">\n<title>140204802525504&#45;&gt;140204802524048*</title>\n<path fill=\"none\" stroke=\"black\" d=\"M246.64,-73.5C256.7,-73.5 266.26,-73.5 274.79,-73.5\"/>\n<polygon fill=\"black\" stroke=\"black\" points=\"275,-77 285,-73.5 275,-70 275,-77\"/>\n</g>\n<!-- 140204802523992 -->\n<g id=\"node10\" class=\"node\">\n<title>140204802523992</title>\n<polygon fill=\"none\" stroke=\"black\" points=\"375,-110.5 375,-146.5 648,-146.5 648,-110.5 375,-110.5\"/>\n<text text-anchor=\"middle\" x=\"406\" y=\"-124.8\" font-family=\"Times,serif\" font-size=\"14.00\">x1*w1</text>\n<polyline fill=\"none\" stroke=\"black\" points=\"437,-110.5 437,-146.5 \"/>\n<text text-anchor=\"middle\" x=\"490.5\" y=\"-124.8\" font-family=\"Times,serif\" font-size=\"14.00\">data &#45;6.0000</text>\n<polyline fill=\"none\" stroke=\"black\" points=\"544,-110.5 544,-146.5 \"/>\n<text text-anchor=\"middle\" x=\"596\" y=\"-124.8\" font-family=\"Times,serif\" font-size=\"14.00\">grad 0.5000</text>\n</g>\n<!-- 140204802523992&#45;&gt;140204802524440+ -->\n<g id=\"edge13\" class=\"edge\">\n<title>140204802523992&#45;&gt;140204802524440+</title>\n<path fill=\"none\" stroke=\"black\" d=\"M639.53,-110.49C652.09,-108.71 663.99,-107.02 674.3,-105.56\"/>\n<polygon fill=\"black\" stroke=\"black\" points=\"675.03,-108.99 684.44,-104.12 674.05,-102.06 675.03,-108.99\"/>\n</g>\n<!-- 140204802523992*&#45;&gt;140204802523992 -->\n<g id=\"edge4\" class=\"edge\">\n<title>140204802523992*&#45;&gt;140204802523992</title>\n<path fill=\"none\" stroke=\"black\" d=\"M339.23,-128.5C346.7,-128.5 355.41,-128.5 364.87,-128.5\"/>\n<polygon fill=\"black\" stroke=\"black\" points=\"364.98,-132 374.98,-128.5 364.98,-125 364.98,-132\"/>\n</g>\n<!-- 140204802525560 -->\n<g id=\"node12\" class=\"node\">\n<title>140204802525560</title>\n<polygon fill=\"none\" stroke=\"black\" points=\"0,-110.5 0,-146.5 249,-146.5 249,-110.5 0,-110.5\"/>\n<text text-anchor=\"middle\" x=\"19\" y=\"-124.8\" font-family=\"Times,serif\" font-size=\"14.00\">w1</text>\n<polyline fill=\"none\" stroke=\"black\" points=\"38,-110.5 38,-146.5 \"/>\n<text text-anchor=\"middle\" x=\"91.5\" y=\"-124.8\" font-family=\"Times,serif\" font-size=\"14.00\">data &#45;3.0000</text>\n<polyline fill=\"none\" stroke=\"black\" points=\"145,-110.5 145,-146.5 \"/>\n<text text-anchor=\"middle\" x=\"197\" y=\"-124.8\" font-family=\"Times,serif\" font-size=\"14.00\">grad 1.0000</text>\n</g>\n<!-- 140204802525560&#45;&gt;140204802523992* -->\n<g id=\"edge10\" class=\"edge\">\n<title>140204802525560&#45;&gt;140204802523992*</title>\n<path fill=\"none\" stroke=\"black\" d=\"M249.23,-128.5C258.37,-128.5 267.05,-128.5 274.87,-128.5\"/>\n<polygon fill=\"black\" stroke=\"black\" points=\"274.95,-132 284.95,-128.5 274.95,-125 274.95,-132\"/>\n</g>\n<!-- 140204802524048 -->\n<g id=\"node13\" class=\"node\">\n<title>140204802524048</title>\n<polygon fill=\"none\" stroke=\"black\" points=\"377.5,-55.5 377.5,-91.5 645.5,-91.5 645.5,-55.5 377.5,-55.5\"/>\n<text text-anchor=\"middle\" x=\"408.5\" y=\"-69.8\" font-family=\"Times,serif\" font-size=\"14.00\">x2*w2</text>\n<polyline fill=\"none\" stroke=\"black\" points=\"439.5,-55.5 439.5,-91.5 \"/>\n<text text-anchor=\"middle\" x=\"490.5\" y=\"-69.8\" font-family=\"Times,serif\" font-size=\"14.00\">data 0.0000</text>\n<polyline fill=\"none\" stroke=\"black\" points=\"541.5,-55.5 541.5,-91.5 \"/>\n<text text-anchor=\"middle\" x=\"593.5\" y=\"-69.8\" font-family=\"Times,serif\" font-size=\"14.00\">grad 0.5000</text>\n</g>\n<!-- 140204802524048&#45;&gt;140204802524440+ -->\n<g id=\"edge7\" class=\"edge\">\n<title>140204802524048&#45;&gt;140204802524440+</title>\n<path fill=\"none\" stroke=\"black\" d=\"M644.24,-91.51C655.12,-93 665.4,-94.4 674.45,-95.64\"/>\n<polygon fill=\"black\" stroke=\"black\" points=\"674.11,-99.13 684.49,-97.01 675.05,-92.19 674.11,-99.13\"/>\n</g>\n<!-- 140204802524048*&#45;&gt;140204802524048 -->\n<g id=\"edge5\" class=\"edge\">\n<title>140204802524048*&#45;&gt;140204802524048</title>\n<path fill=\"none\" stroke=\"black\" d=\"M339.23,-73.5C347.26,-73.5 356.72,-73.5 366.99,-73.5\"/>\n<polygon fill=\"black\" stroke=\"black\" points=\"367.08,-77 377.08,-73.5 367.08,-70 367.08,-77\"/>\n</g>\n<!-- 140204802525616 -->\n<g id=\"node15\" class=\"node\">\n<title>140204802525616</title>\n<polygon fill=\"none\" stroke=\"black\" points=\"4.5,-0.5 4.5,-36.5 244.5,-36.5 244.5,-0.5 4.5,-0.5\"/>\n<text text-anchor=\"middle\" x=\"21.5\" y=\"-14.8\" font-family=\"Times,serif\" font-size=\"14.00\">x2</text>\n<polyline fill=\"none\" stroke=\"black\" points=\"38.5,-0.5 38.5,-36.5 \"/>\n<text text-anchor=\"middle\" x=\"89.5\" y=\"-14.8\" font-family=\"Times,serif\" font-size=\"14.00\">data 0.0000</text>\n<polyline fill=\"none\" stroke=\"black\" points=\"140.5,-0.5 140.5,-36.5 \"/>\n<text text-anchor=\"middle\" x=\"192.5\" y=\"-14.8\" font-family=\"Times,serif\" font-size=\"14.00\">grad 0.5000</text>\n</g>\n<!-- 140204802525616&#45;&gt;140204802524048* -->\n<g id=\"edge9\" class=\"edge\">\n<title>140204802525616&#45;&gt;140204802524048*</title>\n<path fill=\"none\" stroke=\"black\" d=\"M218.13,-36.54C228.63,-39.23 239.1,-42.22 249,-45.5 259.71,-49.04 271.05,-53.84 281.07,-58.46\"/>\n<polygon fill=\"black\" stroke=\"black\" points=\"279.67,-61.67 290.2,-62.79 282.67,-55.34 279.67,-61.67\"/>\n</g>\n</g>\n</svg>\n",
      "text/plain": "<graphviz.graphs.Digraph at 0x7f83f97382e8>"
     },
     "execution_count": 51,
     "metadata": {},
     "output_type": "execute_result"
    }
   ],
   "source": [
    "o.grad = 1.0 # Początkowa wartość gradientu w węźle wyjściowym jest równa 0\n",
    "o._backward()\n",
    "n._backward()\n",
    "x1w1x2w2._backward()\n",
    "x1w1._backward()\n",
    "x2w2._backward()\n",
    "\n",
    "draw_dot(o)"
   ],
   "metadata": {
    "collapsed": false,
    "pycharm": {
     "name": "#%%\n"
    }
   }
  },
  {
   "cell_type": "markdown",
   "source": [
    "Ostatnim krokiem jest wykonanie wszystkich operacji *backward*, przechodząc po grafie wstecz. Algorytm, który do tego wykorzystamy to [sortowanie topologiczne](https://pl.wikipedia.org/wiki/Sortowanie_topologiczne) (ang. *topological sort*)"
   ],
   "metadata": {
    "collapsed": false,
    "pycharm": {
     "name": "#%% md\n"
    }
   }
  },
  {
   "cell_type": "code",
   "execution_count": 63,
   "outputs": [
    {
     "data": {
      "image/svg+xml": "<?xml version=\"1.0\" encoding=\"UTF-8\" standalone=\"no\"?>\n<!DOCTYPE svg PUBLIC \"-//W3C//DTD SVG 1.1//EN\"\n \"http://www.w3.org/Graphics/SVG/1.1/DTD/svg11.dtd\">\n<!-- Generated by graphviz version 2.43.0 (0)\n -->\n<!-- Title: %3 Pages: 1 -->\n<svg width=\"1846pt\" height=\"210pt\"\n viewBox=\"0.00 0.00 1845.69 210.00\" xmlns=\"http://www.w3.org/2000/svg\" xmlns:xlink=\"http://www.w3.org/1999/xlink\">\n<g id=\"graph0\" class=\"graph\" transform=\"scale(1 1) rotate(0) translate(4 206)\">\n<title>%3</title>\n<polygon fill=\"white\" stroke=\"transparent\" points=\"-4,4 -4,-206 1841.69,-206 1841.69,4 -4,4\"/>\n<!-- 140204792928352 -->\n<g id=\"node1\" class=\"node\">\n<title>140204792928352</title>\n<polygon fill=\"none\" stroke=\"black\" points=\"4.5,-165.5 4.5,-201.5 244.5,-201.5 244.5,-165.5 4.5,-165.5\"/>\n<text text-anchor=\"middle\" x=\"21.5\" y=\"-179.8\" font-family=\"Times,serif\" font-size=\"14.00\">x2</text>\n<polyline fill=\"none\" stroke=\"black\" points=\"38.5,-165.5 38.5,-201.5 \"/>\n<text text-anchor=\"middle\" x=\"89.5\" y=\"-179.8\" font-family=\"Times,serif\" font-size=\"14.00\">data 0.0000</text>\n<polyline fill=\"none\" stroke=\"black\" points=\"140.5,-165.5 140.5,-201.5 \"/>\n<text text-anchor=\"middle\" x=\"192.5\" y=\"-179.8\" font-family=\"Times,serif\" font-size=\"14.00\">grad 0.5000</text>\n</g>\n<!-- 140204792930144* -->\n<g id=\"node11\" class=\"node\">\n<title>140204792930144*</title>\n<ellipse fill=\"none\" stroke=\"black\" cx=\"312\" cy=\"-128.5\" rx=\"27\" ry=\"18\"/>\n<text text-anchor=\"middle\" x=\"312\" y=\"-124.8\" font-family=\"Times,serif\" font-size=\"14.00\">*</text>\n</g>\n<!-- 140204792928352&#45;&gt;140204792930144* -->\n<g id=\"edge11\" class=\"edge\">\n<title>140204792928352&#45;&gt;140204792930144*</title>\n<path fill=\"none\" stroke=\"black\" d=\"M218.13,-165.46C228.63,-162.77 239.1,-159.78 249,-156.5 259.71,-152.96 271.05,-148.16 281.07,-143.54\"/>\n<polygon fill=\"black\" stroke=\"black\" points=\"282.67,-146.66 290.2,-139.21 279.67,-140.33 282.67,-146.66\"/>\n</g>\n<!-- 140204792928912 -->\n<g id=\"node2\" class=\"node\">\n<title>140204792928912</title>\n<polygon fill=\"none\" stroke=\"black\" points=\"774,-82.5 774,-118.5 1113,-118.5 1113,-82.5 774,-82.5\"/>\n<text text-anchor=\"middle\" x=\"838\" y=\"-96.8\" font-family=\"Times,serif\" font-size=\"14.00\">x1*w1 + x2*w2</text>\n<polyline fill=\"none\" stroke=\"black\" points=\"902,-82.5 902,-118.5 \"/>\n<text text-anchor=\"middle\" x=\"955.5\" y=\"-96.8\" font-family=\"Times,serif\" font-size=\"14.00\">data &#45;6.0000</text>\n<polyline fill=\"none\" stroke=\"black\" points=\"1009,-82.5 1009,-118.5 \"/>\n<text text-anchor=\"middle\" x=\"1061\" y=\"-96.8\" font-family=\"Times,serif\" font-size=\"14.00\">grad 0.5000</text>\n</g>\n<!-- 140204792929584+ -->\n<g id=\"node9\" class=\"node\">\n<title>140204792929584+</title>\n<ellipse fill=\"none\" stroke=\"black\" cx=\"1176\" cy=\"-72.5\" rx=\"27\" ry=\"18\"/>\n<text text-anchor=\"middle\" x=\"1176\" y=\"-68.8\" font-family=\"Times,serif\" font-size=\"14.00\">+</text>\n</g>\n<!-- 140204792928912&#45;&gt;140204792929584+ -->\n<g id=\"edge13\" class=\"edge\">\n<title>140204792928912&#45;&gt;140204792929584+</title>\n<path fill=\"none\" stroke=\"black\" d=\"M1092.76,-82.49C1109.86,-80.41 1125.9,-78.46 1139.2,-76.85\"/>\n<polygon fill=\"black\" stroke=\"black\" points=\"1139.74,-80.31 1149.24,-75.63 1138.89,-73.36 1139.74,-80.31\"/>\n</g>\n<!-- 140204792928912+ -->\n<g id=\"node3\" class=\"node\">\n<title>140204792928912+</title>\n<ellipse fill=\"none\" stroke=\"black\" cx=\"711\" cy=\"-100.5\" rx=\"27\" ry=\"18\"/>\n<text text-anchor=\"middle\" x=\"711\" y=\"-96.8\" font-family=\"Times,serif\" font-size=\"14.00\">+</text>\n</g>\n<!-- 140204792928912+&#45;&gt;140204792928912 -->\n<g id=\"edge1\" class=\"edge\">\n<title>140204792928912+&#45;&gt;140204792928912</title>\n<path fill=\"none\" stroke=\"black\" d=\"M738.44,-100.5C745.81,-100.5 754.42,-100.5 763.84,-100.5\"/>\n<polygon fill=\"black\" stroke=\"black\" points=\"763.94,-104 773.94,-100.5 763.94,-97 763.94,-104\"/>\n</g>\n<!-- 140204792928408 -->\n<g id=\"node4\" class=\"node\">\n<title>140204792928408</title>\n<polygon fill=\"none\" stroke=\"black\" points=\"2.5,-55.5 2.5,-91.5 246.5,-91.5 246.5,-55.5 2.5,-55.5\"/>\n<text text-anchor=\"middle\" x=\"19.5\" y=\"-69.8\" font-family=\"Times,serif\" font-size=\"14.00\">x1</text>\n<polyline fill=\"none\" stroke=\"black\" points=\"36.5,-55.5 36.5,-91.5 \"/>\n<text text-anchor=\"middle\" x=\"87.5\" y=\"-69.8\" font-family=\"Times,serif\" font-size=\"14.00\">data 2.0000</text>\n<polyline fill=\"none\" stroke=\"black\" points=\"138.5,-55.5 138.5,-91.5 \"/>\n<text text-anchor=\"middle\" x=\"192.5\" y=\"-69.8\" font-family=\"Times,serif\" font-size=\"14.00\">grad &#45;1.5000</text>\n</g>\n<!-- 140204792929640* -->\n<g id=\"node13\" class=\"node\">\n<title>140204792929640*</title>\n<ellipse fill=\"none\" stroke=\"black\" cx=\"312\" cy=\"-73.5\" rx=\"27\" ry=\"18\"/>\n<text text-anchor=\"middle\" x=\"312\" y=\"-69.8\" font-family=\"Times,serif\" font-size=\"14.00\">*</text>\n</g>\n<!-- 140204792928408&#45;&gt;140204792929640* -->\n<g id=\"edge7\" class=\"edge\">\n<title>140204792928408&#45;&gt;140204792929640*</title>\n<path fill=\"none\" stroke=\"black\" d=\"M246.64,-73.5C256.7,-73.5 266.26,-73.5 274.79,-73.5\"/>\n<polygon fill=\"black\" stroke=\"black\" points=\"275,-77 285,-73.5 275,-70 275,-77\"/>\n</g>\n<!-- 140204792928968 -->\n<g id=\"node5\" class=\"node\">\n<title>140204792928968</title>\n<polygon fill=\"none\" stroke=\"black\" points=\"0,-0.5 0,-36.5 249,-36.5 249,-0.5 0,-0.5\"/>\n<text text-anchor=\"middle\" x=\"19\" y=\"-14.8\" font-family=\"Times,serif\" font-size=\"14.00\">w1</text>\n<polyline fill=\"none\" stroke=\"black\" points=\"38,-0.5 38,-36.5 \"/>\n<text text-anchor=\"middle\" x=\"91.5\" y=\"-14.8\" font-family=\"Times,serif\" font-size=\"14.00\">data &#45;3.0000</text>\n<polyline fill=\"none\" stroke=\"black\" points=\"145,-0.5 145,-36.5 \"/>\n<text text-anchor=\"middle\" x=\"197\" y=\"-14.8\" font-family=\"Times,serif\" font-size=\"14.00\">grad 1.0000</text>\n</g>\n<!-- 140204792928968&#45;&gt;140204792929640* -->\n<g id=\"edge14\" class=\"edge\">\n<title>140204792928968&#45;&gt;140204792929640*</title>\n<path fill=\"none\" stroke=\"black\" d=\"M214.42,-36.55C226.15,-39.54 237.93,-42.87 249,-46.5 259.46,-49.93 270.57,-54.47 280.46,-58.84\"/>\n<polygon fill=\"black\" stroke=\"black\" points=\"279.31,-62.17 289.87,-63.12 282.21,-55.79 279.31,-62.17\"/>\n</g>\n<!-- 140204792929528 -->\n<g id=\"node6\" class=\"node\">\n<title>140204792929528</title>\n<polygon fill=\"none\" stroke=\"black\" points=\"827.5,-27.5 827.5,-63.5 1059.5,-63.5 1059.5,-27.5 827.5,-27.5\"/>\n<text text-anchor=\"middle\" x=\"840.5\" y=\"-41.8\" font-family=\"Times,serif\" font-size=\"14.00\">b</text>\n<polyline fill=\"none\" stroke=\"black\" points=\"853.5,-27.5 853.5,-63.5 \"/>\n<text text-anchor=\"middle\" x=\"904.5\" y=\"-41.8\" font-family=\"Times,serif\" font-size=\"14.00\">data 6.8814</text>\n<polyline fill=\"none\" stroke=\"black\" points=\"955.5,-27.5 955.5,-63.5 \"/>\n<text text-anchor=\"middle\" x=\"1007.5\" y=\"-41.8\" font-family=\"Times,serif\" font-size=\"14.00\">grad 0.5000</text>\n</g>\n<!-- 140204792929528&#45;&gt;140204792929584+ -->\n<g id=\"edge12\" class=\"edge\">\n<title>140204792929528&#45;&gt;140204792929584+</title>\n<path fill=\"none\" stroke=\"black\" d=\"M1059.75,-59C1088.57,-62.38 1117.4,-65.75 1139.01,-68.28\"/>\n<polygon fill=\"black\" stroke=\"black\" points=\"1138.67,-71.77 1149.01,-69.46 1139.48,-64.82 1138.67,-71.77\"/>\n</g>\n<!-- 140204792929024 -->\n<g id=\"node7\" class=\"node\">\n<title>140204792929024</title>\n<polygon fill=\"none\" stroke=\"black\" points=\"2.5,-110.5 2.5,-146.5 246.5,-146.5 246.5,-110.5 2.5,-110.5\"/>\n<text text-anchor=\"middle\" x=\"21.5\" y=\"-124.8\" font-family=\"Times,serif\" font-size=\"14.00\">w2</text>\n<polyline fill=\"none\" stroke=\"black\" points=\"40.5,-110.5 40.5,-146.5 \"/>\n<text text-anchor=\"middle\" x=\"91.5\" y=\"-124.8\" font-family=\"Times,serif\" font-size=\"14.00\">data 1.0000</text>\n<polyline fill=\"none\" stroke=\"black\" points=\"142.5,-110.5 142.5,-146.5 \"/>\n<text text-anchor=\"middle\" x=\"194.5\" y=\"-124.8\" font-family=\"Times,serif\" font-size=\"14.00\">grad 0.0000</text>\n</g>\n<!-- 140204792929024&#45;&gt;140204792930144* -->\n<g id=\"edge8\" class=\"edge\">\n<title>140204792929024&#45;&gt;140204792930144*</title>\n<path fill=\"none\" stroke=\"black\" d=\"M246.64,-128.5C256.7,-128.5 266.26,-128.5 274.79,-128.5\"/>\n<polygon fill=\"black\" stroke=\"black\" points=\"275,-132 285,-128.5 275,-125 275,-132\"/>\n</g>\n<!-- 140204792929584 -->\n<g id=\"node8\" class=\"node\">\n<title>140204792929584</title>\n<polygon fill=\"none\" stroke=\"black\" points=\"1239,-54.5 1239,-90.5 1471,-90.5 1471,-54.5 1239,-54.5\"/>\n<text text-anchor=\"middle\" x=\"1252\" y=\"-68.8\" font-family=\"Times,serif\" font-size=\"14.00\">n</text>\n<polyline fill=\"none\" stroke=\"black\" points=\"1265,-54.5 1265,-90.5 \"/>\n<text text-anchor=\"middle\" x=\"1316\" y=\"-68.8\" font-family=\"Times,serif\" font-size=\"14.00\">data 0.8814</text>\n<polyline fill=\"none\" stroke=\"black\" points=\"1367,-54.5 1367,-90.5 \"/>\n<text text-anchor=\"middle\" x=\"1419\" y=\"-68.8\" font-family=\"Times,serif\" font-size=\"14.00\">grad 0.5000</text>\n</g>\n<!-- 140204792930256tanh -->\n<g id=\"node15\" class=\"node\">\n<title>140204792930256tanh</title>\n<ellipse fill=\"none\" stroke=\"black\" cx=\"1538.85\" cy=\"-72.5\" rx=\"31.7\" ry=\"18\"/>\n<text text-anchor=\"middle\" x=\"1538.85\" y=\"-68.8\" font-family=\"Times,serif\" font-size=\"14.00\">tanh</text>\n</g>\n<!-- 140204792929584&#45;&gt;140204792930256tanh -->\n<g id=\"edge6\" class=\"edge\">\n<title>140204792929584&#45;&gt;140204792930256tanh</title>\n<path fill=\"none\" stroke=\"black\" d=\"M1471.17,-72.5C1480.08,-72.5 1488.66,-72.5 1496.53,-72.5\"/>\n<polygon fill=\"black\" stroke=\"black\" points=\"1496.78,-76 1506.78,-72.5 1496.78,-69 1496.78,-76\"/>\n</g>\n<!-- 140204792929584+&#45;&gt;140204792929584 -->\n<g id=\"edge2\" class=\"edge\">\n<title>140204792929584+&#45;&gt;140204792929584</title>\n<path fill=\"none\" stroke=\"black\" d=\"M1203.12,-72.5C1210.53,-72.5 1219.14,-72.5 1228.4,-72.5\"/>\n<polygon fill=\"black\" stroke=\"black\" points=\"1228.69,-76 1238.69,-72.5 1228.69,-69 1228.69,-76\"/>\n</g>\n<!-- 140204792930144 -->\n<g id=\"node10\" class=\"node\">\n<title>140204792930144</title>\n<polygon fill=\"none\" stroke=\"black\" points=\"377.5,-110.5 377.5,-146.5 645.5,-146.5 645.5,-110.5 377.5,-110.5\"/>\n<text text-anchor=\"middle\" x=\"408.5\" y=\"-124.8\" font-family=\"Times,serif\" font-size=\"14.00\">x2*w2</text>\n<polyline fill=\"none\" stroke=\"black\" points=\"439.5,-110.5 439.5,-146.5 \"/>\n<text text-anchor=\"middle\" x=\"490.5\" y=\"-124.8\" font-family=\"Times,serif\" font-size=\"14.00\">data 0.0000</text>\n<polyline fill=\"none\" stroke=\"black\" points=\"541.5,-110.5 541.5,-146.5 \"/>\n<text text-anchor=\"middle\" x=\"593.5\" y=\"-124.8\" font-family=\"Times,serif\" font-size=\"14.00\">grad 0.5000</text>\n</g>\n<!-- 140204792930144&#45;&gt;140204792928912+ -->\n<g id=\"edge9\" class=\"edge\">\n<title>140204792930144&#45;&gt;140204792928912+</title>\n<path fill=\"none\" stroke=\"black\" d=\"M639.53,-110.49C652.09,-108.71 663.99,-107.02 674.3,-105.56\"/>\n<polygon fill=\"black\" stroke=\"black\" points=\"675.03,-108.99 684.44,-104.12 674.05,-102.06 675.03,-108.99\"/>\n</g>\n<!-- 140204792930144*&#45;&gt;140204792930144 -->\n<g id=\"edge3\" class=\"edge\">\n<title>140204792930144*&#45;&gt;140204792930144</title>\n<path fill=\"none\" stroke=\"black\" d=\"M339.23,-128.5C347.26,-128.5 356.72,-128.5 366.99,-128.5\"/>\n<polygon fill=\"black\" stroke=\"black\" points=\"367.08,-132 377.08,-128.5 367.08,-125 367.08,-132\"/>\n</g>\n<!-- 140204792929640 -->\n<g id=\"node12\" class=\"node\">\n<title>140204792929640</title>\n<polygon fill=\"none\" stroke=\"black\" points=\"375,-55.5 375,-91.5 648,-91.5 648,-55.5 375,-55.5\"/>\n<text text-anchor=\"middle\" x=\"406\" y=\"-69.8\" font-family=\"Times,serif\" font-size=\"14.00\">x1*w1</text>\n<polyline fill=\"none\" stroke=\"black\" points=\"437,-55.5 437,-91.5 \"/>\n<text text-anchor=\"middle\" x=\"490.5\" y=\"-69.8\" font-family=\"Times,serif\" font-size=\"14.00\">data &#45;6.0000</text>\n<polyline fill=\"none\" stroke=\"black\" points=\"544,-55.5 544,-91.5 \"/>\n<text text-anchor=\"middle\" x=\"596\" y=\"-69.8\" font-family=\"Times,serif\" font-size=\"14.00\">grad 0.5000</text>\n</g>\n<!-- 140204792929640&#45;&gt;140204792928912+ -->\n<g id=\"edge10\" class=\"edge\">\n<title>140204792929640&#45;&gt;140204792928912+</title>\n<path fill=\"none\" stroke=\"black\" d=\"M644.24,-91.51C655.12,-93 665.4,-94.4 674.45,-95.64\"/>\n<polygon fill=\"black\" stroke=\"black\" points=\"674.11,-99.13 684.49,-97.01 675.05,-92.19 674.11,-99.13\"/>\n</g>\n<!-- 140204792929640*&#45;&gt;140204792929640 -->\n<g id=\"edge4\" class=\"edge\">\n<title>140204792929640*&#45;&gt;140204792929640</title>\n<path fill=\"none\" stroke=\"black\" d=\"M339.23,-73.5C346.7,-73.5 355.41,-73.5 364.87,-73.5\"/>\n<polygon fill=\"black\" stroke=\"black\" points=\"364.98,-77 374.98,-73.5 364.98,-70 364.98,-77\"/>\n</g>\n<!-- 140204792930256 -->\n<g id=\"node14\" class=\"node\">\n<title>140204792930256</title>\n<polygon fill=\"none\" stroke=\"black\" points=\"1606.69,-54.5 1606.69,-90.5 1837.69,-90.5 1837.69,-54.5 1606.69,-54.5\"/>\n<text text-anchor=\"middle\" x=\"1619.19\" y=\"-68.8\" font-family=\"Times,serif\" font-size=\"14.00\">o</text>\n<polyline fill=\"none\" stroke=\"black\" points=\"1631.69,-54.5 1631.69,-90.5 \"/>\n<text text-anchor=\"middle\" x=\"1682.69\" y=\"-68.8\" font-family=\"Times,serif\" font-size=\"14.00\">data 0.7071</text>\n<polyline fill=\"none\" stroke=\"black\" points=\"1733.69,-54.5 1733.69,-90.5 \"/>\n<text text-anchor=\"middle\" x=\"1785.69\" y=\"-68.8\" font-family=\"Times,serif\" font-size=\"14.00\">grad 1.0000</text>\n</g>\n<!-- 140204792930256tanh&#45;&gt;140204792930256 -->\n<g id=\"edge5\" class=\"edge\">\n<title>140204792930256tanh&#45;&gt;140204792930256</title>\n<path fill=\"none\" stroke=\"black\" d=\"M1571.02,-72.5C1578.61,-72.5 1587.19,-72.5 1596.31,-72.5\"/>\n<polygon fill=\"black\" stroke=\"black\" points=\"1596.4,-76 1606.4,-72.5 1596.4,-69 1596.4,-76\"/>\n</g>\n</g>\n</svg>\n",
      "text/plain": "<graphviz.graphs.Digraph at 0x7f83f8cb4630>"
     },
     "execution_count": 63,
     "metadata": {},
     "output_type": "execute_result"
    }
   ],
   "source": [
    "topo = []\n",
    "visited = set()\n",
    "def build_topo(v):\n",
    "    if v not in visited:\n",
    "        visited.add(v)\n",
    "        for child in v._prev:\n",
    "            build_topo(child)\n",
    "        topo.append(v)\n",
    "build_topo(o)\n",
    "\n",
    "o.grad = 1.0\n",
    "for node in reversed(topo):\n",
    "    node._backward()\n",
    "draw_dot(o)"
   ],
   "metadata": {
    "collapsed": false,
    "pycharm": {
     "name": "#%%\n"
    }
   }
  },
  {
   "cell_type": "markdown",
   "source": [
    "Po dodaniu tej metody do klasy *Value* jedyne co musimy wykonać to *backward* na ostatnim węźle grafu obliczeniowego."
   ],
   "metadata": {
    "collapsed": false,
    "pycharm": {
     "name": "#%% md\n"
    }
   }
  },
  {
   "cell_type": "code",
   "execution_count": 61,
   "outputs": [
    {
     "data": {
      "image/svg+xml": "<?xml version=\"1.0\" encoding=\"UTF-8\" standalone=\"no\"?>\n<!DOCTYPE svg PUBLIC \"-//W3C//DTD SVG 1.1//EN\"\n \"http://www.w3.org/Graphics/SVG/1.1/DTD/svg11.dtd\">\n<!-- Generated by graphviz version 2.43.0 (0)\n -->\n<!-- Title: %3 Pages: 1 -->\n<svg width=\"970pt\" height=\"100pt\"\n viewBox=\"0.00 0.00 970.00 100.00\" xmlns=\"http://www.w3.org/2000/svg\" xmlns:xlink=\"http://www.w3.org/1999/xlink\">\n<g id=\"graph0\" class=\"graph\" transform=\"scale(1 1) rotate(0) translate(4 96)\">\n<title>%3</title>\n<polygon fill=\"white\" stroke=\"transparent\" points=\"-4,4 -4,-96 966,-96 966,4 -4,4\"/>\n<!-- 140204797358600 -->\n<g id=\"node1\" class=\"node\">\n<title>140204797358600</title>\n<polygon fill=\"none\" stroke=\"black\" points=\"366,-55.5 366,-91.5 603,-91.5 603,-55.5 366,-55.5\"/>\n<text text-anchor=\"middle\" x=\"379\" y=\"-69.8\" font-family=\"Times,serif\" font-size=\"14.00\">d</text>\n<polyline fill=\"none\" stroke=\"black\" points=\"392,-55.5 392,-91.5 \"/>\n<text text-anchor=\"middle\" x=\"445.5\" y=\"-69.8\" font-family=\"Times,serif\" font-size=\"14.00\">data &#45;6.0000</text>\n<polyline fill=\"none\" stroke=\"black\" points=\"499,-55.5 499,-91.5 \"/>\n<text text-anchor=\"middle\" x=\"551\" y=\"-69.8\" font-family=\"Times,serif\" font-size=\"14.00\">grad 1.0000</text>\n</g>\n<!-- 140204797359160* -->\n<g id=\"node4\" class=\"node\">\n<title>140204797359160*</title>\n<ellipse fill=\"none\" stroke=\"black\" cx=\"666\" cy=\"-45.5\" rx=\"27\" ry=\"18\"/>\n<text text-anchor=\"middle\" x=\"666\" y=\"-41.8\" font-family=\"Times,serif\" font-size=\"14.00\">*</text>\n</g>\n<!-- 140204797358600&#45;&gt;140204797359160* -->\n<g id=\"edge9\" class=\"edge\">\n<title>140204797358600&#45;&gt;140204797359160*</title>\n<path fill=\"none\" stroke=\"black\" d=\"M600.96,-55.49C611.12,-53.91 620.8,-52.4 629.41,-51.05\"/>\n<polygon fill=\"black\" stroke=\"black\" points=\"630.02,-54.5 639.36,-49.5 628.94,-47.58 630.02,-54.5\"/>\n</g>\n<!-- 140204797358600* -->\n<g id=\"node2\" class=\"node\">\n<title>140204797358600*</title>\n<ellipse fill=\"none\" stroke=\"black\" cx=\"303\" cy=\"-73.5\" rx=\"27\" ry=\"18\"/>\n<text text-anchor=\"middle\" x=\"303\" y=\"-69.8\" font-family=\"Times,serif\" font-size=\"14.00\">*</text>\n</g>\n<!-- 140204797358600*&#45;&gt;140204797358600 -->\n<g id=\"edge1\" class=\"edge\">\n<title>140204797358600*&#45;&gt;140204797358600</title>\n<path fill=\"none\" stroke=\"black\" d=\"M330.1,-73.5C337.61,-73.5 346.33,-73.5 355.75,-73.5\"/>\n<polygon fill=\"black\" stroke=\"black\" points=\"355.78,-77 365.78,-73.5 355.78,-70 355.78,-77\"/>\n</g>\n<!-- 140204797359160 -->\n<g id=\"node3\" class=\"node\">\n<title>140204797359160</title>\n<polygon fill=\"none\" stroke=\"black\" points=\"729,-27.5 729,-63.5 962,-63.5 962,-27.5 729,-27.5\"/>\n<text text-anchor=\"middle\" x=\"740\" y=\"-41.8\" font-family=\"Times,serif\" font-size=\"14.00\">f</text>\n<polyline fill=\"none\" stroke=\"black\" points=\"751,-27.5 751,-63.5 \"/>\n<text text-anchor=\"middle\" x=\"804.5\" y=\"-41.8\" font-family=\"Times,serif\" font-size=\"14.00\">data &#45;6.0000</text>\n<polyline fill=\"none\" stroke=\"black\" points=\"858,-27.5 858,-63.5 \"/>\n<text text-anchor=\"middle\" x=\"910\" y=\"-41.8\" font-family=\"Times,serif\" font-size=\"14.00\">grad 1.0000</text>\n</g>\n<!-- 140204797359160*&#45;&gt;140204797359160 -->\n<g id=\"edge2\" class=\"edge\">\n<title>140204797359160*&#45;&gt;140204797359160</title>\n<path fill=\"none\" stroke=\"black\" d=\"M693.19,-45.5C700.71,-45.5 709.44,-45.5 718.84,-45.5\"/>\n<polygon fill=\"black\" stroke=\"black\" points=\"718.87,-49 728.87,-45.5 718.87,-42 718.87,-49\"/>\n</g>\n<!-- 140204797359440 -->\n<g id=\"node5\" class=\"node\">\n<title>140204797359440</title>\n<polygon fill=\"none\" stroke=\"black\" points=\"367,-0.5 367,-36.5 602,-36.5 602,-0.5 367,-0.5\"/>\n<text text-anchor=\"middle\" x=\"379.5\" y=\"-14.8\" font-family=\"Times,serif\" font-size=\"14.00\">e</text>\n<polyline fill=\"none\" stroke=\"black\" points=\"392,-0.5 392,-36.5 \"/>\n<text text-anchor=\"middle\" x=\"443\" y=\"-14.8\" font-family=\"Times,serif\" font-size=\"14.00\">data 1.0000</text>\n<polyline fill=\"none\" stroke=\"black\" points=\"494,-0.5 494,-36.5 \"/>\n<text text-anchor=\"middle\" x=\"548\" y=\"-14.8\" font-family=\"Times,serif\" font-size=\"14.00\">grad &#45;6.0000</text>\n</g>\n<!-- 140204797359440&#45;&gt;140204797359160* -->\n<g id=\"edge4\" class=\"edge\">\n<title>140204797359440&#45;&gt;140204797359160*</title>\n<path fill=\"none\" stroke=\"black\" d=\"M602.22,-36.06C611.92,-37.52 621.15,-38.9 629.41,-40.15\"/>\n<polygon fill=\"black\" stroke=\"black\" points=\"628.9,-43.61 639.31,-41.64 629.94,-36.69 628.9,-43.61\"/>\n</g>\n<!-- 140204797359440+ -->\n<g id=\"node6\" class=\"node\">\n<title>140204797359440+</title>\n<ellipse fill=\"none\" stroke=\"black\" cx=\"303\" cy=\"-18.5\" rx=\"27\" ry=\"18\"/>\n<text text-anchor=\"middle\" x=\"303\" y=\"-14.8\" font-family=\"Times,serif\" font-size=\"14.00\">+</text>\n</g>\n<!-- 140204797359440+&#45;&gt;140204797359440 -->\n<g id=\"edge3\" class=\"edge\">\n<title>140204797359440+&#45;&gt;140204797359440</title>\n<path fill=\"none\" stroke=\"black\" d=\"M330.1,-18.5C337.9,-18.5 347.03,-18.5 356.87,-18.5\"/>\n<polygon fill=\"black\" stroke=\"black\" points=\"356.93,-22 366.93,-18.5 356.93,-15 356.93,-22\"/>\n</g>\n<!-- 140204797361008 -->\n<g id=\"node7\" class=\"node\">\n<title>140204797361008</title>\n<polygon fill=\"none\" stroke=\"black\" points=\"2,-55.5 2,-91.5 238,-91.5 238,-55.5 2,-55.5\"/>\n<text text-anchor=\"middle\" x=\"15\" y=\"-69.8\" font-family=\"Times,serif\" font-size=\"14.00\">b</text>\n<polyline fill=\"none\" stroke=\"black\" points=\"28,-55.5 28,-91.5 \"/>\n<text text-anchor=\"middle\" x=\"79\" y=\"-69.8\" font-family=\"Times,serif\" font-size=\"14.00\">data 3.0000</text>\n<polyline fill=\"none\" stroke=\"black\" points=\"130,-55.5 130,-91.5 \"/>\n<text text-anchor=\"middle\" x=\"184\" y=\"-69.8\" font-family=\"Times,serif\" font-size=\"14.00\">grad &#45;8.0000</text>\n</g>\n<!-- 140204797361008&#45;&gt;140204797358600* -->\n<g id=\"edge7\" class=\"edge\">\n<title>140204797361008&#45;&gt;140204797358600*</title>\n<path fill=\"none\" stroke=\"black\" d=\"M238.19,-73.5C248.03,-73.5 257.41,-73.5 265.8,-73.5\"/>\n<polygon fill=\"black\" stroke=\"black\" points=\"265.87,-77 275.87,-73.5 265.87,-70 265.87,-77\"/>\n</g>\n<!-- 140204797361008&#45;&gt;140204797359440+ -->\n<g id=\"edge6\" class=\"edge\">\n<title>140204797361008&#45;&gt;140204797359440+</title>\n<path fill=\"none\" stroke=\"black\" d=\"M209.61,-55.48C219.94,-52.77 230.26,-49.77 240,-46.5 250.69,-42.91 262.03,-38.11 272.05,-33.49\"/>\n<polygon fill=\"black\" stroke=\"black\" points=\"273.65,-36.61 281.19,-29.17 270.65,-30.28 273.65,-36.61\"/>\n</g>\n<!-- 140204797358488 -->\n<g id=\"node8\" class=\"node\">\n<title>140204797358488</title>\n<polygon fill=\"none\" stroke=\"black\" points=\"0,-0.5 0,-36.5 240,-36.5 240,-0.5 0,-0.5\"/>\n<text text-anchor=\"middle\" x=\"12.5\" y=\"-14.8\" font-family=\"Times,serif\" font-size=\"14.00\">a</text>\n<polyline fill=\"none\" stroke=\"black\" points=\"25,-0.5 25,-36.5 \"/>\n<text text-anchor=\"middle\" x=\"78.5\" y=\"-14.8\" font-family=\"Times,serif\" font-size=\"14.00\">data &#45;2.0000</text>\n<polyline fill=\"none\" stroke=\"black\" points=\"132,-0.5 132,-36.5 \"/>\n<text text-anchor=\"middle\" x=\"186\" y=\"-14.8\" font-family=\"Times,serif\" font-size=\"14.00\">grad &#45;3.0000</text>\n</g>\n<!-- 140204797358488&#45;&gt;140204797358600* -->\n<g id=\"edge5\" class=\"edge\">\n<title>140204797358488&#45;&gt;140204797358600*</title>\n<path fill=\"none\" stroke=\"black\" d=\"M206.03,-36.54C217.54,-39.55 229.12,-42.88 240,-46.5 250.44,-49.97 261.55,-54.52 271.44,-58.89\"/>\n<polygon fill=\"black\" stroke=\"black\" points=\"270.3,-62.22 280.85,-63.16 273.19,-55.84 270.3,-62.22\"/>\n</g>\n<!-- 140204797358488&#45;&gt;140204797359440+ -->\n<g id=\"edge8\" class=\"edge\">\n<title>140204797358488&#45;&gt;140204797359440+</title>\n<path fill=\"none\" stroke=\"black\" d=\"M240.22,-18.5C249.32,-18.5 257.99,-18.5 265.8,-18.5\"/>\n<polygon fill=\"black\" stroke=\"black\" points=\"265.88,-22 275.88,-18.5 265.88,-15 265.88,-22\"/>\n</g>\n</g>\n</svg>\n",
      "text/plain": "<graphviz.graphs.Digraph at 0x7f83f9247358>"
     },
     "execution_count": 61,
     "metadata": {},
     "output_type": "execute_result"
    }
   ],
   "source": [
    "a = Value(-2.0, label='a')\n",
    "b = Value(3.0, label='b')\n",
    "d = a * b    ; d.label = 'd'\n",
    "e = a + b    ; e.label = 'e'\n",
    "f = d * e    ; f.label = 'f'\n",
    "\n",
    "f.backward()\n",
    "\n",
    "draw_dot(f)"
   ],
   "metadata": {
    "collapsed": false,
    "pycharm": {
     "name": "#%%\n"
    }
   }
  },
  {
   "cell_type": "markdown",
   "source": [
    "### PyTorch\n",
    "\n",
    "W praktyce do trenowania sieci neuronowych wykorzystujemy biblioteki, które implementują silniki automatycznego różniczkowania (ang. *automatic differentiation engine*).\n",
    "\n",
    "PyTorch opiera się na obliczeniach na *tensorach* (w powyższej prostej implementacji opieramy się na skalarach). Są to wielowymiarowe tablice skalarów."
   ],
   "metadata": {
    "collapsed": false,
    "pycharm": {
     "name": "#%% md\n"
    }
   }
  },
  {
   "cell_type": "code",
   "execution_count": 1,
   "outputs": [],
   "source": [
    "import torch"
   ],
   "metadata": {
    "collapsed": false,
    "pycharm": {
     "name": "#%%\n"
    }
   }
  },
  {
   "cell_type": "code",
   "execution_count": 2,
   "outputs": [
    {
     "name": "stdout",
     "output_type": "stream",
     "text": [
      "0.7071066904050358\n",
      "---\n",
      "x2 0.5000001283844369\n",
      "w2 0.0\n",
      "x1 -1.5000003851533106\n",
      "w1 1.0000002567688737\n"
     ]
    }
   ],
   "source": [
    "# cast do typu double, aby ujednolicić typu (Python korzysta z double z default'u, natomiast PyTorch korzysta z typu float32)\n",
    "\n",
    "x1 = torch.Tensor([2.0]).double()                ; x1.requires_grad = True\n",
    "x2 = torch.Tensor([0.0]).double()                ; x2.requires_grad = True\n",
    "w1 = torch.Tensor([-3.0]).double()               ; w1.requires_grad = True\n",
    "w2 = torch.Tensor([1.0]).double()                ; w2.requires_grad = True\n",
    "b = torch.Tensor([6.8813735870195432]).double()  ; b.requires_grad = True\n",
    "# powyższe zmienne są liśćmi grafu obliczeniowego i PyTorch z default'u nie wyznacza im gradientów (stąd  x1.requires_grad = True)\n",
    "n = x1*w1 + x2*w2 + b\n",
    "o = torch.tanh(n)\n",
    "\n",
    "print(o.data.item())\n",
    "o.backward()\n",
    "\n",
    "print('---')\n",
    "print('x2', x2.grad.item())\n",
    "print('w2', w2.grad.item())\n",
    "print('x1', x1.grad.item())\n",
    "print('w1', w1.grad.item())"
   ],
   "metadata": {
    "collapsed": false,
    "pycharm": {
     "name": "#%%\n"
    }
   }
  },
  {
   "cell_type": "markdown",
   "source": [
    "## Materiały\n",
    "\n",
    "* [The spelled-out intro to neural networks and backpropagation: building micrograd](https://www.youtube.com/watch?v=VMj-3S1tku0)\n",
    "* [PyTorch 101, Part 1: Understanding Graphs, Automatic Differentiation and Autograd](https://blog.paperspace.com/pytorch-101-understanding-graphs-and-automatic-differentiation/)"
   ],
   "metadata": {
    "collapsed": false,
    "pycharm": {
     "name": "#%% md\n"
    }
   }
  }
 ],
 "metadata": {
  "kernelspec": {
   "display_name": "Python 3",
   "language": "python",
   "name": "python3"
  },
  "language_info": {
   "codemirror_mode": {
    "name": "ipython",
    "version": 2
   },
   "file_extension": ".py",
   "mimetype": "text/x-python",
   "name": "python",
   "nbconvert_exporter": "python",
   "pygments_lexer": "ipython2",
   "version": "2.7.6"
  }
 },
 "nbformat": 4,
 "nbformat_minor": 0
}