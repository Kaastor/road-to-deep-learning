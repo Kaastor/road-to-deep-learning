{
 "cells": [
  {
   "cell_type": "markdown",
   "source": [
    "### Load FaceNet Model\n",
    "\n",
    "[Model](https://github.com/nyoki-mtl/keras-facenet)"
   ],
   "metadata": {
    "collapsed": false,
    "pycharm": {
     "name": "#%% md\n"
    }
   }
  },
  {
   "cell_type": "code",
   "execution_count": 2,
   "outputs": [],
   "source": [
    "import numpy as np\n",
    "import tensorflow as tf\n",
    "import os\n",
    "from tensorflow import keras"
   ],
   "metadata": {
    "collapsed": false,
    "pycharm": {
     "name": "#%%\n"
    }
   }
  },
  {
   "cell_type": "markdown",
   "source": [
    "Convert model from *h5* to *saved-model* format to \"face_net_nyoki\" directory."
   ],
   "metadata": {
    "collapsed": false,
    "pycharm": {
     "name": "#%% md\n"
    }
   }
  },
  {
   "cell_type": "code",
   "execution_count": null,
   "outputs": [],
   "source": [
    "from tensorflow.python.lib.io import file_io\n",
    "\n",
    "model_file = file_io.FileIO('gs://shield-phishing/face_verification/pretrained_models/face_net_nyoki/facenet.h5', mode='rb')\n",
    "with open(\"./temp_face_model.h5\",'wb') as f:\n",
    "    f.write(model_file.read())\n",
    "    model_file.close()\n",
    "    model = tf.keras.models.load_model(f.name)\n",
    "    os.remove(f.name)\n",
    "\n",
    "model.save('./face_net_nyoki/')\n",
    "print(model.inputs)\n",
    "print(model.outputs)"
   ],
   "metadata": {
    "collapsed": false,
    "pycharm": {
     "name": "#%%\n",
     "is_executing": true
    }
   }
  },
  {
   "cell_type": "code",
   "execution_count": null,
   "outputs": [],
   "source": [
    "model = keras.models.load_model('./inception_model/hiroki/facenet_keras.h5')\n",
    "\n",
    "print(model.inputs)\n",
    "print(model.outputs)"
   ],
   "metadata": {
    "collapsed": false,
    "pycharm": {
     "name": "#%%\n",
     "is_executing": true
    }
   }
  },
  {
   "cell_type": "code",
   "execution_count": 2,
   "outputs": [
    {
     "ename": "FailedPreconditionError",
     "evalue": "Error executing an HTTP request: libcurl code 6 meaning 'Couldn't resolve host name', error details: Could not resolve host: storage.googleapis.com\n\t when reading gs://shield-phishing/face_verification/pretrained_models/face_net_nyoki/saved_model/variables/variables.data-00000-of-00001 [Op:RestoreV2]",
     "output_type": "error",
     "traceback": [
      "\u001B[0;31m---------------------------------------------------------------------------\u001B[0m",
      "\u001B[0;31mFailedPreconditionError\u001B[0m                   Traceback (most recent call last)",
      "\u001B[0;32m<ipython-input-2-bd8dee2883ba>\u001B[0m in \u001B[0;36m<module>\u001B[0;34m\u001B[0m\n\u001B[0;32m----> 1\u001B[0;31m \u001B[0mmodel\u001B[0m \u001B[0;34m=\u001B[0m \u001B[0mkeras\u001B[0m\u001B[0;34m.\u001B[0m\u001B[0mmodels\u001B[0m\u001B[0;34m.\u001B[0m\u001B[0mload_model\u001B[0m\u001B[0;34m(\u001B[0m\u001B[0;34m'gs://shield-phishing/face_verification/pretrained_models/face_net_nyoki/saved_model/'\u001B[0m\u001B[0;34m)\u001B[0m\u001B[0;34m\u001B[0m\u001B[0;34m\u001B[0m\u001B[0m\n\u001B[0m\u001B[1;32m      2\u001B[0m \u001B[0;34m\u001B[0m\u001B[0m\n\u001B[1;32m      3\u001B[0m \u001B[0mprint\u001B[0m\u001B[0;34m(\u001B[0m\u001B[0mmodel\u001B[0m\u001B[0;34m.\u001B[0m\u001B[0minputs\u001B[0m\u001B[0;34m)\u001B[0m\u001B[0;34m\u001B[0m\u001B[0;34m\u001B[0m\u001B[0m\n\u001B[1;32m      4\u001B[0m \u001B[0mprint\u001B[0m\u001B[0;34m(\u001B[0m\u001B[0mmodel\u001B[0m\u001B[0;34m.\u001B[0m\u001B[0moutputs\u001B[0m\u001B[0;34m)\u001B[0m\u001B[0;34m\u001B[0m\u001B[0;34m\u001B[0m\u001B[0m\n",
      "\u001B[0;32m~/Deep Learning/road-to-deep-learning/road-to-deep-learning/venv/lib/python3.6/site-packages/keras/saving/save.py\u001B[0m in \u001B[0;36mload_model\u001B[0;34m(filepath, custom_objects, compile, options)\u001B[0m\n\u001B[1;32m    203\u001B[0m         \u001B[0mfilepath\u001B[0m \u001B[0;34m=\u001B[0m \u001B[0mpath_to_string\u001B[0m\u001B[0;34m(\u001B[0m\u001B[0mfilepath\u001B[0m\u001B[0;34m)\u001B[0m\u001B[0;34m\u001B[0m\u001B[0;34m\u001B[0m\u001B[0m\n\u001B[1;32m    204\u001B[0m         \u001B[0;32mif\u001B[0m \u001B[0misinstance\u001B[0m\u001B[0;34m(\u001B[0m\u001B[0mfilepath\u001B[0m\u001B[0;34m,\u001B[0m \u001B[0mstr\u001B[0m\u001B[0;34m)\u001B[0m\u001B[0;34m:\u001B[0m\u001B[0;34m\u001B[0m\u001B[0;34m\u001B[0m\u001B[0m\n\u001B[0;32m--> 205\u001B[0;31m           \u001B[0;32mreturn\u001B[0m \u001B[0msaved_model_load\u001B[0m\u001B[0;34m.\u001B[0m\u001B[0mload\u001B[0m\u001B[0;34m(\u001B[0m\u001B[0mfilepath\u001B[0m\u001B[0;34m,\u001B[0m \u001B[0mcompile\u001B[0m\u001B[0;34m,\u001B[0m \u001B[0moptions\u001B[0m\u001B[0;34m)\u001B[0m\u001B[0;34m\u001B[0m\u001B[0;34m\u001B[0m\u001B[0m\n\u001B[0m\u001B[1;32m    206\u001B[0m \u001B[0;34m\u001B[0m\u001B[0m\n\u001B[1;32m    207\u001B[0m   raise IOError(\n",
      "\u001B[0;32m~/Deep Learning/road-to-deep-learning/road-to-deep-learning/venv/lib/python3.6/site-packages/keras/saving/saved_model/load.py\u001B[0m in \u001B[0;36mload\u001B[0;34m(path, compile, options)\u001B[0m\n\u001B[1;32m    138\u001B[0m   \u001B[0;32mfor\u001B[0m \u001B[0mnode_id\u001B[0m\u001B[0;34m,\u001B[0m \u001B[0mloaded_node\u001B[0m \u001B[0;32min\u001B[0m \u001B[0mkeras_loader\u001B[0m\u001B[0;34m.\u001B[0m\u001B[0mloaded_nodes\u001B[0m\u001B[0;34m.\u001B[0m\u001B[0mitems\u001B[0m\u001B[0;34m(\u001B[0m\u001B[0;34m)\u001B[0m\u001B[0;34m:\u001B[0m\u001B[0;34m\u001B[0m\u001B[0;34m\u001B[0m\u001B[0m\n\u001B[1;32m    139\u001B[0m     \u001B[0mnodes_to_load\u001B[0m\u001B[0;34m[\u001B[0m\u001B[0mkeras_loader\u001B[0m\u001B[0;34m.\u001B[0m\u001B[0mget_path\u001B[0m\u001B[0;34m(\u001B[0m\u001B[0mnode_id\u001B[0m\u001B[0;34m)\u001B[0m\u001B[0;34m]\u001B[0m \u001B[0;34m=\u001B[0m \u001B[0mloaded_node\u001B[0m\u001B[0;34m\u001B[0m\u001B[0;34m\u001B[0m\u001B[0m\n\u001B[0;32m--> 140\u001B[0;31m   \u001B[0mloaded\u001B[0m \u001B[0;34m=\u001B[0m \u001B[0mtf\u001B[0m\u001B[0;34m.\u001B[0m\u001B[0m__internal__\u001B[0m\u001B[0;34m.\u001B[0m\u001B[0msaved_model\u001B[0m\u001B[0;34m.\u001B[0m\u001B[0mload_partial\u001B[0m\u001B[0;34m(\u001B[0m\u001B[0mpath\u001B[0m\u001B[0;34m,\u001B[0m \u001B[0mnodes_to_load\u001B[0m\u001B[0;34m,\u001B[0m \u001B[0moptions\u001B[0m\u001B[0;34m=\u001B[0m\u001B[0moptions\u001B[0m\u001B[0;34m)\u001B[0m\u001B[0;34m\u001B[0m\u001B[0;34m\u001B[0m\u001B[0m\n\u001B[0m\u001B[1;32m    141\u001B[0m \u001B[0;34m\u001B[0m\u001B[0m\n\u001B[1;32m    142\u001B[0m   \u001B[0;31m# Finalize the loaded layers and remove the extra tracked dependencies.\u001B[0m\u001B[0;34m\u001B[0m\u001B[0;34m\u001B[0m\u001B[0;34m\u001B[0m\u001B[0m\n",
      "\u001B[0;32m~/Deep Learning/road-to-deep-learning/road-to-deep-learning/venv/lib/python3.6/site-packages/tensorflow/python/saved_model/load.py\u001B[0m in \u001B[0;36mload_partial\u001B[0;34m(export_dir, filters, tags, options)\u001B[0m\n\u001B[1;32m    767\u001B[0m     \u001B[0mA\u001B[0m \u001B[0mdictionary\u001B[0m \u001B[0mmapping\u001B[0m \u001B[0mnode\u001B[0m \u001B[0mpaths\u001B[0m \u001B[0;32mfrom\u001B[0m \u001B[0mthe\u001B[0m \u001B[0mfilter\u001B[0m \u001B[0mto\u001B[0m \u001B[0mloaded\u001B[0m \u001B[0mobjects\u001B[0m\u001B[0;34m.\u001B[0m\u001B[0;34m\u001B[0m\u001B[0;34m\u001B[0m\u001B[0m\n\u001B[1;32m    768\u001B[0m   \"\"\"\n\u001B[0;32m--> 769\u001B[0;31m   \u001B[0;32mreturn\u001B[0m \u001B[0mload_internal\u001B[0m\u001B[0;34m(\u001B[0m\u001B[0mexport_dir\u001B[0m\u001B[0;34m,\u001B[0m \u001B[0mtags\u001B[0m\u001B[0;34m,\u001B[0m \u001B[0moptions\u001B[0m\u001B[0;34m,\u001B[0m \u001B[0mfilters\u001B[0m\u001B[0;34m=\u001B[0m\u001B[0mfilters\u001B[0m\u001B[0;34m)\u001B[0m\u001B[0;34m\u001B[0m\u001B[0;34m\u001B[0m\u001B[0m\n\u001B[0m\u001B[1;32m    770\u001B[0m \u001B[0;34m\u001B[0m\u001B[0m\n\u001B[1;32m    771\u001B[0m \u001B[0;34m\u001B[0m\u001B[0m\n",
      "\u001B[0;32m~/Deep Learning/road-to-deep-learning/road-to-deep-learning/venv/lib/python3.6/site-packages/tensorflow/python/saved_model/load.py\u001B[0m in \u001B[0;36mload_internal\u001B[0;34m(export_dir, tags, options, loader_cls, filters)\u001B[0m\n\u001B[1;32m    901\u001B[0m       \u001B[0;32mtry\u001B[0m\u001B[0;34m:\u001B[0m\u001B[0;34m\u001B[0m\u001B[0;34m\u001B[0m\u001B[0m\n\u001B[1;32m    902\u001B[0m         loader = loader_cls(object_graph_proto, saved_model_proto, export_dir,\n\u001B[0;32m--> 903\u001B[0;31m                             ckpt_options, options, filters)\n\u001B[0m\u001B[1;32m    904\u001B[0m       \u001B[0;32mexcept\u001B[0m \u001B[0merrors\u001B[0m\u001B[0;34m.\u001B[0m\u001B[0mNotFoundError\u001B[0m \u001B[0;32mas\u001B[0m \u001B[0merr\u001B[0m\u001B[0;34m:\u001B[0m\u001B[0;34m\u001B[0m\u001B[0;34m\u001B[0m\u001B[0m\n\u001B[1;32m    905\u001B[0m         raise FileNotFoundError(\n",
      "\u001B[0;32m~/Deep Learning/road-to-deep-learning/road-to-deep-learning/venv/lib/python3.6/site-packages/tensorflow/python/saved_model/load.py\u001B[0m in \u001B[0;36m__init__\u001B[0;34m(self, object_graph_proto, saved_model_proto, export_dir, ckpt_options, save_options, filters)\u001B[0m\n\u001B[1;32m    163\u001B[0m \u001B[0;34m\u001B[0m\u001B[0m\n\u001B[1;32m    164\u001B[0m     \u001B[0;32mif\u001B[0m \u001B[0;32mnot\u001B[0m \u001B[0msave_options\u001B[0m\u001B[0;34m.\u001B[0m\u001B[0mexperimental_skip_checkpoint\u001B[0m\u001B[0;34m:\u001B[0m\u001B[0;34m\u001B[0m\u001B[0;34m\u001B[0m\u001B[0m\n\u001B[0;32m--> 165\u001B[0;31m       \u001B[0mself\u001B[0m\u001B[0;34m.\u001B[0m\u001B[0m_restore_checkpoint\u001B[0m\u001B[0;34m(\u001B[0m\u001B[0;34m)\u001B[0m\u001B[0;34m\u001B[0m\u001B[0;34m\u001B[0m\u001B[0m\n\u001B[0m\u001B[1;32m    166\u001B[0m       \u001B[0;32mfor\u001B[0m \u001B[0mnode\u001B[0m \u001B[0;32min\u001B[0m \u001B[0mself\u001B[0m\u001B[0;34m.\u001B[0m\u001B[0m_nodes\u001B[0m\u001B[0;34m:\u001B[0m\u001B[0;34m\u001B[0m\u001B[0;34m\u001B[0m\u001B[0m\n\u001B[1;32m    167\u001B[0m         \u001B[0;32mif\u001B[0m \u001B[0misinstance\u001B[0m\u001B[0;34m(\u001B[0m\u001B[0mnode\u001B[0m\u001B[0;34m,\u001B[0m \u001B[0mtracking\u001B[0m\u001B[0;34m.\u001B[0m\u001B[0mCapturableResource\u001B[0m\u001B[0;34m)\u001B[0m\u001B[0;34m:\u001B[0m\u001B[0;34m\u001B[0m\u001B[0;34m\u001B[0m\u001B[0m\n",
      "\u001B[0;32m~/Deep Learning/road-to-deep-learning/road-to-deep-learning/venv/lib/python3.6/site-packages/tensorflow/python/saved_model/load.py\u001B[0m in \u001B[0;36m_restore_checkpoint\u001B[0;34m(self)\u001B[0m\n\u001B[1;32m    474\u001B[0m       \u001B[0mload_status\u001B[0m\u001B[0;34m.\u001B[0m\u001B[0massert_nontrivial_match\u001B[0m\u001B[0;34m(\u001B[0m\u001B[0;34m)\u001B[0m\u001B[0;34m\u001B[0m\u001B[0;34m\u001B[0m\u001B[0m\n\u001B[1;32m    475\u001B[0m     \u001B[0;32melse\u001B[0m\u001B[0;34m:\u001B[0m\u001B[0;34m\u001B[0m\u001B[0;34m\u001B[0m\u001B[0m\n\u001B[0;32m--> 476\u001B[0;31m       \u001B[0mload_status\u001B[0m \u001B[0;34m=\u001B[0m \u001B[0msaver\u001B[0m\u001B[0;34m.\u001B[0m\u001B[0mrestore\u001B[0m\u001B[0;34m(\u001B[0m\u001B[0mvariables_path\u001B[0m\u001B[0;34m,\u001B[0m \u001B[0mself\u001B[0m\u001B[0;34m.\u001B[0m\u001B[0m_checkpoint_options\u001B[0m\u001B[0;34m)\u001B[0m\u001B[0;34m\u001B[0m\u001B[0;34m\u001B[0m\u001B[0m\n\u001B[0m\u001B[1;32m    477\u001B[0m       \u001B[0mload_status\u001B[0m\u001B[0;34m.\u001B[0m\u001B[0massert_existing_objects_matched\u001B[0m\u001B[0;34m(\u001B[0m\u001B[0;34m)\u001B[0m\u001B[0;34m\u001B[0m\u001B[0;34m\u001B[0m\u001B[0m\n\u001B[1;32m    478\u001B[0m     \u001B[0mcheckpoint\u001B[0m \u001B[0;34m=\u001B[0m \u001B[0mload_status\u001B[0m\u001B[0;34m.\u001B[0m\u001B[0m_checkpoint\u001B[0m\u001B[0;34m\u001B[0m\u001B[0;34m\u001B[0m\u001B[0m\n",
      "\u001B[0;32m~/Deep Learning/road-to-deep-learning/road-to-deep-learning/venv/lib/python3.6/site-packages/tensorflow/python/training/tracking/util.py\u001B[0m in \u001B[0;36mrestore\u001B[0;34m(self, save_path, options)\u001B[0m\n\u001B[1;32m   1381\u001B[0m         options=options)\n\u001B[1;32m   1382\u001B[0m     base.CheckpointPosition(\n\u001B[0;32m-> 1383\u001B[0;31m         checkpoint=checkpoint, proto_id=0).restore(self._graph_view.root)\n\u001B[0m\u001B[1;32m   1384\u001B[0m \u001B[0;34m\u001B[0m\u001B[0m\n\u001B[1;32m   1385\u001B[0m     \u001B[0;31m# Attached dependencies are not attached to the root, so should be restored\u001B[0m\u001B[0;34m\u001B[0m\u001B[0;34m\u001B[0m\u001B[0;34m\u001B[0m\u001B[0m\n",
      "\u001B[0;32m~/Deep Learning/road-to-deep-learning/road-to-deep-learning/venv/lib/python3.6/site-packages/tensorflow/python/training/tracking/base.py\u001B[0m in \u001B[0;36mrestore\u001B[0;34m(self, trackable)\u001B[0m\n\u001B[1;32m    252\u001B[0m         \u001B[0;31m# This object's correspondence with a checkpointed object is new, so\u001B[0m\u001B[0;34m\u001B[0m\u001B[0;34m\u001B[0m\u001B[0;34m\u001B[0m\u001B[0m\n\u001B[1;32m    253\u001B[0m         \u001B[0;31m# process deferred restorations for it and its dependencies.\u001B[0m\u001B[0;34m\u001B[0m\u001B[0;34m\u001B[0m\u001B[0;34m\u001B[0m\u001B[0m\n\u001B[0;32m--> 254\u001B[0;31m         \u001B[0mrestore_ops\u001B[0m \u001B[0;34m=\u001B[0m \u001B[0mtrackable\u001B[0m\u001B[0;34m.\u001B[0m\u001B[0m_restore_from_checkpoint_position\u001B[0m\u001B[0;34m(\u001B[0m\u001B[0mself\u001B[0m\u001B[0;34m)\u001B[0m  \u001B[0;31m# pylint: disable=protected-access\u001B[0m\u001B[0;34m\u001B[0m\u001B[0;34m\u001B[0m\u001B[0m\n\u001B[0m\u001B[1;32m    255\u001B[0m         \u001B[0;32mif\u001B[0m \u001B[0mrestore_ops\u001B[0m\u001B[0;34m:\u001B[0m\u001B[0;34m\u001B[0m\u001B[0;34m\u001B[0m\u001B[0m\n\u001B[1;32m    256\u001B[0m           \u001B[0mself\u001B[0m\u001B[0;34m.\u001B[0m\u001B[0m_checkpoint\u001B[0m\u001B[0;34m.\u001B[0m\u001B[0mnew_restore_ops\u001B[0m\u001B[0;34m(\u001B[0m\u001B[0mrestore_ops\u001B[0m\u001B[0;34m)\u001B[0m\u001B[0;34m\u001B[0m\u001B[0;34m\u001B[0m\u001B[0m\n",
      "\u001B[0;32m~/Deep Learning/road-to-deep-learning/road-to-deep-learning/venv/lib/python3.6/site-packages/tensorflow/python/training/tracking/base.py\u001B[0m in \u001B[0;36m_restore_from_checkpoint_position\u001B[0;34m(self, checkpoint_position)\u001B[0m\n\u001B[1;32m    979\u001B[0m     restore_ops.extend(\n\u001B[1;32m    980\u001B[0m         current_position.checkpoint.restore_saveables(\n\u001B[0;32m--> 981\u001B[0;31m             tensor_saveables, python_saveables))\n\u001B[0m\u001B[1;32m    982\u001B[0m     \u001B[0;32mreturn\u001B[0m \u001B[0mrestore_ops\u001B[0m\u001B[0;34m\u001B[0m\u001B[0;34m\u001B[0m\u001B[0m\n\u001B[1;32m    983\u001B[0m \u001B[0;34m\u001B[0m\u001B[0m\n",
      "\u001B[0;32m~/Deep Learning/road-to-deep-learning/road-to-deep-learning/venv/lib/python3.6/site-packages/tensorflow/python/training/tracking/util.py\u001B[0m in \u001B[0;36mrestore_saveables\u001B[0;34m(self, tensor_saveables, python_saveables)\u001B[0m\n\u001B[1;32m    350\u001B[0m              \"expecting %s\") % (tensor_saveables.keys(), validated_names))\n\u001B[1;32m    351\u001B[0m       new_restore_ops = functional_saver.MultiDeviceSaver(\n\u001B[0;32m--> 352\u001B[0;31m           validated_saveables).restore(self.save_path_tensor, self.options)\n\u001B[0m\u001B[1;32m    353\u001B[0m       \u001B[0;32mif\u001B[0m \u001B[0;32mnot\u001B[0m \u001B[0mcontext\u001B[0m\u001B[0;34m.\u001B[0m\u001B[0mexecuting_eagerly\u001B[0m\u001B[0;34m(\u001B[0m\u001B[0;34m)\u001B[0m\u001B[0;34m:\u001B[0m\u001B[0;34m\u001B[0m\u001B[0;34m\u001B[0m\u001B[0m\n\u001B[1;32m    354\u001B[0m         \u001B[0;32mfor\u001B[0m \u001B[0mname\u001B[0m\u001B[0;34m,\u001B[0m \u001B[0mrestore_op\u001B[0m \u001B[0;32min\u001B[0m \u001B[0msorted\u001B[0m\u001B[0;34m(\u001B[0m\u001B[0mnew_restore_ops\u001B[0m\u001B[0;34m.\u001B[0m\u001B[0mitems\u001B[0m\u001B[0;34m(\u001B[0m\u001B[0;34m)\u001B[0m\u001B[0;34m)\u001B[0m\u001B[0;34m:\u001B[0m\u001B[0;34m\u001B[0m\u001B[0;34m\u001B[0m\u001B[0m\n",
      "\u001B[0;32m~/Deep Learning/road-to-deep-learning/road-to-deep-learning/venv/lib/python3.6/site-packages/tensorflow/python/training/saving/functional_saver.py\u001B[0m in \u001B[0;36mrestore\u001B[0;34m(self, file_prefix, options)\u001B[0m\n\u001B[1;32m    337\u001B[0m       \u001B[0mrestore_ops\u001B[0m \u001B[0;34m=\u001B[0m \u001B[0mtf_function_restore\u001B[0m\u001B[0;34m(\u001B[0m\u001B[0;34m)\u001B[0m\u001B[0;34m\u001B[0m\u001B[0;34m\u001B[0m\u001B[0m\n\u001B[1;32m    338\u001B[0m     \u001B[0;32melse\u001B[0m\u001B[0;34m:\u001B[0m\u001B[0;34m\u001B[0m\u001B[0;34m\u001B[0m\u001B[0m\n\u001B[0;32m--> 339\u001B[0;31m       \u001B[0mrestore_ops\u001B[0m \u001B[0;34m=\u001B[0m \u001B[0mrestore_fn\u001B[0m\u001B[0;34m(\u001B[0m\u001B[0;34m)\u001B[0m\u001B[0;34m\u001B[0m\u001B[0;34m\u001B[0m\u001B[0m\n\u001B[0m\u001B[1;32m    340\u001B[0m \u001B[0;34m\u001B[0m\u001B[0m\n\u001B[1;32m    341\u001B[0m     \u001B[0;32mfor\u001B[0m \u001B[0mcallback\u001B[0m \u001B[0;32min\u001B[0m \u001B[0mself\u001B[0m\u001B[0;34m.\u001B[0m\u001B[0m_after_restore_callbacks\u001B[0m\u001B[0;34m:\u001B[0m\u001B[0;34m\u001B[0m\u001B[0;34m\u001B[0m\u001B[0m\n",
      "\u001B[0;32m~/Deep Learning/road-to-deep-learning/road-to-deep-learning/venv/lib/python3.6/site-packages/tensorflow/python/training/saving/functional_saver.py\u001B[0m in \u001B[0;36mrestore_fn\u001B[0;34m()\u001B[0m\n\u001B[1;32m    321\u001B[0m       \u001B[0;32mfor\u001B[0m \u001B[0mdevice\u001B[0m\u001B[0;34m,\u001B[0m \u001B[0msaver\u001B[0m \u001B[0;32min\u001B[0m \u001B[0msorted\u001B[0m\u001B[0;34m(\u001B[0m\u001B[0mself\u001B[0m\u001B[0;34m.\u001B[0m\u001B[0m_single_device_savers\u001B[0m\u001B[0;34m.\u001B[0m\u001B[0mitems\u001B[0m\u001B[0;34m(\u001B[0m\u001B[0;34m)\u001B[0m\u001B[0;34m)\u001B[0m\u001B[0;34m:\u001B[0m\u001B[0;34m\u001B[0m\u001B[0;34m\u001B[0m\u001B[0m\n\u001B[1;32m    322\u001B[0m         \u001B[0;32mwith\u001B[0m \u001B[0mops\u001B[0m\u001B[0;34m.\u001B[0m\u001B[0mdevice\u001B[0m\u001B[0;34m(\u001B[0m\u001B[0mdevice\u001B[0m\u001B[0;34m)\u001B[0m\u001B[0;34m:\u001B[0m\u001B[0;34m\u001B[0m\u001B[0;34m\u001B[0m\u001B[0m\n\u001B[0;32m--> 323\u001B[0;31m           \u001B[0mrestore_ops\u001B[0m\u001B[0;34m.\u001B[0m\u001B[0mupdate\u001B[0m\u001B[0;34m(\u001B[0m\u001B[0msaver\u001B[0m\u001B[0;34m.\u001B[0m\u001B[0mrestore\u001B[0m\u001B[0;34m(\u001B[0m\u001B[0mfile_prefix\u001B[0m\u001B[0;34m,\u001B[0m \u001B[0moptions\u001B[0m\u001B[0;34m)\u001B[0m\u001B[0;34m)\u001B[0m\u001B[0;34m\u001B[0m\u001B[0;34m\u001B[0m\u001B[0m\n\u001B[0m\u001B[1;32m    324\u001B[0m \u001B[0;34m\u001B[0m\u001B[0m\n\u001B[1;32m    325\u001B[0m       \u001B[0;32mreturn\u001B[0m \u001B[0mrestore_ops\u001B[0m\u001B[0;34m\u001B[0m\u001B[0;34m\u001B[0m\u001B[0m\n",
      "\u001B[0;32m~/Deep Learning/road-to-deep-learning/road-to-deep-learning/venv/lib/python3.6/site-packages/tensorflow/python/training/saving/functional_saver.py\u001B[0m in \u001B[0;36mrestore\u001B[0;34m(self, file_prefix, options)\u001B[0m\n\u001B[1;32m    107\u001B[0m     \u001B[0;32mwith\u001B[0m \u001B[0mops\u001B[0m\u001B[0;34m.\u001B[0m\u001B[0mdevice\u001B[0m\u001B[0;34m(\u001B[0m\u001B[0mrestore_device\u001B[0m\u001B[0;34m)\u001B[0m\u001B[0;34m:\u001B[0m\u001B[0;34m\u001B[0m\u001B[0;34m\u001B[0m\u001B[0m\n\u001B[1;32m    108\u001B[0m       restored_tensors = io_ops.restore_v2(\n\u001B[0;32m--> 109\u001B[0;31m           file_prefix, tensor_names, tensor_slices, tensor_dtypes)\n\u001B[0m\u001B[1;32m    110\u001B[0m     structured_restored_tensors = nest.pack_sequence_as(\n\u001B[1;32m    111\u001B[0m         tensor_structure, restored_tensors)\n",
      "\u001B[0;32m~/Deep Learning/road-to-deep-learning/road-to-deep-learning/venv/lib/python3.6/site-packages/tensorflow/python/ops/gen_io_ops.py\u001B[0m in \u001B[0;36mrestore_v2\u001B[0;34m(prefix, tensor_names, shape_and_slices, dtypes, name)\u001B[0m\n\u001B[1;32m   1479\u001B[0m       return restore_v2_eager_fallback(\n\u001B[1;32m   1480\u001B[0m           \u001B[0mprefix\u001B[0m\u001B[0;34m,\u001B[0m \u001B[0mtensor_names\u001B[0m\u001B[0;34m,\u001B[0m \u001B[0mshape_and_slices\u001B[0m\u001B[0;34m,\u001B[0m \u001B[0mdtypes\u001B[0m\u001B[0;34m=\u001B[0m\u001B[0mdtypes\u001B[0m\u001B[0;34m,\u001B[0m \u001B[0mname\u001B[0m\u001B[0;34m=\u001B[0m\u001B[0mname\u001B[0m\u001B[0;34m,\u001B[0m\u001B[0;34m\u001B[0m\u001B[0;34m\u001B[0m\u001B[0m\n\u001B[0;32m-> 1481\u001B[0;31m           ctx=_ctx)\n\u001B[0m\u001B[1;32m   1482\u001B[0m     \u001B[0;32mexcept\u001B[0m \u001B[0m_core\u001B[0m\u001B[0;34m.\u001B[0m\u001B[0m_SymbolicException\u001B[0m\u001B[0;34m:\u001B[0m\u001B[0;34m\u001B[0m\u001B[0;34m\u001B[0m\u001B[0m\n\u001B[1;32m   1483\u001B[0m       \u001B[0;32mpass\u001B[0m  \u001B[0;31m# Add nodes to the TensorFlow graph.\u001B[0m\u001B[0;34m\u001B[0m\u001B[0;34m\u001B[0m\u001B[0m\n",
      "\u001B[0;32m~/Deep Learning/road-to-deep-learning/road-to-deep-learning/venv/lib/python3.6/site-packages/tensorflow/python/ops/gen_io_ops.py\u001B[0m in \u001B[0;36mrestore_v2_eager_fallback\u001B[0;34m(prefix, tensor_names, shape_and_slices, dtypes, name, ctx)\u001B[0m\n\u001B[1;32m   1517\u001B[0m   \u001B[0m_attrs\u001B[0m \u001B[0;34m=\u001B[0m \u001B[0;34m(\u001B[0m\u001B[0;34m\"dtypes\"\u001B[0m\u001B[0;34m,\u001B[0m \u001B[0mdtypes\u001B[0m\u001B[0;34m)\u001B[0m\u001B[0;34m\u001B[0m\u001B[0;34m\u001B[0m\u001B[0m\n\u001B[1;32m   1518\u001B[0m   _result = _execute.execute(b\"RestoreV2\", len(dtypes), inputs=_inputs_flat,\n\u001B[0;32m-> 1519\u001B[0;31m                              attrs=_attrs, ctx=ctx, name=name)\n\u001B[0m\u001B[1;32m   1520\u001B[0m   \u001B[0;32mif\u001B[0m \u001B[0m_execute\u001B[0m\u001B[0;34m.\u001B[0m\u001B[0mmust_record_gradient\u001B[0m\u001B[0;34m(\u001B[0m\u001B[0;34m)\u001B[0m\u001B[0;34m:\u001B[0m\u001B[0;34m\u001B[0m\u001B[0;34m\u001B[0m\u001B[0m\n\u001B[1;32m   1521\u001B[0m     _execute.record_gradient(\n",
      "\u001B[0;32m~/Deep Learning/road-to-deep-learning/road-to-deep-learning/venv/lib/python3.6/site-packages/tensorflow/python/eager/execute.py\u001B[0m in \u001B[0;36mquick_execute\u001B[0;34m(op_name, num_outputs, inputs, attrs, ctx, name)\u001B[0m\n\u001B[1;32m     58\u001B[0m     \u001B[0mctx\u001B[0m\u001B[0;34m.\u001B[0m\u001B[0mensure_initialized\u001B[0m\u001B[0;34m(\u001B[0m\u001B[0;34m)\u001B[0m\u001B[0;34m\u001B[0m\u001B[0;34m\u001B[0m\u001B[0m\n\u001B[1;32m     59\u001B[0m     tensors = pywrap_tfe.TFE_Py_Execute(ctx._handle, device_name, op_name,\n\u001B[0;32m---> 60\u001B[0;31m                                         inputs, attrs, num_outputs)\n\u001B[0m\u001B[1;32m     61\u001B[0m   \u001B[0;32mexcept\u001B[0m \u001B[0mcore\u001B[0m\u001B[0;34m.\u001B[0m\u001B[0m_NotOkStatusException\u001B[0m \u001B[0;32mas\u001B[0m \u001B[0me\u001B[0m\u001B[0;34m:\u001B[0m\u001B[0;34m\u001B[0m\u001B[0;34m\u001B[0m\u001B[0m\n\u001B[1;32m     62\u001B[0m     \u001B[0;32mif\u001B[0m \u001B[0mname\u001B[0m \u001B[0;32mis\u001B[0m \u001B[0;32mnot\u001B[0m \u001B[0;32mNone\u001B[0m\u001B[0;34m:\u001B[0m\u001B[0;34m\u001B[0m\u001B[0;34m\u001B[0m\u001B[0m\n",
      "\u001B[0;31mFailedPreconditionError\u001B[0m: Error executing an HTTP request: libcurl code 6 meaning 'Couldn't resolve host name', error details: Could not resolve host: storage.googleapis.com\n\t when reading gs://shield-phishing/face_verification/pretrained_models/face_net_nyoki/saved_model/variables/variables.data-00000-of-00001 [Op:RestoreV2]"
     ]
    }
   ],
   "source": [
    "model = keras.models.load_model('gs://shield-phishing/face_verification/pretrained_models/face_net_nyoki/saved_model/')\n",
    "\n",
    "print(model.inputs)\n",
    "print(model.outputs)"
   ],
   "metadata": {
    "collapsed": false,
    "pycharm": {
     "name": "#%%\n"
    }
   }
  },
  {
   "cell_type": "code",
   "execution_count": 2,
   "outputs": [],
   "source": [
    "def img_to_encoding(image_path, model):\n",
    "    img = tf.keras.preprocessing.image.load_img(image_path, target_size=(160, 160))\n",
    "    img = np.around(np.array(img) / 255.0, decimals=12)\n",
    "    x_train = np.expand_dims(img, axis=0)\n",
    "    embedding = model.predict_on_batch(x_train)\n",
    "\n",
    "    return embedding / np.linalg.norm(embedding, ord=2)  # rescale the encoding vectors to have L2 norm equal to one"
   ],
   "metadata": {
    "collapsed": false,
    "pycharm": {
     "name": "#%%\n"
    }
   }
  },
  {
   "cell_type": "code",
   "execution_count": 3,
   "outputs": [],
   "source": [
    "def verify(encoding_1, encoding_2):\n",
    "    # Compute distance\n",
    "    dist = np.linalg.norm(encoding_1 - encoding_2)\n",
    "\n",
    "    if dist < 0.7:\n",
    "        verified = True\n",
    "    else:\n",
    "        verified = False\n",
    "    print(\"dist\", dist)\n",
    "\n",
    "    return verified"
   ],
   "metadata": {
    "collapsed": false,
    "pycharm": {
     "name": "#%%\n"
    }
   }
  },
  {
   "cell_type": "code",
   "execution_count": 10,
   "outputs": [
    {
     "name": "stdout",
     "output_type": "stream",
     "text": [
      "(0.5436483, True)\n",
      "(0.386163, True)\n",
      "(1.3963861, False)\n"
     ]
    }
   ],
   "source": [
    "print(verify(img_to_encoding(\"./tutorial/images/camera_1.jpg\", model), img_to_encoding(\"./tutorial/images/bertrand.jpg\", model)))\n",
    "print(verify(img_to_encoding(\"./tutorial/images/camera_3.jpg\", model), img_to_encoding(\"./tutorial/images/bertrand.jpg\", model)))\n",
    "print(verify(img_to_encoding(\"./tutorial/images/camera_1.jpg\", model), img_to_encoding(\"./tutorial/images/younes.jpg\", model)))"
   ],
   "metadata": {
    "collapsed": false,
    "pycharm": {
     "name": "#%%\n"
    }
   }
  },
  {
   "cell_type": "code",
   "execution_count": 6,
   "outputs": [
    {
     "name": "stdout",
     "output_type": "stream",
     "text": [
      "dist 0.34800583825135173\n",
      "True\n"
     ]
    }
   ],
   "source": [
    "my_face_1 = [\n",
    "    0.07694248110055923,\n",
    "    0.6732915639877319,\n",
    "    0.4158965051174164,\n",
    "    -1.4763073921203613,\n",
    "    0.3353734016418457,\n",
    "    0.26575347781181335,\n",
    "    0.2088325172662735,\n",
    "    -0.4508192539215088,\n",
    "    -1.112831473350525,\n",
    "    -0.6273198127746582,\n",
    "    1.258985996246338,\n",
    "    -0.211908757686615,\n",
    "    -0.7667157649993896,\n",
    "    -0.7186007499694824,\n",
    "    0.07980023324489594,\n",
    "    0.6085467338562012,\n",
    "    -0.45493510365486145,\n",
    "    -1.0028132200241089,\n",
    "    -0.18353530764579773,\n",
    "    -0.9181604385375977,\n",
    "    -0.5552465915679932,\n",
    "    0.566446840763092,\n",
    "    -0.9738317728042603,\n",
    "    -0.02938126027584076,\n",
    "    -0.25637996196746826,\n",
    "    -0.5368854403495789,\n",
    "    -0.20359750092029572,\n",
    "    1.7466679811477661,\n",
    "    -0.7551388740539551,\n",
    "    1.0604450702667236,\n",
    "    -0.466922789812088,\n",
    "    0.5792308449745178,\n",
    "    -0.296564519405365,\n",
    "    -0.9894676804542542,\n",
    "    0.3863237798213959,\n",
    "    0.9283337593078613,\n",
    "    -0.6011855006217957,\n",
    "    0.33955734968185425,\n",
    "    2.4371557235717773,\n",
    "    0.526861310005188,\n",
    "    -0.5153965353965759,\n",
    "    -0.7562817931175232,\n",
    "    -1.2965705394744873,\n",
    "    0.1259453445672989,\n",
    "    0.4270910918712616,\n",
    "    -0.08592921495437622,\n",
    "    -0.5522656440734863,\n",
    "    -0.5188524723052979,\n",
    "    -0.35505175590515137,\n",
    "    0.3322279453277588,\n",
    "    -0.6111497282981873,\n",
    "    0.5956258177757263,\n",
    "    0.5661174058914185,\n",
    "    -0.531447172164917,\n",
    "    -0.5788691639900208,\n",
    "    1.772686243057251,\n",
    "    -1.1425659656524658,\n",
    "    -0.8795245885848999,\n",
    "    -1.0560685396194458,\n",
    "    0.17185452580451965,\n",
    "    -0.7317959666252136,\n",
    "    -0.6729159951210022,\n",
    "    0.09327536821365356,\n",
    "    -1.3626008033752441,\n",
    "    -0.38450896739959717,\n",
    "    0.5909135937690735,\n",
    "    -0.26837611198425293,\n",
    "    0.3219907879829407,\n",
    "    0.21859991550445557,\n",
    "    0.22832949459552765,\n",
    "    0.11736635118722916,\n",
    "    0.5668905973434448,\n",
    "    -0.03544161096215248,\n",
    "    -1.3071726560592651,\n",
    "    0.2085334062576294,\n",
    "    0.43109333515167236,\n",
    "    -0.8846365213394165,\n",
    "    0.8974361419677734,\n",
    "    -0.5565587282180786,\n",
    "    1.5254833698272705,\n",
    "    0.5364166498184204,\n",
    "    -0.8094819784164429,\n",
    "    -0.5353508591651917,\n",
    "    1.3601610660552979,\n",
    "    1.384323000907898,\n",
    "    0.2786451280117035,\n",
    "    0.4086233079433441,\n",
    "    -0.19735081493854523,\n",
    "    0.05895841121673584,\n",
    "    -0.30331531167030334,\n",
    "    1.9625205993652344,\n",
    "    -0.032670848071575165,\n",
    "    0.07581217586994171,\n",
    "    -0.23728543519973755,\n",
    "    0.13642853498458862,\n",
    "    1.1073323488235474,\n",
    "    -0.4177526533603668,\n",
    "    -1.3432353734970093,\n",
    "    -1.1059753894805908,\n",
    "    -0.520370364189148,\n",
    "    -0.7409551739692688,\n",
    "    0.49475979804992676,\n",
    "    0.6804914474487305,\n",
    "    -1.7120883464813232,\n",
    "    -0.620806097984314,\n",
    "    -1.209470272064209,\n",
    "    0.5011812448501587,\n",
    "    -0.6547195911407471,\n",
    "    0.2528482973575592,\n",
    "    0.6519810557365417,\n",
    "    0.596581220626831,\n",
    "    -0.3206111192703247,\n",
    "    0.10284454375505447,\n",
    "    0.09699765592813492,\n",
    "    0.8972656726837158,\n",
    "    0.7013847827911377,\n",
    "    0.4856734573841095,\n",
    "    2.199190139770508,\n",
    "    -0.48060712218284607,\n",
    "    0.42287477850914,\n",
    "    -0.2546166777610779,\n",
    "    0.6862845420837402,\n",
    "    2.311567783355713,\n",
    "    0.031679898500442505,\n",
    "    0.10628251731395721,\n",
    "    -0.7424847483634949,\n",
    "    -1.0049861669540405,\n",
    "    0.31195390224456787\n",
    "]\n",
    "\n",
    "my_face_2 = [\n",
    "    0.12357403337955475,\n",
    "    1.012105941772461,\n",
    "    0.044044263660907745,\n",
    "    -0.9890161752700806,\n",
    "    0.30965209007263184,\n",
    "    0.11240644007921219,\n",
    "    0.036749813705682755,\n",
    "    -0.2084299772977829,\n",
    "    -0.9868743419647217,\n",
    "    -0.6924331784248352,\n",
    "    0.9419795870780945,\n",
    "    -0.11687733232975006,\n",
    "    -0.9626286625862122,\n",
    "    -0.8356170654296875,\n",
    "    -0.07018721103668213,\n",
    "    0.829119861125946,\n",
    "    -0.6473039388656616,\n",
    "    -0.6881898045539856,\n",
    "    -0.5710949301719666,\n",
    "    -0.40619370341300964,\n",
    "    -0.38165217638015747,\n",
    "    1.0371853113174438,\n",
    "    -1.2827332019805908,\n",
    "    -0.17355817556381226,\n",
    "    -0.6902690529823303,\n",
    "    -0.6658127903938293,\n",
    "    -0.46435868740081787,\n",
    "    1.7929719686508179,\n",
    "    -0.8552287220954895,\n",
    "    0.910672128200531,\n",
    "    -0.3628750145435333,\n",
    "    0.4074957072734833,\n",
    "    -0.0771419033408165,\n",
    "    -0.9671555161476135,\n",
    "    0.5742457509040833,\n",
    "    1.028786301612854,\n",
    "    -0.7229625582695007,\n",
    "    -0.44760662317276,\n",
    "    2.0113778114318848,\n",
    "    0.6823660135269165,\n",
    "    -0.8880649209022522,\n",
    "    -0.4550357460975647,\n",
    "    -1.2996923923492432,\n",
    "    -0.2130664587020874,\n",
    "    0.1678224802017212,\n",
    "    -0.24043108522891998,\n",
    "    -0.31044241786003113,\n",
    "    0.07149489223957062,\n",
    "    -1.0871013402938843,\n",
    "    0.709739089012146,\n",
    "    -0.5452414751052856,\n",
    "    0.49191755056381226,\n",
    "    0.7578945159912109,\n",
    "    0.1028013601899147,\n",
    "    -0.059395816177129745,\n",
    "    1.437596321105957,\n",
    "    -1.3316525220870972,\n",
    "    -0.7383505702018738,\n",
    "    -0.8204578161239624,\n",
    "    -0.136938214302063,\n",
    "    -0.6970272064208984,\n",
    "    -0.80818772315979,\n",
    "    0.29297712445259094,\n",
    "    -0.9690948724746704,\n",
    "    0.05686815828084946,\n",
    "    0.6458823084831238,\n",
    "    -0.2992137372493744,\n",
    "    0.6922157406806946,\n",
    "    -0.023115137591958046,\n",
    "    -0.04733892157673836,\n",
    "    0.061703160405159,\n",
    "    0.1917724311351776,\n",
    "    0.3085629343986511,\n",
    "    -1.1470186710357666,\n",
    "    0.08537580072879791,\n",
    "    0.7471730709075928,\n",
    "    -0.5507043600082397,\n",
    "    1.1863301992416382,\n",
    "    -0.07457055896520615,\n",
    "    1.2915061712265015,\n",
    "    0.36806946992874146,\n",
    "    -1.0388890504837036,\n",
    "    -0.7841486930847168,\n",
    "    1.4695125818252563,\n",
    "    1.5858368873596191,\n",
    "    -0.1262262910604477,\n",
    "    0.19236209988594055,\n",
    "    -0.2579692602157593,\n",
    "    0.514272928237915,\n",
    "    -0.20532427728176117,\n",
    "    1.809226155281067,\n",
    "    0.22328856587409973,\n",
    "    -0.1224944144487381,\n",
    "    -0.24837198853492737,\n",
    "    -0.21940642595291138,\n",
    "    0.8442835211753845,\n",
    "    -0.502853274345398,\n",
    "    -1.5942442417144775,\n",
    "    -0.9450085163116455,\n",
    "    -0.4488261640071869,\n",
    "    -0.6626699566841125,\n",
    "    0.9943333268165588,\n",
    "    0.3306596875190735,\n",
    "    -1.4761425256729126,\n",
    "    -0.44001269340515137,\n",
    "    -1.5084279775619507,\n",
    "    0.449296236038208,\n",
    "    -0.45168182253837585,\n",
    "    0.24517780542373657,\n",
    "    0.6854455471038818,\n",
    "    0.9560760855674744,\n",
    "    -0.2452080398797989,\n",
    "    0.19243094325065613,\n",
    "    0.5097388625144958,\n",
    "    0.6080493927001953,\n",
    "    0.8398565053939819,\n",
    "    0.3113359212875366,\n",
    "    2.037128210067749,\n",
    "    -0.28732046484947205,\n",
    "    0.5267469882965088,\n",
    "    -0.5641356706619263,\n",
    "    0.613065242767334,\n",
    "    1.8649907112121582,\n",
    "    -0.2734779119491577,\n",
    "    0.3641655445098877,\n",
    "    -0.668705403804779,\n",
    "    -0.7612277269363403,\n",
    "    0.136443093419075\n",
    "]\n",
    "my_face_1 = np.asarray(my_face_1)\n",
    "my_face_2 = np.asarray(my_face_2)\n",
    "my_face_1 = my_face_1 / np.linalg.norm(my_face_1, ord=2)\n",
    "my_face_2 = my_face_2 / np.linalg.norm(my_face_2, ord=2)\n",
    "print(verify(my_face_1, my_face_2))"
   ],
   "metadata": {
    "collapsed": false,
    "pycharm": {
     "name": "#%%\n"
    }
   }
  },
  {
   "cell_type": "markdown",
   "source": [
    "#### Ways to improve your facial recognition model\n",
    "\n",
    "- Put more images of each person (under different lighting conditions, taken on different days, etc.) into the database. Then, given a new image, compare the new face to multiple pictures of the person. This would increase accuracy.\n",
    "- Crop the images to contain just the face, and less of the \"border\" region around the face. This preprocessing removes some of the irrelevant pixels around the face, and also makes the algorithm more robust."
   ],
   "metadata": {
    "collapsed": false,
    "pycharm": {
     "name": "#%% md\n"
    }
   }
  }
 ],
 "metadata": {
  "kernelspec": {
   "display_name": "Python 3",
   "language": "python",
   "name": "python3"
  },
  "language_info": {
   "codemirror_mode": {
    "name": "ipython",
    "version": 2
   },
   "file_extension": ".py",
   "mimetype": "text/x-python",
   "name": "python",
   "nbconvert_exporter": "python",
   "pygments_lexer": "ipython2",
   "version": "2.7.6"
  }
 },
 "nbformat": 4,
 "nbformat_minor": 0
}