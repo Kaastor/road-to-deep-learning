{
 "cells": [
  {
   "cell_type": "code",
   "execution_count": 1,
   "outputs": [],
   "source": [
    "# Remove duplicates from CSV\n",
    "from more_itertools import unique_everseen\n",
    "with open('/home/przemek/GAT/phishing-dataset/gatshield_browsing-C01djqfsr.csv', 'r') as f, open('/home/przemek/GAT/phishing-dataset/gatshield_browsing-C01djqfsr-nodups.csv', 'w') as out_file:\n",
    "    out_file.writelines(unique_everseen(f))"
   ],
   "metadata": {
    "collapsed": false,
    "pycharm": {
     "name": "#%%\n"
    }
   }
  },
  {
   "cell_type": "code",
   "execution_count": 2,
   "outputs": [
    {
     "name": "stdout",
     "output_type": "stream",
     "text": [
      "Number of lines present:- 4401008\n"
     ]
    }
   ],
   "source": [
    "# Number of lines in CSV\n",
    "import pandas as pd\n",
    "\n",
    "# read CSV file\n",
    "results = pd.read_csv('/home/przemek/GAT/phishing-dataset/gatshield_browsing-C01djqfsr-nodups.csv')\n",
    "# count no. of lines\n",
    "print(\"Number of lines present: \", len(results))"
   ],
   "metadata": {
    "collapsed": false,
    "pycharm": {
     "name": "#%%\n"
    }
   }
  }
 ],
 "metadata": {
  "kernelspec": {
   "display_name": "Python 3",
   "language": "python",
   "name": "python3"
  },
  "language_info": {
   "codemirror_mode": {
    "name": "ipython",
    "version": 2
   },
   "file_extension": ".py",
   "mimetype": "text/x-python",
   "name": "python",
   "nbconvert_exporter": "python",
   "pygments_lexer": "ipython2",
   "version": "2.7.6"
  }
 },
 "nbformat": 4,
 "nbformat_minor": 0
}